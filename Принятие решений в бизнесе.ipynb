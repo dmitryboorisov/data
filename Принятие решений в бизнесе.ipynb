{
 "cells": [
  {
   "cell_type": "markdown",
   "metadata": {},
   "source": [
    "<div style=\"border:solid Chocolate 2px; padding: 40px\">\n",
    "\n",
    "<b>Дмитрий, привет!👋</b>\n",
    "\n",
    "Меня зовут Евгений Хоран, я буду ревьюером твоего проекта. Ты можешь обращаться ко мне на \"ты\"😏 Надеюсь, тебя также не смутит, если я буду обращаться к тебе на \"ты\", но если это неудобно, обязательно скажи об этом!\n",
    "\n",
    "Пожалуйста, **не удаляй мои комментарии**, они будут особенно полезны для нашей работы в случае повторной проверки проекта. \n",
    "\n",
    "\n",
    "Ты также можешь реагировать на мои комментарии своими, выделяя их цветами и наиболее понравившимся тебе способом оформления, но явно  отличающимся от моих комментариев. Это нужно, чтобы не создавалась путаница😉\n",
    "<div class=\"alert alert-info\" role=\"alert\">\n",
    "<h2>Комментарий студента<a class=\"tocSkip\"></h2>\n",
    "    \n",
    "Например, это можно сделать так    \n",
    "    </div>    \n",
    "Ты можешь найти мои комментарии, обозначенные <font color='green'>зеленым</font>, <font color='gold'>желтым</font> и <font color='red'>красным</font> цветами, например:\n",
    "\n",
    "<br/>\n",
    "\n",
    "\n",
    "<div class=\"alert alert-success\">\n",
    "<h2> Комментарий ревьюера <a class=\"tocSkip\"> </h2>\n",
    "\n",
    "<b>Все отлично!👍:</b> В случае, если решение на отдельном шаге является полностью правильным.</div>\n",
    "\n",
    "<br/>\n",
    "\n",
    "<div class=\"alert alert-warning\">\n",
    "    <h2> Комментарий ревьюера <a class=\"tocSkip\"> </h2>\n",
    "    \n",
    "<b>Некоторые замечания и рекомендации💡:</b> В случае, когда решение на отдельном шаге станет еще лучше, если внести небольшие коррективы.\n",
    "</div>\n",
    "\n",
    "\n",
    "<br/>\n",
    "<div class=\"alert alert-block alert-danger\">\n",
    "<h2> Комментарий ревьюера <a class=\"tocSkip\"></h2>\n",
    "\n",
    "    \n",
    "<b>На доработку🤔:</b>\n",
    " В случае, когда решение на отдельном шаге требует существенной переработки и внесения правок. Напоминаю, что проект не может быть принят с первого раза, если ревью содержит комментарии, рекомендующие доработать шаги.\n",
    "</div>\n",
    "    \n",
    "Увидев у тебя неточность, в первый раз я лишь укажу на ее наличие и дам тебе возможность самому найти и исправить ее. На реальной работе твой руководитель будет поступать также, и я пытаюсь подготовить тебя именно к работе аналитиком. Но если ты пока не справишься с такой задачей - при следующей проверке я дам более точную подсказку!🤓"
   ]
  },
  {
   "cell_type": "markdown",
   "metadata": {},
   "source": [
    "### Введение"
   ]
  },
  {
   "cell_type": "markdown",
   "metadata": {},
   "source": [
    "Привет!\n",
    "В данном проекте я буду делать следующее: буду приотезировать гипотезы и исследовать результаты А/В-теста, после чего сделаю определенные выводы по полученным результатам."
   ]
  },
  {
   "cell_type": "markdown",
   "metadata": {},
   "source": [
    "Я выделяю в этом проекте две цели:\n",
    "    1. Приоретизировать гипотезы\n",
    "    2. На основании исследования результатов А/В теста сделать вывод о том, успешен или не успешен тест или стоит его продолжать"
   ]
  },
  {
   "cell_type": "markdown",
   "metadata": {},
   "source": [
    "### Описание данных:"
   ]
  },
  {
   "cell_type": "markdown",
   "metadata": {},
   "source": [
    "Данные для первой части\n",
    "\n",
    "Файл /datasets/hypothesis.csv. \n",
    "\n",
    "Hypothesis — краткое описание гипотезы;\n",
    "\n",
    "Reach — охват пользователей по 10-балльной шкале;\n",
    "\n",
    "Impact — влияние на пользователей по 10-балльной шкале;\n",
    "\n",
    "Confidence — уверенность в гипотезе по 10-балльной шкале;\n",
    "\n",
    "Efforts — затраты ресурсов на проверку гипотезы по 10-балльной шкале. Чем больше значение Efforts, тем дороже проверка гипотезы."
   ]
  },
  {
   "cell_type": "markdown",
   "metadata": {},
   "source": [
    "Данные для второй части\n",
    "\n",
    "Файл /datasets/orders.csv.\n",
    "\n",
    "transactionId — идентификатор заказа;\n",
    "\n",
    "visitorId — идентификатор пользователя, совершившего заказ;\n",
    "\n",
    "date — дата, когда был совершён заказ;\n",
    "\n",
    "revenue — выручка заказа;\n",
    "\n",
    "group — группа A/B-теста, в которую попал заказ.\n",
    "\n",
    "Файл /datasets/visitors.csv. \n",
    "\n",
    "date — дата;\n",
    "\n",
    "group — группа A/B-теста;\n",
    "\n",
    "visitors — количество пользователей в указанную дату в указанной группе A/B-теста"
   ]
  },
  {
   "cell_type": "markdown",
   "metadata": {},
   "source": [
    "<div class=\"alert alert-block alert-danger\">\n",
    "<h2> Комментарий ревьюера <a class=\"tocSkip\"></h2>\n",
    "<b>На доработку🤔:</b>\n",
    "    \n",
    "Здорово, что во вступлении к твоему проекту есть\n",
    "\n",
    "\n",
    "* краткое описание проекта.\n",
    "\n",
    "Вступление станет лучше, если ты добавишь в него:\n",
    "* заголовок,\n",
    "\n",
    "* цель проекта,\n",
    "\n",
    "* описание данных,\n",
    "\n",
    "* Твой проект станет намного удобней в использовании, если ты добавишь интерактивное оглавление — с помощью гиперссылок или в плагине toc. Материал об этом есть в студенческом notion, для получения ссылки и доступа обратись к куратору.\n",
    "\n",
    "Тогда получатель отчета сможет быстрей его понять.\n",
    "\n",
    "\n",
    "</div>"
   ]
  },
  {
   "cell_type": "markdown",
   "metadata": {},
   "source": [
    "<div class=\"alert alert-info\" role=\"alert\">\n",
    "<h2>Комментарий студента<a class=\"tocSkip\"></h2>\n",
    "Скорректировал. Под гиперссылками же имелось ввиду оглавление проекта, по которому можно переходить? Если я правильно понял, то добавил его.  \n",
    "    </div>   "
   ]
  },
  {
   "cell_type": "markdown",
   "metadata": {},
   "source": [
    "<div class=\"alert alert-success\">\n",
    "<h2> Комментарий ревьюера <font color= \"black\"> V2</font> <a class=\"tocSkip\"> </h2>\n",
    "<b>Все отлично!👍 :</b> \n",
    "\n",
    "Все верно. Вступление имеет все необходимое, чтобы быстро начать работу с проектом, молодец 🙂"
   ]
  },
  {
   "cell_type": "markdown",
   "metadata": {},
   "source": [
    "### Часть 1. Приоретизация гипотез"
   ]
  },
  {
   "cell_type": "code",
   "execution_count": 1,
   "metadata": {},
   "outputs": [],
   "source": [
    "import pandas as pd\n",
    "import numpy as np\n",
    "from scipy import stats as st\n",
    "import math as mth\n",
    "import datetime as dt\n",
    "import matplotlib.pyplot as plt\n",
    "from pandas.plotting import register_matplotlib_converters\n",
    "import warnings \n",
    "register_matplotlib_converters()\n",
    "import scipy.stats as stats"
   ]
  },
  {
   "cell_type": "code",
   "execution_count": 2,
   "metadata": {},
   "outputs": [],
   "source": [
    "hypothesis=pd.read_csv('/datasets/hypothesis.csv')"
   ]
  },
  {
   "cell_type": "code",
   "execution_count": 3,
   "metadata": {},
   "outputs": [
    {
     "name": "stdout",
     "output_type": "stream",
     "text": [
      "<class 'pandas.core.frame.DataFrame'>\n",
      "RangeIndex: 9 entries, 0 to 8\n",
      "Data columns (total 5 columns):\n",
      " #   Column      Non-Null Count  Dtype \n",
      "---  ------      --------------  ----- \n",
      " 0   Hypothesis  9 non-null      object\n",
      " 1   Reach       9 non-null      int64 \n",
      " 2   Impact      9 non-null      int64 \n",
      " 3   Confidence  9 non-null      int64 \n",
      " 4   Efforts     9 non-null      int64 \n",
      "dtypes: int64(4), object(1)\n",
      "memory usage: 488.0+ bytes\n"
     ]
    }
   ],
   "source": [
    "hypothesis.info()"
   ]
  },
  {
   "cell_type": "code",
   "execution_count": 4,
   "metadata": {},
   "outputs": [
    {
     "data": {
      "text/html": [
       "<div>\n",
       "<style scoped>\n",
       "    .dataframe tbody tr th:only-of-type {\n",
       "        vertical-align: middle;\n",
       "    }\n",
       "\n",
       "    .dataframe tbody tr th {\n",
       "        vertical-align: top;\n",
       "    }\n",
       "\n",
       "    .dataframe thead th {\n",
       "        text-align: right;\n",
       "    }\n",
       "</style>\n",
       "<table border=\"1\" class=\"dataframe\">\n",
       "  <thead>\n",
       "    <tr style=\"text-align: right;\">\n",
       "      <th></th>\n",
       "      <th>Hypothesis</th>\n",
       "      <th>Reach</th>\n",
       "      <th>Impact</th>\n",
       "      <th>Confidence</th>\n",
       "      <th>Efforts</th>\n",
       "    </tr>\n",
       "  </thead>\n",
       "  <tbody>\n",
       "    <tr>\n",
       "      <th>0</th>\n",
       "      <td>Добавить два новых канала привлечения трафика,...</td>\n",
       "      <td>3</td>\n",
       "      <td>10</td>\n",
       "      <td>8</td>\n",
       "      <td>6</td>\n",
       "    </tr>\n",
       "    <tr>\n",
       "      <th>1</th>\n",
       "      <td>Запустить собственную службу доставки, что сок...</td>\n",
       "      <td>2</td>\n",
       "      <td>5</td>\n",
       "      <td>4</td>\n",
       "      <td>10</td>\n",
       "    </tr>\n",
       "    <tr>\n",
       "      <th>2</th>\n",
       "      <td>Добавить блоки рекомендаций товаров на сайт ин...</td>\n",
       "      <td>8</td>\n",
       "      <td>3</td>\n",
       "      <td>7</td>\n",
       "      <td>3</td>\n",
       "    </tr>\n",
       "    <tr>\n",
       "      <th>3</th>\n",
       "      <td>Изменить структура категорий, что увеличит кон...</td>\n",
       "      <td>8</td>\n",
       "      <td>3</td>\n",
       "      <td>3</td>\n",
       "      <td>8</td>\n",
       "    </tr>\n",
       "    <tr>\n",
       "      <th>4</th>\n",
       "      <td>Изменить цвет фона главной страницы, чтобы уве...</td>\n",
       "      <td>3</td>\n",
       "      <td>1</td>\n",
       "      <td>1</td>\n",
       "      <td>1</td>\n",
       "    </tr>\n",
       "    <tr>\n",
       "      <th>5</th>\n",
       "      <td>Добавить страницу отзывов клиентов о магазине,...</td>\n",
       "      <td>3</td>\n",
       "      <td>2</td>\n",
       "      <td>2</td>\n",
       "      <td>3</td>\n",
       "    </tr>\n",
       "    <tr>\n",
       "      <th>6</th>\n",
       "      <td>Показать на главной странице баннеры с актуаль...</td>\n",
       "      <td>5</td>\n",
       "      <td>3</td>\n",
       "      <td>8</td>\n",
       "      <td>3</td>\n",
       "    </tr>\n",
       "    <tr>\n",
       "      <th>7</th>\n",
       "      <td>Добавить форму подписки на все основные страни...</td>\n",
       "      <td>10</td>\n",
       "      <td>7</td>\n",
       "      <td>8</td>\n",
       "      <td>5</td>\n",
       "    </tr>\n",
       "    <tr>\n",
       "      <th>8</th>\n",
       "      <td>Запустить акцию, дающую скидку на товар в день...</td>\n",
       "      <td>1</td>\n",
       "      <td>9</td>\n",
       "      <td>9</td>\n",
       "      <td>5</td>\n",
       "    </tr>\n",
       "  </tbody>\n",
       "</table>\n",
       "</div>"
      ],
      "text/plain": [
       "                                          Hypothesis  Reach  Impact  \\\n",
       "0  Добавить два новых канала привлечения трафика,...      3      10   \n",
       "1  Запустить собственную службу доставки, что сок...      2       5   \n",
       "2  Добавить блоки рекомендаций товаров на сайт ин...      8       3   \n",
       "3  Изменить структура категорий, что увеличит кон...      8       3   \n",
       "4  Изменить цвет фона главной страницы, чтобы уве...      3       1   \n",
       "5  Добавить страницу отзывов клиентов о магазине,...      3       2   \n",
       "6  Показать на главной странице баннеры с актуаль...      5       3   \n",
       "7  Добавить форму подписки на все основные страни...     10       7   \n",
       "8  Запустить акцию, дающую скидку на товар в день...      1       9   \n",
       "\n",
       "   Confidence  Efforts  \n",
       "0           8        6  \n",
       "1           4       10  \n",
       "2           7        3  \n",
       "3           3        8  \n",
       "4           1        1  \n",
       "5           2        3  \n",
       "6           8        3  \n",
       "7           8        5  \n",
       "8           9        5  "
      ]
     },
     "execution_count": 4,
     "metadata": {},
     "output_type": "execute_result"
    }
   ],
   "source": [
    "hypothesis"
   ]
  },
  {
   "cell_type": "markdown",
   "metadata": {},
   "source": [
    "<div class=\"alert alert-warning\">\n",
    "<h2> Комментарий ревьюера <a class=\"tocSkip\"> </h2>\n",
    "<b>Некоторые замечания и рекомендации💡:</b> \n",
    "        \n",
    "В такой таблице не видно гипотезу целиком. Это можно исправить, если увеличить максимальную ширину столбцов\n",
    "\n",
    "    pd.options.display.max_colwidth = 100"
   ]
  },
  {
   "cell_type": "code",
   "execution_count": 5,
   "metadata": {},
   "outputs": [],
   "source": [
    "hypothesis['ICE']=hypothesis['Impact']*hypothesis['Confidence']/hypothesis['Efforts']"
   ]
  },
  {
   "cell_type": "code",
   "execution_count": 6,
   "metadata": {},
   "outputs": [],
   "source": [
    "hypothesis['ICE']=round(hypothesis['ICE'], 2)"
   ]
  },
  {
   "cell_type": "code",
   "execution_count": 7,
   "metadata": {},
   "outputs": [
    {
     "data": {
      "text/html": [
       "<div>\n",
       "<style scoped>\n",
       "    .dataframe tbody tr th:only-of-type {\n",
       "        vertical-align: middle;\n",
       "    }\n",
       "\n",
       "    .dataframe tbody tr th {\n",
       "        vertical-align: top;\n",
       "    }\n",
       "\n",
       "    .dataframe thead th {\n",
       "        text-align: right;\n",
       "    }\n",
       "</style>\n",
       "<table border=\"1\" class=\"dataframe\">\n",
       "  <thead>\n",
       "    <tr style=\"text-align: right;\">\n",
       "      <th></th>\n",
       "      <th>Hypothesis</th>\n",
       "      <th>ICE</th>\n",
       "    </tr>\n",
       "  </thead>\n",
       "  <tbody>\n",
       "    <tr>\n",
       "      <th>8</th>\n",
       "      <td>Запустить акцию, дающую скидку на товар в день...</td>\n",
       "      <td>16.20</td>\n",
       "    </tr>\n",
       "    <tr>\n",
       "      <th>0</th>\n",
       "      <td>Добавить два новых канала привлечения трафика,...</td>\n",
       "      <td>13.33</td>\n",
       "    </tr>\n",
       "    <tr>\n",
       "      <th>7</th>\n",
       "      <td>Добавить форму подписки на все основные страни...</td>\n",
       "      <td>11.20</td>\n",
       "    </tr>\n",
       "    <tr>\n",
       "      <th>6</th>\n",
       "      <td>Показать на главной странице баннеры с актуаль...</td>\n",
       "      <td>8.00</td>\n",
       "    </tr>\n",
       "    <tr>\n",
       "      <th>2</th>\n",
       "      <td>Добавить блоки рекомендаций товаров на сайт ин...</td>\n",
       "      <td>7.00</td>\n",
       "    </tr>\n",
       "    <tr>\n",
       "      <th>1</th>\n",
       "      <td>Запустить собственную службу доставки, что сок...</td>\n",
       "      <td>2.00</td>\n",
       "    </tr>\n",
       "    <tr>\n",
       "      <th>5</th>\n",
       "      <td>Добавить страницу отзывов клиентов о магазине,...</td>\n",
       "      <td>1.33</td>\n",
       "    </tr>\n",
       "    <tr>\n",
       "      <th>3</th>\n",
       "      <td>Изменить структура категорий, что увеличит кон...</td>\n",
       "      <td>1.12</td>\n",
       "    </tr>\n",
       "    <tr>\n",
       "      <th>4</th>\n",
       "      <td>Изменить цвет фона главной страницы, чтобы уве...</td>\n",
       "      <td>1.00</td>\n",
       "    </tr>\n",
       "  </tbody>\n",
       "</table>\n",
       "</div>"
      ],
      "text/plain": [
       "                                          Hypothesis    ICE\n",
       "8  Запустить акцию, дающую скидку на товар в день...  16.20\n",
       "0  Добавить два новых канала привлечения трафика,...  13.33\n",
       "7  Добавить форму подписки на все основные страни...  11.20\n",
       "6  Показать на главной странице баннеры с актуаль...   8.00\n",
       "2  Добавить блоки рекомендаций товаров на сайт ин...   7.00\n",
       "1  Запустить собственную службу доставки, что сок...   2.00\n",
       "5  Добавить страницу отзывов клиентов о магазине,...   1.33\n",
       "3  Изменить структура категорий, что увеличит кон...   1.12\n",
       "4  Изменить цвет фона главной страницы, чтобы уве...   1.00"
      ]
     },
     "metadata": {},
     "output_type": "display_data"
    }
   ],
   "source": [
    "display(hypothesis[['Hypothesis', 'ICE']].sort_values(by='ICE', ascending=False))"
   ]
  },
  {
   "cell_type": "markdown",
   "metadata": {},
   "source": [
    "<div class=\"alert alert-block alert-danger\">\n",
    "<h2> Комментарий ревьюера <a class=\"tocSkip\"></h2>   \n",
    "<b>На доработку🤔:</b>\n",
    "    \n",
    "Верные расчеты\n",
    "    \n",
    "При работе в `jupyter notebook` стоит использовать `display`. Пожалуйста, замени `print` на `display`\n",
    "    \n",
    "    \n",
    "    \n",
    "Для `ICE` можно добавить округление , *чтобы не было переизбытка информации*\n",
    "    \n",
    "Прикреплю ссылку на официальный сайт `pandas` с примером\n",
    "    \n",
    "https://pandas.pydata.org/pandas-docs/stable/reference/api/pandas.DataFrame.round.html       "
   ]
  },
  {
   "cell_type": "markdown",
   "metadata": {},
   "source": [
    "<div class=\"alert alert-info\" role=\"alert\">\n",
    "<h2>Комментарий студента<a class=\"tocSkip\"></h2>\n",
    "Скорректировал, сразу не обратил внимания, спасибо.\n",
    "    </div>  "
   ]
  },
  {
   "cell_type": "markdown",
   "metadata": {},
   "source": [
    "<div class=\"alert alert-success\">\n",
    "<h2> Комментарий ревьюера <font color= \"black\"> V2</font> <a class=\"tocSkip\"> </h2>\n",
    "<b>Все отлично!👍 :</b> \n",
    "\n",
    "Корректный вывод"
   ]
  },
  {
   "cell_type": "code",
   "execution_count": 8,
   "metadata": {},
   "outputs": [],
   "source": [
    "hypothesis['RICE']=hypothesis['Reach']*hypothesis['Impact']*hypothesis['Confidence']/hypothesis['Efforts']"
   ]
  },
  {
   "cell_type": "code",
   "execution_count": 9,
   "metadata": {},
   "outputs": [
    {
     "data": {
      "text/html": [
       "<div>\n",
       "<style scoped>\n",
       "    .dataframe tbody tr th:only-of-type {\n",
       "        vertical-align: middle;\n",
       "    }\n",
       "\n",
       "    .dataframe tbody tr th {\n",
       "        vertical-align: top;\n",
       "    }\n",
       "\n",
       "    .dataframe thead th {\n",
       "        text-align: right;\n",
       "    }\n",
       "</style>\n",
       "<table border=\"1\" class=\"dataframe\">\n",
       "  <thead>\n",
       "    <tr style=\"text-align: right;\">\n",
       "      <th></th>\n",
       "      <th>Hypothesis</th>\n",
       "      <th>RICE</th>\n",
       "    </tr>\n",
       "  </thead>\n",
       "  <tbody>\n",
       "    <tr>\n",
       "      <th>7</th>\n",
       "      <td>Добавить форму подписки на все основные страни...</td>\n",
       "      <td>112.0</td>\n",
       "    </tr>\n",
       "    <tr>\n",
       "      <th>2</th>\n",
       "      <td>Добавить блоки рекомендаций товаров на сайт ин...</td>\n",
       "      <td>56.0</td>\n",
       "    </tr>\n",
       "    <tr>\n",
       "      <th>0</th>\n",
       "      <td>Добавить два новых канала привлечения трафика,...</td>\n",
       "      <td>40.0</td>\n",
       "    </tr>\n",
       "    <tr>\n",
       "      <th>6</th>\n",
       "      <td>Показать на главной странице баннеры с актуаль...</td>\n",
       "      <td>40.0</td>\n",
       "    </tr>\n",
       "    <tr>\n",
       "      <th>8</th>\n",
       "      <td>Запустить акцию, дающую скидку на товар в день...</td>\n",
       "      <td>16.2</td>\n",
       "    </tr>\n",
       "    <tr>\n",
       "      <th>3</th>\n",
       "      <td>Изменить структура категорий, что увеличит кон...</td>\n",
       "      <td>9.0</td>\n",
       "    </tr>\n",
       "    <tr>\n",
       "      <th>1</th>\n",
       "      <td>Запустить собственную службу доставки, что сок...</td>\n",
       "      <td>4.0</td>\n",
       "    </tr>\n",
       "    <tr>\n",
       "      <th>5</th>\n",
       "      <td>Добавить страницу отзывов клиентов о магазине,...</td>\n",
       "      <td>4.0</td>\n",
       "    </tr>\n",
       "    <tr>\n",
       "      <th>4</th>\n",
       "      <td>Изменить цвет фона главной страницы, чтобы уве...</td>\n",
       "      <td>3.0</td>\n",
       "    </tr>\n",
       "  </tbody>\n",
       "</table>\n",
       "</div>"
      ],
      "text/plain": [
       "                                          Hypothesis   RICE\n",
       "7  Добавить форму подписки на все основные страни...  112.0\n",
       "2  Добавить блоки рекомендаций товаров на сайт ин...   56.0\n",
       "0  Добавить два новых канала привлечения трафика,...   40.0\n",
       "6  Показать на главной странице баннеры с актуаль...   40.0\n",
       "8  Запустить акцию, дающую скидку на товар в день...   16.2\n",
       "3  Изменить структура категорий, что увеличит кон...    9.0\n",
       "1  Запустить собственную службу доставки, что сок...    4.0\n",
       "5  Добавить страницу отзывов клиентов о магазине,...    4.0\n",
       "4  Изменить цвет фона главной страницы, чтобы уве...    3.0"
      ]
     },
     "metadata": {},
     "output_type": "display_data"
    }
   ],
   "source": [
    "display(hypothesis[['Hypothesis', 'RICE']].sort_values(by='RICE', ascending=False))"
   ]
  },
  {
   "cell_type": "markdown",
   "metadata": {},
   "source": [
    "Изменения в приоретизации гипотез можно оценить, используя определения параметров:\n",
    "Reach — скольких пользователей затронет изменение, которое вы хотите внести;\n",
    "Impact — насколько сильно изменение повлияет на пользователей, их опыт и удовлетворение от продукта;\n",
    "Confidence — насколько вы уверены, что это изменение повлияет на пользователей именно так;\n",
    "Efforts — сколько стоит протестировать эту гипотезу.\n",
    "\n",
    "Таким образом, получается, что разница в том, что RICE учитывает кол-во пользователей, на которых повлияет изменение, что привнесло изменения в приоретизации гипотез.\n",
    "Глобальных изменений не случилось, некоторые гипотезы опустились в рейтинге, а некоторые поднялись.\n",
    "Первые три места в ICE занимали гипотезы с номерами 8, 0, 7 а в RICE 7, 2, 0. Последнее место и там и там заняла гипотеза 4."
   ]
  },
  {
   "cell_type": "markdown",
   "metadata": {},
   "source": [
    "<div class=\"alert alert-success\">\n",
    "<h2> Комментарий ревьюера <a class=\"tocSkip\"> </h2>\n",
    "<b>Все отлично!👍:</b> \n",
    "    \n",
    "Верные расчеты и выводы. Чтобы сравнивать значения фреймворков стало удобнее, стоит расчитывать значения в одной таблице    "
   ]
  },
  {
   "cell_type": "markdown",
   "metadata": {},
   "source": [
    "###  Часть 2. Анализ A/B-теста"
   ]
  },
  {
   "cell_type": "markdown",
   "metadata": {},
   "source": [
    "### 2.1 Изучим данные"
   ]
  },
  {
   "cell_type": "code",
   "execution_count": 10,
   "metadata": {},
   "outputs": [],
   "source": [
    "orders=pd.read_csv('/datasets/orders.csv')"
   ]
  },
  {
   "cell_type": "code",
   "execution_count": 11,
   "metadata": {},
   "outputs": [],
   "source": [
    "visitors = pd.read_csv('/datasets/visitors.csv')"
   ]
  },
  {
   "cell_type": "code",
   "execution_count": 12,
   "metadata": {},
   "outputs": [
    {
     "name": "stdout",
     "output_type": "stream",
     "text": [
      "<class 'pandas.core.frame.DataFrame'>\n",
      "RangeIndex: 1197 entries, 0 to 1196\n",
      "Data columns (total 5 columns):\n",
      " #   Column         Non-Null Count  Dtype \n",
      "---  ------         --------------  ----- \n",
      " 0   transactionId  1197 non-null   int64 \n",
      " 1   visitorId      1197 non-null   int64 \n",
      " 2   date           1197 non-null   object\n",
      " 3   revenue        1197 non-null   int64 \n",
      " 4   group          1197 non-null   object\n",
      "dtypes: int64(3), object(2)\n",
      "memory usage: 46.9+ KB\n"
     ]
    }
   ],
   "source": [
    "orders.info()"
   ]
  },
  {
   "cell_type": "code",
   "execution_count": 13,
   "metadata": {},
   "outputs": [],
   "source": [
    "orders = orders.rename(columns={'transactionId': 'transaction_id', 'visitorId': 'visitor_id'})"
   ]
  },
  {
   "cell_type": "code",
   "execution_count": 14,
   "metadata": {},
   "outputs": [],
   "source": [
    "orders['date'] = orders['date'].map(\n",
    "    lambda x: dt.datetime.strptime(x, '%Y-%m-%d')\n",
    ")"
   ]
  },
  {
   "cell_type": "code",
   "execution_count": 15,
   "metadata": {},
   "outputs": [
    {
     "data": {
      "text/html": [
       "<div>\n",
       "<style scoped>\n",
       "    .dataframe tbody tr th:only-of-type {\n",
       "        vertical-align: middle;\n",
       "    }\n",
       "\n",
       "    .dataframe tbody tr th {\n",
       "        vertical-align: top;\n",
       "    }\n",
       "\n",
       "    .dataframe thead th {\n",
       "        text-align: right;\n",
       "    }\n",
       "</style>\n",
       "<table border=\"1\" class=\"dataframe\">\n",
       "  <thead>\n",
       "    <tr style=\"text-align: right;\">\n",
       "      <th></th>\n",
       "      <th>transaction_id</th>\n",
       "      <th>visitor_id</th>\n",
       "      <th>date</th>\n",
       "      <th>revenue</th>\n",
       "      <th>group</th>\n",
       "    </tr>\n",
       "  </thead>\n",
       "  <tbody>\n",
       "    <tr>\n",
       "      <th>0</th>\n",
       "      <td>3667963787</td>\n",
       "      <td>3312258926</td>\n",
       "      <td>2019-08-15</td>\n",
       "      <td>1650</td>\n",
       "      <td>B</td>\n",
       "    </tr>\n",
       "    <tr>\n",
       "      <th>1</th>\n",
       "      <td>2804400009</td>\n",
       "      <td>3642806036</td>\n",
       "      <td>2019-08-15</td>\n",
       "      <td>730</td>\n",
       "      <td>B</td>\n",
       "    </tr>\n",
       "    <tr>\n",
       "      <th>2</th>\n",
       "      <td>2961555356</td>\n",
       "      <td>4069496402</td>\n",
       "      <td>2019-08-15</td>\n",
       "      <td>400</td>\n",
       "      <td>A</td>\n",
       "    </tr>\n",
       "    <tr>\n",
       "      <th>3</th>\n",
       "      <td>3797467345</td>\n",
       "      <td>1196621759</td>\n",
       "      <td>2019-08-15</td>\n",
       "      <td>9759</td>\n",
       "      <td>B</td>\n",
       "    </tr>\n",
       "    <tr>\n",
       "      <th>4</th>\n",
       "      <td>2282983706</td>\n",
       "      <td>2322279887</td>\n",
       "      <td>2019-08-15</td>\n",
       "      <td>2308</td>\n",
       "      <td>B</td>\n",
       "    </tr>\n",
       "    <tr>\n",
       "      <th>5</th>\n",
       "      <td>182168103</td>\n",
       "      <td>935554773</td>\n",
       "      <td>2019-08-15</td>\n",
       "      <td>2210</td>\n",
       "      <td>B</td>\n",
       "    </tr>\n",
       "    <tr>\n",
       "      <th>6</th>\n",
       "      <td>398296753</td>\n",
       "      <td>2900797465</td>\n",
       "      <td>2019-08-15</td>\n",
       "      <td>1860</td>\n",
       "      <td>B</td>\n",
       "    </tr>\n",
       "    <tr>\n",
       "      <th>7</th>\n",
       "      <td>2626614568</td>\n",
       "      <td>78758296</td>\n",
       "      <td>2019-08-15</td>\n",
       "      <td>1044</td>\n",
       "      <td>A</td>\n",
       "    </tr>\n",
       "    <tr>\n",
       "      <th>8</th>\n",
       "      <td>1576988021</td>\n",
       "      <td>295230930</td>\n",
       "      <td>2019-08-15</td>\n",
       "      <td>13710</td>\n",
       "      <td>A</td>\n",
       "    </tr>\n",
       "    <tr>\n",
       "      <th>9</th>\n",
       "      <td>1506739906</td>\n",
       "      <td>1882260405</td>\n",
       "      <td>2019-08-15</td>\n",
       "      <td>1855</td>\n",
       "      <td>B</td>\n",
       "    </tr>\n",
       "  </tbody>\n",
       "</table>\n",
       "</div>"
      ],
      "text/plain": [
       "   transaction_id  visitor_id       date  revenue group\n",
       "0      3667963787  3312258926 2019-08-15     1650     B\n",
       "1      2804400009  3642806036 2019-08-15      730     B\n",
       "2      2961555356  4069496402 2019-08-15      400     A\n",
       "3      3797467345  1196621759 2019-08-15     9759     B\n",
       "4      2282983706  2322279887 2019-08-15     2308     B\n",
       "5       182168103   935554773 2019-08-15     2210     B\n",
       "6       398296753  2900797465 2019-08-15     1860     B\n",
       "7      2626614568    78758296 2019-08-15     1044     A\n",
       "8      1576988021   295230930 2019-08-15    13710     A\n",
       "9      1506739906  1882260405 2019-08-15     1855     B"
      ]
     },
     "execution_count": 15,
     "metadata": {},
     "output_type": "execute_result"
    }
   ],
   "source": [
    "orders.head(10)"
   ]
  },
  {
   "cell_type": "code",
   "execution_count": 16,
   "metadata": {
    "scrolled": true
   },
   "outputs": [
    {
     "name": "stdout",
     "output_type": "stream",
     "text": [
      "<class 'pandas.core.frame.DataFrame'>\n",
      "RangeIndex: 62 entries, 0 to 61\n",
      "Data columns (total 3 columns):\n",
      " #   Column    Non-Null Count  Dtype \n",
      "---  ------    --------------  ----- \n",
      " 0   date      62 non-null     object\n",
      " 1   group     62 non-null     object\n",
      " 2   visitors  62 non-null     int64 \n",
      "dtypes: int64(1), object(2)\n",
      "memory usage: 1.6+ KB\n"
     ]
    }
   ],
   "source": [
    "visitors.info()"
   ]
  },
  {
   "cell_type": "code",
   "execution_count": 17,
   "metadata": {},
   "outputs": [],
   "source": [
    "visitors['date'] = visitors['date'].map(\n",
    "    lambda x: dt.datetime.strptime(x, '%Y-%m-%d')\n",
    ")"
   ]
  },
  {
   "cell_type": "code",
   "execution_count": 18,
   "metadata": {},
   "outputs": [
    {
     "data": {
      "text/html": [
       "<div>\n",
       "<style scoped>\n",
       "    .dataframe tbody tr th:only-of-type {\n",
       "        vertical-align: middle;\n",
       "    }\n",
       "\n",
       "    .dataframe tbody tr th {\n",
       "        vertical-align: top;\n",
       "    }\n",
       "\n",
       "    .dataframe thead th {\n",
       "        text-align: right;\n",
       "    }\n",
       "</style>\n",
       "<table border=\"1\" class=\"dataframe\">\n",
       "  <thead>\n",
       "    <tr style=\"text-align: right;\">\n",
       "      <th></th>\n",
       "      <th>date</th>\n",
       "      <th>group</th>\n",
       "      <th>visitors</th>\n",
       "    </tr>\n",
       "  </thead>\n",
       "  <tbody>\n",
       "    <tr>\n",
       "      <th>0</th>\n",
       "      <td>2019-08-01</td>\n",
       "      <td>A</td>\n",
       "      <td>719</td>\n",
       "    </tr>\n",
       "    <tr>\n",
       "      <th>1</th>\n",
       "      <td>2019-08-02</td>\n",
       "      <td>A</td>\n",
       "      <td>619</td>\n",
       "    </tr>\n",
       "    <tr>\n",
       "      <th>2</th>\n",
       "      <td>2019-08-03</td>\n",
       "      <td>A</td>\n",
       "      <td>507</td>\n",
       "    </tr>\n",
       "    <tr>\n",
       "      <th>3</th>\n",
       "      <td>2019-08-04</td>\n",
       "      <td>A</td>\n",
       "      <td>717</td>\n",
       "    </tr>\n",
       "    <tr>\n",
       "      <th>4</th>\n",
       "      <td>2019-08-05</td>\n",
       "      <td>A</td>\n",
       "      <td>756</td>\n",
       "    </tr>\n",
       "    <tr>\n",
       "      <th>5</th>\n",
       "      <td>2019-08-06</td>\n",
       "      <td>A</td>\n",
       "      <td>667</td>\n",
       "    </tr>\n",
       "    <tr>\n",
       "      <th>6</th>\n",
       "      <td>2019-08-07</td>\n",
       "      <td>A</td>\n",
       "      <td>644</td>\n",
       "    </tr>\n",
       "    <tr>\n",
       "      <th>7</th>\n",
       "      <td>2019-08-08</td>\n",
       "      <td>A</td>\n",
       "      <td>610</td>\n",
       "    </tr>\n",
       "    <tr>\n",
       "      <th>8</th>\n",
       "      <td>2019-08-09</td>\n",
       "      <td>A</td>\n",
       "      <td>617</td>\n",
       "    </tr>\n",
       "    <tr>\n",
       "      <th>9</th>\n",
       "      <td>2019-08-10</td>\n",
       "      <td>A</td>\n",
       "      <td>406</td>\n",
       "    </tr>\n",
       "  </tbody>\n",
       "</table>\n",
       "</div>"
      ],
      "text/plain": [
       "        date group  visitors\n",
       "0 2019-08-01     A       719\n",
       "1 2019-08-02     A       619\n",
       "2 2019-08-03     A       507\n",
       "3 2019-08-04     A       717\n",
       "4 2019-08-05     A       756\n",
       "5 2019-08-06     A       667\n",
       "6 2019-08-07     A       644\n",
       "7 2019-08-08     A       610\n",
       "8 2019-08-09     A       617\n",
       "9 2019-08-10     A       406"
      ]
     },
     "execution_count": 18,
     "metadata": {},
     "output_type": "execute_result"
    }
   ],
   "source": [
    "visitors.head(10)"
   ]
  },
  {
   "cell_type": "code",
   "execution_count": 19,
   "metadata": {},
   "outputs": [
    {
     "data": {
      "text/plain": [
       "date        0\n",
       "group       0\n",
       "visitors    0\n",
       "dtype: int64"
      ]
     },
     "execution_count": 19,
     "metadata": {},
     "output_type": "execute_result"
    }
   ],
   "source": [
    "visitors.isna().sum()"
   ]
  },
  {
   "cell_type": "code",
   "execution_count": 20,
   "metadata": {},
   "outputs": [
    {
     "data": {
      "text/plain": [
       "transaction_id    0\n",
       "visitor_id        0\n",
       "date              0\n",
       "revenue           0\n",
       "group             0\n",
       "dtype: int64"
      ]
     },
     "execution_count": 20,
     "metadata": {},
     "output_type": "execute_result"
    }
   ],
   "source": [
    "orders.isna().sum()"
   ]
  },
  {
   "cell_type": "code",
   "execution_count": 21,
   "metadata": {},
   "outputs": [
    {
     "data": {
      "text/plain": [
       "0"
      ]
     },
     "execution_count": 21,
     "metadata": {},
     "output_type": "execute_result"
    }
   ],
   "source": [
    "orders.duplicated().sum()"
   ]
  },
  {
   "cell_type": "code",
   "execution_count": 22,
   "metadata": {},
   "outputs": [
    {
     "data": {
      "text/plain": [
       "0"
      ]
     },
     "execution_count": 22,
     "metadata": {},
     "output_type": "execute_result"
    }
   ],
   "source": [
    "visitors.duplicated().sum()"
   ]
  },
  {
   "cell_type": "markdown",
   "metadata": {},
   "source": [
    "Проверил типы данных в датафреймах, проверил на дупликаты и на пропуски, интересно сколько уникальных пользователей в группах."
   ]
  },
  {
   "cell_type": "code",
   "execution_count": 23,
   "metadata": {},
   "outputs": [
    {
     "data": {
      "text/html": [
       "<div>\n",
       "<style scoped>\n",
       "    .dataframe tbody tr th:only-of-type {\n",
       "        vertical-align: middle;\n",
       "    }\n",
       "\n",
       "    .dataframe tbody tr th {\n",
       "        vertical-align: top;\n",
       "    }\n",
       "\n",
       "    .dataframe thead th {\n",
       "        text-align: right;\n",
       "    }\n",
       "</style>\n",
       "<table border=\"1\" class=\"dataframe\">\n",
       "  <thead>\n",
       "    <tr style=\"text-align: right;\">\n",
       "      <th></th>\n",
       "      <th>visitor_id</th>\n",
       "    </tr>\n",
       "    <tr>\n",
       "      <th>group</th>\n",
       "      <th></th>\n",
       "    </tr>\n",
       "  </thead>\n",
       "  <tbody>\n",
       "    <tr>\n",
       "      <th>A</th>\n",
       "      <td>503</td>\n",
       "    </tr>\n",
       "    <tr>\n",
       "      <th>B</th>\n",
       "      <td>586</td>\n",
       "    </tr>\n",
       "  </tbody>\n",
       "</table>\n",
       "</div>"
      ],
      "text/plain": [
       "       visitor_id\n",
       "group            \n",
       "A             503\n",
       "B             586"
      ]
     },
     "execution_count": 23,
     "metadata": {},
     "output_type": "execute_result"
    }
   ],
   "source": [
    "orders.sort_values(by=['visitor_id']).groupby('group').agg({'visitor_id': 'nunique' })"
   ]
  },
  {
   "cell_type": "markdown",
   "metadata": {},
   "source": [
    "Странно, что сумма уникальных пользователей меньше кол-ва всех строк. Удалим дупликаты."
   ]
  },
  {
   "cell_type": "code",
   "execution_count": 24,
   "metadata": {},
   "outputs": [],
   "source": [
    "#orders=orders.drop_duplicates(subset = 'visitor_id').reset_index(drop=True)"
   ]
  },
  {
   "attachments": {
    "image.png": {
     "image/png": "[encoded data removed]"
    }
   },
   "cell_type": "markdown",
   "metadata": {},
   "source": [
    "<div class=\"alert alert-block alert-danger\">\n",
    "<h2> Комментарий ревьюера <a class=\"tocSkip\"></h2>\n",
    "<b>На доработку🤔:</b>\n",
    "    \n",
    "Сейчас мы удалили не дубликаты, а записи по пользователям. То есть оставили от каждого пользователя только одно событие, хотя каждый пользователь может совершить более одной транзакции. Последствия ты уже знаешь 🙂\n",
    "    \n",
    "    \n",
    "Чтобы удалить явные дубилкаты не стоит использовать `subset`. Однако, проверка выше показала, что их нет \n",
    "    \n",
    "![image.png](attachment:image.png)    "
   ]
  },
  {
   "cell_type": "markdown",
   "metadata": {},
   "source": [
    "<div class=\"alert alert-info\" role=\"alert\">\n",
    "<h2>Комментарий студента<a class=\"tocSkip\"></h2>\n",
    "Закоментировал эту строку, чтобы дальше не влияло на расчеты   \n",
    "    </div> "
   ]
  },
  {
   "cell_type": "code",
   "execution_count": 25,
   "metadata": {
    "scrolled": true
   },
   "outputs": [
    {
     "name": "stdout",
     "output_type": "stream",
     "text": [
      "<class 'pandas.core.frame.DataFrame'>\n",
      "RangeIndex: 1197 entries, 0 to 1196\n",
      "Data columns (total 5 columns):\n",
      " #   Column          Non-Null Count  Dtype         \n",
      "---  ------          --------------  -----         \n",
      " 0   transaction_id  1197 non-null   int64         \n",
      " 1   visitor_id      1197 non-null   int64         \n",
      " 2   date            1197 non-null   datetime64[ns]\n",
      " 3   revenue         1197 non-null   int64         \n",
      " 4   group           1197 non-null   object        \n",
      "dtypes: datetime64[ns](1), int64(3), object(1)\n",
      "memory usage: 46.9+ KB\n"
     ]
    }
   ],
   "source": [
    "orders.info()"
   ]
  },
  {
   "cell_type": "markdown",
   "metadata": {},
   "source": [
    "Удалил дупликаты. Пропусков нет."
   ]
  },
  {
   "cell_type": "code",
   "execution_count": 26,
   "metadata": {},
   "outputs": [
    {
     "data": {
      "text/html": [
       "<div>\n",
       "<style scoped>\n",
       "    .dataframe tbody tr th:only-of-type {\n",
       "        vertical-align: middle;\n",
       "    }\n",
       "\n",
       "    .dataframe tbody tr th {\n",
       "        vertical-align: top;\n",
       "    }\n",
       "\n",
       "    .dataframe thead th {\n",
       "        text-align: right;\n",
       "    }\n",
       "</style>\n",
       "<table border=\"1\" class=\"dataframe\">\n",
       "  <thead>\n",
       "    <tr style=\"text-align: right;\">\n",
       "      <th></th>\n",
       "      <th>date</th>\n",
       "    </tr>\n",
       "    <tr>\n",
       "      <th>group</th>\n",
       "      <th></th>\n",
       "    </tr>\n",
       "  </thead>\n",
       "  <tbody>\n",
       "    <tr>\n",
       "      <th>A</th>\n",
       "      <td>2019-08-01</td>\n",
       "    </tr>\n",
       "    <tr>\n",
       "      <th>B</th>\n",
       "      <td>2019-08-01</td>\n",
       "    </tr>\n",
       "  </tbody>\n",
       "</table>\n",
       "</div>"
      ],
      "text/plain": [
       "            date\n",
       "group           \n",
       "A     2019-08-01\n",
       "B     2019-08-01"
      ]
     },
     "execution_count": 26,
     "metadata": {},
     "output_type": "execute_result"
    }
   ],
   "source": [
    "orders.groupby('group').agg({'date': 'min'})"
   ]
  },
  {
   "cell_type": "code",
   "execution_count": 27,
   "metadata": {
    "scrolled": true
   },
   "outputs": [
    {
     "data": {
      "text/html": [
       "<div>\n",
       "<style scoped>\n",
       "    .dataframe tbody tr th:only-of-type {\n",
       "        vertical-align: middle;\n",
       "    }\n",
       "\n",
       "    .dataframe tbody tr th {\n",
       "        vertical-align: top;\n",
       "    }\n",
       "\n",
       "    .dataframe thead th {\n",
       "        text-align: right;\n",
       "    }\n",
       "</style>\n",
       "<table border=\"1\" class=\"dataframe\">\n",
       "  <thead>\n",
       "    <tr style=\"text-align: right;\">\n",
       "      <th></th>\n",
       "      <th>date</th>\n",
       "    </tr>\n",
       "    <tr>\n",
       "      <th>group</th>\n",
       "      <th></th>\n",
       "    </tr>\n",
       "  </thead>\n",
       "  <tbody>\n",
       "    <tr>\n",
       "      <th>A</th>\n",
       "      <td>2019-08-31</td>\n",
       "    </tr>\n",
       "    <tr>\n",
       "      <th>B</th>\n",
       "      <td>2019-08-31</td>\n",
       "    </tr>\n",
       "  </tbody>\n",
       "</table>\n",
       "</div>"
      ],
      "text/plain": [
       "            date\n",
       "group           \n",
       "A     2019-08-31\n",
       "B     2019-08-31"
      ]
     },
     "execution_count": 27,
     "metadata": {},
     "output_type": "execute_result"
    }
   ],
   "source": [
    "orders.groupby('group').agg({'date': 'max'})"
   ]
  },
  {
   "cell_type": "code",
   "execution_count": 28,
   "metadata": {},
   "outputs": [
    {
     "data": {
      "text/html": [
       "<div>\n",
       "<style scoped>\n",
       "    .dataframe tbody tr th:only-of-type {\n",
       "        vertical-align: middle;\n",
       "    }\n",
       "\n",
       "    .dataframe tbody tr th {\n",
       "        vertical-align: top;\n",
       "    }\n",
       "\n",
       "    .dataframe thead th {\n",
       "        text-align: right;\n",
       "    }\n",
       "</style>\n",
       "<table border=\"1\" class=\"dataframe\">\n",
       "  <thead>\n",
       "    <tr style=\"text-align: right;\">\n",
       "      <th></th>\n",
       "      <th>group</th>\n",
       "    </tr>\n",
       "    <tr>\n",
       "      <th>visitor_id</th>\n",
       "      <th></th>\n",
       "    </tr>\n",
       "  </thead>\n",
       "  <tbody>\n",
       "    <tr>\n",
       "      <th>8300375</th>\n",
       "      <td>2</td>\n",
       "    </tr>\n",
       "    <tr>\n",
       "      <th>199603092</th>\n",
       "      <td>2</td>\n",
       "    </tr>\n",
       "    <tr>\n",
       "      <th>232979603</th>\n",
       "      <td>2</td>\n",
       "    </tr>\n",
       "    <tr>\n",
       "      <th>237748145</th>\n",
       "      <td>2</td>\n",
       "    </tr>\n",
       "    <tr>\n",
       "      <th>276558944</th>\n",
       "      <td>2</td>\n",
       "    </tr>\n",
       "    <tr>\n",
       "      <th>351125977</th>\n",
       "      <td>2</td>\n",
       "    </tr>\n",
       "    <tr>\n",
       "      <th>393266494</th>\n",
       "      <td>2</td>\n",
       "    </tr>\n",
       "    <tr>\n",
       "      <th>457167155</th>\n",
       "      <td>2</td>\n",
       "    </tr>\n",
       "    <tr>\n",
       "      <th>471551937</th>\n",
       "      <td>2</td>\n",
       "    </tr>\n",
       "    <tr>\n",
       "      <th>477780734</th>\n",
       "      <td>2</td>\n",
       "    </tr>\n",
       "    <tr>\n",
       "      <th>818047933</th>\n",
       "      <td>2</td>\n",
       "    </tr>\n",
       "    <tr>\n",
       "      <th>963407295</th>\n",
       "      <td>2</td>\n",
       "    </tr>\n",
       "    <tr>\n",
       "      <th>1230306981</th>\n",
       "      <td>2</td>\n",
       "    </tr>\n",
       "    <tr>\n",
       "      <th>1294878855</th>\n",
       "      <td>2</td>\n",
       "    </tr>\n",
       "    <tr>\n",
       "      <th>1316129916</th>\n",
       "      <td>2</td>\n",
       "    </tr>\n",
       "    <tr>\n",
       "      <th>1333886533</th>\n",
       "      <td>2</td>\n",
       "    </tr>\n",
       "    <tr>\n",
       "      <th>1404934699</th>\n",
       "      <td>2</td>\n",
       "    </tr>\n",
       "    <tr>\n",
       "      <th>1602967004</th>\n",
       "      <td>2</td>\n",
       "    </tr>\n",
       "    <tr>\n",
       "      <th>1614305549</th>\n",
       "      <td>2</td>\n",
       "    </tr>\n",
       "    <tr>\n",
       "      <th>1648269707</th>\n",
       "      <td>2</td>\n",
       "    </tr>\n",
       "    <tr>\n",
       "      <th>1668030113</th>\n",
       "      <td>2</td>\n",
       "    </tr>\n",
       "    <tr>\n",
       "      <th>1738359350</th>\n",
       "      <td>2</td>\n",
       "    </tr>\n",
       "    <tr>\n",
       "      <th>1801183820</th>\n",
       "      <td>2</td>\n",
       "    </tr>\n",
       "    <tr>\n",
       "      <th>1959144690</th>\n",
       "      <td>2</td>\n",
       "    </tr>\n",
       "    <tr>\n",
       "      <th>2038680547</th>\n",
       "      <td>2</td>\n",
       "    </tr>\n",
       "    <tr>\n",
       "      <th>2044997962</th>\n",
       "      <td>2</td>\n",
       "    </tr>\n",
       "    <tr>\n",
       "      <th>2378935119</th>\n",
       "      <td>2</td>\n",
       "    </tr>\n",
       "    <tr>\n",
       "      <th>2458001652</th>\n",
       "      <td>2</td>\n",
       "    </tr>\n",
       "    <tr>\n",
       "      <th>2579882178</th>\n",
       "      <td>2</td>\n",
       "    </tr>\n",
       "    <tr>\n",
       "      <th>2587333274</th>\n",
       "      <td>2</td>\n",
       "    </tr>\n",
       "    <tr>\n",
       "      <th>2600415354</th>\n",
       "      <td>2</td>\n",
       "    </tr>\n",
       "    <tr>\n",
       "      <th>2654030115</th>\n",
       "      <td>2</td>\n",
       "    </tr>\n",
       "    <tr>\n",
       "      <th>2686716486</th>\n",
       "      <td>2</td>\n",
       "    </tr>\n",
       "    <tr>\n",
       "      <th>2712142231</th>\n",
       "      <td>2</td>\n",
       "    </tr>\n",
       "    <tr>\n",
       "      <th>2716752286</th>\n",
       "      <td>2</td>\n",
       "    </tr>\n",
       "    <tr>\n",
       "      <th>2780786433</th>\n",
       "      <td>2</td>\n",
       "    </tr>\n",
       "    <tr>\n",
       "      <th>2927087541</th>\n",
       "      <td>2</td>\n",
       "    </tr>\n",
       "    <tr>\n",
       "      <th>2949041841</th>\n",
       "      <td>2</td>\n",
       "    </tr>\n",
       "    <tr>\n",
       "      <th>2954449915</th>\n",
       "      <td>2</td>\n",
       "    </tr>\n",
       "    <tr>\n",
       "      <th>3062433592</th>\n",
       "      <td>2</td>\n",
       "    </tr>\n",
       "    <tr>\n",
       "      <th>3202540741</th>\n",
       "      <td>2</td>\n",
       "    </tr>\n",
       "    <tr>\n",
       "      <th>3234906277</th>\n",
       "      <td>2</td>\n",
       "    </tr>\n",
       "    <tr>\n",
       "      <th>3656415546</th>\n",
       "      <td>2</td>\n",
       "    </tr>\n",
       "    <tr>\n",
       "      <th>3717692402</th>\n",
       "      <td>2</td>\n",
       "    </tr>\n",
       "    <tr>\n",
       "      <th>3766097110</th>\n",
       "      <td>2</td>\n",
       "    </tr>\n",
       "    <tr>\n",
       "      <th>3803269165</th>\n",
       "      <td>2</td>\n",
       "    </tr>\n",
       "    <tr>\n",
       "      <th>3891541246</th>\n",
       "      <td>2</td>\n",
       "    </tr>\n",
       "    <tr>\n",
       "      <th>3941795274</th>\n",
       "      <td>2</td>\n",
       "    </tr>\n",
       "    <tr>\n",
       "      <th>3951559397</th>\n",
       "      <td>2</td>\n",
       "    </tr>\n",
       "    <tr>\n",
       "      <th>3957174400</th>\n",
       "      <td>2</td>\n",
       "    </tr>\n",
       "    <tr>\n",
       "      <th>3963646447</th>\n",
       "      <td>2</td>\n",
       "    </tr>\n",
       "    <tr>\n",
       "      <th>3972127743</th>\n",
       "      <td>2</td>\n",
       "    </tr>\n",
       "    <tr>\n",
       "      <th>3984495233</th>\n",
       "      <td>2</td>\n",
       "    </tr>\n",
       "    <tr>\n",
       "      <th>4069496402</th>\n",
       "      <td>2</td>\n",
       "    </tr>\n",
       "    <tr>\n",
       "      <th>4120364173</th>\n",
       "      <td>2</td>\n",
       "    </tr>\n",
       "    <tr>\n",
       "      <th>4186807279</th>\n",
       "      <td>2</td>\n",
       "    </tr>\n",
       "    <tr>\n",
       "      <th>4256040402</th>\n",
       "      <td>2</td>\n",
       "    </tr>\n",
       "    <tr>\n",
       "      <th>4266935830</th>\n",
       "      <td>2</td>\n",
       "    </tr>\n",
       "  </tbody>\n",
       "</table>\n",
       "</div>"
      ],
      "text/plain": [
       "            group\n",
       "visitor_id       \n",
       "8300375         2\n",
       "199603092       2\n",
       "232979603       2\n",
       "237748145       2\n",
       "276558944       2\n",
       "351125977       2\n",
       "393266494       2\n",
       "457167155       2\n",
       "471551937       2\n",
       "477780734       2\n",
       "818047933       2\n",
       "963407295       2\n",
       "1230306981      2\n",
       "1294878855      2\n",
       "1316129916      2\n",
       "1333886533      2\n",
       "1404934699      2\n",
       "1602967004      2\n",
       "1614305549      2\n",
       "1648269707      2\n",
       "1668030113      2\n",
       "1738359350      2\n",
       "1801183820      2\n",
       "1959144690      2\n",
       "2038680547      2\n",
       "2044997962      2\n",
       "2378935119      2\n",
       "2458001652      2\n",
       "2579882178      2\n",
       "2587333274      2\n",
       "2600415354      2\n",
       "2654030115      2\n",
       "2686716486      2\n",
       "2712142231      2\n",
       "2716752286      2\n",
       "2780786433      2\n",
       "2927087541      2\n",
       "2949041841      2\n",
       "2954449915      2\n",
       "3062433592      2\n",
       "3202540741      2\n",
       "3234906277      2\n",
       "3656415546      2\n",
       "3717692402      2\n",
       "3766097110      2\n",
       "3803269165      2\n",
       "3891541246      2\n",
       "3941795274      2\n",
       "3951559397      2\n",
       "3957174400      2\n",
       "3963646447      2\n",
       "3972127743      2\n",
       "3984495233      2\n",
       "4069496402      2\n",
       "4120364173      2\n",
       "4186807279      2\n",
       "4256040402      2\n",
       "4266935830      2"
      ]
     },
     "execution_count": 28,
     "metadata": {},
     "output_type": "execute_result"
    }
   ],
   "source": [
    "orders.groupby('visitor_id').agg({'group': 'nunique'}).query('group>1')"
   ]
  },
  {
   "cell_type": "markdown",
   "metadata": {},
   "source": [
    "Можно заметить, что есть пользователи, которые присутствуют в обеих группах."
   ]
  },
  {
   "cell_type": "markdown",
   "metadata": {},
   "source": [
    "<div class=\"alert alert-block alert-danger\">\n",
    "<h2> Комментарий ревьюера <a class=\"tocSkip\"></h2>\n",
    "<b>На доработку🤔:</b>\n",
    "    \n",
    "Применены все основные инструменты предобработки данных, молодец 🙂\n",
    "    \n",
    "\n",
    "При работе с A/B тестом мы должны провести дополнительные исследования:\n",
    "\n",
    "* сколько у нас групп в АВ-тесте; (сделано)\n",
    "* даты начала и окончания теста в каждой группе;\n",
    "* сколько пользователей в каждой группе; (сделано)\n",
    "* не попадают ли какие-то пользователи в обе группы.    \n",
    "\n",
    "Проведи, пожалуйста, выше указанные проверки и добавь выводы о корректности данных и проверки A/B теста. \n",
    "    \n",
    "</div>\n",
    "    "
   ]
  },
  {
   "cell_type": "markdown",
   "metadata": {},
   "source": [
    "<div class=\"alert alert-info\" role=\"alert\">\n",
    "<h2>Комментарий студента<a class=\"tocSkip\"></h2>\n",
    "Главной проблемой является то, что в обе группы попали одинаковые пользователи, после чего встает вопрос, что с ними делать. Однако,в данных visitors учтены пользователи, которые находятся в обеих группах и мы не сможем с ними ничего сделать. Поэтому при расчетах так или иначе будут использоваться некорректные данные, но только в тех расчетах, где используются данные из visitors. Процентное соотношение таких пользователей в каждой группе примерно 11% и 10%. Мне кажется, что в данной ситуации это будет не совсем критично. Я учту таких пользователей в своих выводах, но скорее всего их присутствие не будет сильно влиять на результат.\n",
    "    </div>  "
   ]
  },
  {
   "cell_type": "markdown",
   "metadata": {},
   "source": [
    "<div class=\"alert alert-success\">\n",
    "<h2> Комментарий ревьюера <font color= \"black\"> V2</font> <a class=\"tocSkip\"> </h2>\n",
    "<b>Все отлично!👍 :</b> \n",
    "\n",
    "Допустимое решение"
   ]
  },
  {
   "cell_type": "markdown",
   "metadata": {},
   "source": [
    "### График кумулятивной выручки по группам"
   ]
  },
  {
   "cell_type": "code",
   "execution_count": 29,
   "metadata": {
    "scrolled": false
   },
   "outputs": [
    {
     "data": {
      "image/png": "[encoded data removed]",
      "text/plain": [
       "<Figure size 1440x432 with 1 Axes>"
      ]
     },
     "metadata": {
      "needs_background": "light"
     },
     "output_type": "display_data"
    }
   ],
   "source": [
    "\n",
    "datesGroups = orders[['date', 'group']].drop_duplicates()\n",
    "\n",
    "ordersAggregated = datesGroups.apply(\n",
    "    lambda x: orders[\n",
    "        np.logical_and(\n",
    "            orders['date'] <= x['date'], orders['group'] == x['group']\n",
    "        )\n",
    "    ].agg(\n",
    "        {\n",
    "            'date': 'max',\n",
    "            'group': 'max',\n",
    "            'transaction_id': 'nunique',\n",
    "            'visitor_id': 'nunique',\n",
    "            'revenue': 'sum',\n",
    "        }\n",
    "    ),\n",
    "    axis=1,\n",
    ").sort_values(by=['date', 'group'])\n",
    "\n",
    "visitorsAggregated = datesGroups.apply(\n",
    "    lambda x: visitors[\n",
    "        np.logical_and(\n",
    "            visitors['date'] <= x['date'], visitors['group'] == x['group']\n",
    "        )\n",
    "    ].agg({'date': 'max', 'group': 'max', 'visitors': 'sum'}),\n",
    "    axis=1,\n",
    ").sort_values(by=['date', 'group'])\n",
    "\n",
    "cumulativeData = ordersAggregated.merge(\n",
    "    visitorsAggregated, left_on=['date', 'group'], right_on=['date', 'group']\n",
    ")\n",
    "cumulativeData.columns = [\n",
    "    'date',\n",
    "    'group',\n",
    "    'orders',\n",
    "    'buyers',\n",
    "    'revenue',\n",
    "    'visitors',\n",
    "]\n",
    "\n",
    "cumulativeRevenueA = cumulativeData[cumulativeData['group']=='A'][['date','revenue', 'orders']]\n",
    "\n",
    "cumulativeRevenueB = cumulativeData[cumulativeData['group']=='B'][['date','revenue', 'orders']]\n",
    "\n",
    "plt.figure(figsize = (20, 6)) \n",
    "\n",
    "plt.plot(cumulativeRevenueA['date'], cumulativeRevenueA['revenue'], label='A')\n",
    "\n",
    "plt.plot(cumulativeRevenueB['date'], cumulativeRevenueB['revenue'], label='B')\n",
    "\n",
    "plt.title('График кумулятивной выручки по группам')\n",
    "\n",
    "plt.xlabel('Даты')\n",
    "\n",
    "plt.ylabel('Выручка')\n",
    "\n",
    "plt.xticks(rotation=30)\n",
    "\n",
    "plt.legend() \n",
    "\n",
    "plt.show()"
   ]
  },
  {
   "cell_type": "markdown",
   "metadata": {},
   "source": [
    "<div class=\"alert alert-block alert-danger\">\n",
    "<h2> Комментарий ревьюера <a class=\"tocSkip\"></h2>\n",
    "\n",
    "<b>На доработку🤔:</b>\n",
    "    \n",
    "    \n",
    "Алгоритм построения графика верный    \n",
    "    \n",
    "* Графики надо доработать. Стоит добавить названия графиков и осей. Для этого у нас есть:\n",
    "    \n",
    "`plt.title('name')` \n",
    "    \n",
    "`plt.xlabel('name')`\n",
    "    \n",
    "`plt.ylabel('name')`\n",
    "\n",
    "Прикреплю ссылки на официальный сайт\n",
    " \n",
    "https://matplotlib.org/stable/api/_as_gen/matplotlib.pyplot.ylabel.html\n",
    "    \n",
    "https://matplotlib.org/stable/api/_as_gen/matplotlib.pyplot.xlabel.html\n",
    "    \n",
    "https://matplotlib.org/stable/api/_as_gen/matplotlib.pyplot.title.html\n",
    "    \n",
    "    \n",
    "Чтобы повернуть подписи на оси нужно использовать `plt.xticks(rotation=45)`\n",
    "    \n",
    "Прикреплю ссылку с примером\n",
    "    \n",
    "https://matplotlib.org/stable/gallery/subplots_axes_and_figures/secondary_axis.html#sphx-glr-gallery-subplots-axes-and-figures-secondary-axis-py        \n",
    "    \n",
    "Чтобы убрать надпись перед графиком используют `plt.show()` в последней строке ячейки        \n",
    "    "
   ]
  },
  {
   "cell_type": "markdown",
   "metadata": {},
   "source": [
    "<div class=\"alert alert-success\">\n",
    "<h2> Комментарий ревьюера <font color= \"black\"> V2</font> <a class=\"tocSkip\"> </h2>\n",
    "<b>Все отлично!👍 :</b> \n",
    "\n",
    "Качественная визуализация"
   ]
  },
  {
   "cell_type": "markdown",
   "metadata": {},
   "source": [
    "### Выводы по графику"
   ]
  },
  {
   "cell_type": "markdown",
   "metadata": {},
   "source": [
    "Выручка для группы B выше на протяжении почти всего временного отрезка, кроме начала. Но для обеих групп она растет."
   ]
  },
  {
   "cell_type": "markdown",
   "metadata": {},
   "source": [
    "<div class=\"alert alert-block alert-danger\">\n",
    "<h2> Комментарий ревьюера <a class=\"tocSkip\"></h2>\n",
    "<b>На доработку🤔:</b>\n",
    "    \n",
    "    \n",
    "Резкий скачок это аномальное явление. Стоит на это указать и предложить гипотезы появления скачка    "
   ]
  },
  {
   "cell_type": "markdown",
   "metadata": {},
   "source": [
    "<div class=\"alert alert-info\" role=\"alert\">\n",
    "<h2>Комментарий студента<a class=\"tocSkip\"></h2>\n",
    "Между 17 и 21 августа случился резкий скачок в выручке для группы В. Возможно, причиной такого аномального скачка является наличие прироста кол-ва покупателей по каким-то причинам. 17 и 18 числа в том году были выходными, что могло спровоцировать резкий прирост кол-ва покупателей, например. Или кто-то из покупателей делал очень крупные покупки в те дни, что привело к приросту выручки.\n",
    "    </div>  "
   ]
  },
  {
   "cell_type": "markdown",
   "metadata": {},
   "source": [
    "<div class=\"alert alert-success\">\n",
    "<h2> Комментарий ревьюера <font color= \"black\"> V2</font> <a class=\"tocSkip\"> </h2>\n",
    "<b>Все отлично!👍 :</b> \n",
    "\n",
    "Верное наблюдение"
   ]
  },
  {
   "cell_type": "markdown",
   "metadata": {},
   "source": [
    "### График кумулятивного среднего чека по группам"
   ]
  },
  {
   "cell_type": "code",
   "execution_count": 30,
   "metadata": {
    "scrolled": true
   },
   "outputs": [
    {
     "data": {
      "image/png": "[encoded data removed]",
      "text/plain": [
       "<Figure size 1440x432 with 1 Axes>"
      ]
     },
     "metadata": {
      "needs_background": "light"
     },
     "output_type": "display_data"
    }
   ],
   "source": [
    "datesGroups = orders[['date', 'group']].drop_duplicates()\n",
    "\n",
    "ordersAggregated = datesGroups.apply(\n",
    "    lambda x: orders[\n",
    "        np.logical_and(\n",
    "            orders['date'] <= x['date'], orders['group'] == x['group']\n",
    "        )\n",
    "    ].agg(\n",
    "        {\n",
    "            'date': 'max',\n",
    "            'group': 'max',\n",
    "            'transaction_id': 'nunique',\n",
    "            'visitor_id': 'nunique',\n",
    "            'revenue': 'sum',\n",
    "        }\n",
    "    ),\n",
    "    axis=1,\n",
    ").sort_values(by=['date', 'group'])\n",
    "\n",
    "visitorsAggregated = datesGroups.apply(\n",
    "    lambda x: visitors[\n",
    "        np.logical_and(\n",
    "            visitors['date'] <= x['date'], visitors['group'] == x['group']\n",
    "        )\n",
    "    ].agg({'date': 'max', 'group': 'max', 'visitors': 'sum'}),\n",
    "    axis=1,\n",
    ").sort_values(by=['date', 'group'])\n",
    "\n",
    "cumulativeData = ordersAggregated.merge(\n",
    "    visitorsAggregated, left_on=['date', 'group'], right_on=['date', 'group']\n",
    ")\n",
    "cumulativeData.columns = [\n",
    "    'date',\n",
    "    'group',\n",
    "    'orders',\n",
    "    'buyers',\n",
    "    'revenue',\n",
    "    'visitors',\n",
    "]\n",
    "\n",
    "cumulativeRevenueA = cumulativeData[cumulativeData['group'] == 'A'][\n",
    "    ['date', 'revenue', 'orders']\n",
    "]\n",
    "cumulativeRevenueB = cumulativeData[cumulativeData['group'] == 'B'][\n",
    "    ['date', 'revenue', 'orders']\n",
    "]\n",
    "\n",
    "plt.figure(figsize = (20, 6)) \n",
    "plt.plot(cumulativeRevenueA['date'], cumulativeRevenueA['revenue']/cumulativeRevenueA['orders'], label='A')\n",
    "plt.plot(cumulativeRevenueB['date'], cumulativeRevenueB['revenue']/cumulativeRevenueB['orders'], label='B')\n",
    "\n",
    "plt.title('График кумулятивного среднего чека по группам')\n",
    "\n",
    "plt.xlabel('Даты')\n",
    "\n",
    "plt.ylabel('Чек')\n",
    "\n",
    "plt.xticks(rotation=30)\n",
    "\n",
    "plt.legend() \n",
    "\n",
    "plt.show()"
   ]
  },
  {
   "cell_type": "markdown",
   "metadata": {},
   "source": [
    "### Выводы по графику"
   ]
  },
  {
   "cell_type": "markdown",
   "metadata": {},
   "source": [
    "Средний чек для группы B также почти все время выше кроме начала и середины графика в районе 13 числа. К концу графика видно, что для группы В средний чек немного снижается, но уже не скачет и стабилен, в целом. Для группы А Средний чек немного растет, но также стаблизировался."
   ]
  },
  {
   "cell_type": "markdown",
   "metadata": {},
   "source": [
    "<div class=\"alert alert-warning\">\n",
    "<h2> Комментарий ревьюера <a class=\"tocSkip\"> </h2>\n",
    "<b>Некоторые замечания и рекомендации💡:</b> \n",
    "    \n",
    "Алгоритм построения графика верный    \n",
    "    \n",
    "Аналогичные замечания    "
   ]
  },
  {
   "cell_type": "markdown",
   "metadata": {},
   "source": [
    "<div class=\"alert alert-info\" role=\"alert\">\n",
    "<h2>Комментарий студента<a class=\"tocSkip\"></h2>\n",
    "Получается, что в эти даты были сделаны очень крупные покупки на сайте. После чего средний чек снижается, но не так резко. Аналогичный пик есть и у группы А 13 числа, но он быстро спал, после чего чек так и почти перестал расти.\n",
    "    </div>  "
   ]
  },
  {
   "cell_type": "markdown",
   "metadata": {},
   "source": [
    "<div class=\"alert alert-success\">\n",
    "<h2> Комментарий ревьюера <font color= \"black\"> V2</font> <a class=\"tocSkip\"> </h2>\n",
    "<b>Все отлично!👍 :</b> \n",
    "\n",
    "Верное наблюдение"
   ]
  },
  {
   "cell_type": "markdown",
   "metadata": {},
   "source": [
    "### График относительного изменения кумулятивного среднего чека группы B к группе A"
   ]
  },
  {
   "cell_type": "code",
   "execution_count": 31,
   "metadata": {
    "scrolled": true
   },
   "outputs": [
    {
     "data": {
      "image/png": "[encoded data removed]",
      "text/plain": [
       "<Figure size 1440x432 with 1 Axes>"
      ]
     },
     "metadata": {
      "needs_background": "light"
     },
     "output_type": "display_data"
    }
   ],
   "source": [
    "datesGroups = orders[['date', 'group']].drop_duplicates()\n",
    "\n",
    "ordersAggregated = datesGroups.apply(\n",
    "    lambda x: orders[\n",
    "        np.logical_and(\n",
    "            orders['date'] <= x['date'], orders['group'] == x['group']\n",
    "        )\n",
    "    ].agg(\n",
    "        {\n",
    "            'date': 'max',\n",
    "            'group': 'max',\n",
    "            'transaction_id': 'nunique',\n",
    "            'visitor_id': 'nunique',\n",
    "            'revenue': 'sum',\n",
    "        }\n",
    "    ),\n",
    "    axis=1,\n",
    ").sort_values(by=['date', 'group'])\n",
    "\n",
    "visitorsAggregated = datesGroups.apply(\n",
    "    lambda x: visitors[\n",
    "        np.logical_and(\n",
    "            visitors['date'] <= x['date'], visitors['group'] == x['group']\n",
    "        )\n",
    "    ].agg({'date': 'max', 'group': 'max', 'visitors': 'sum'}),\n",
    "    axis=1,\n",
    ").sort_values(by=['date', 'group'])\n",
    "\n",
    "cumulativeData = ordersAggregated.merge(\n",
    "    visitorsAggregated, left_on=['date', 'group'], right_on=['date', 'group']\n",
    ")\n",
    "cumulativeData.columns = [\n",
    "    'date',\n",
    "    'group',\n",
    "    'orders',\n",
    "    'buyers',\n",
    "    'revenue',\n",
    "    'visitors',\n",
    "]\n",
    "\n",
    "cumulativeRevenueA = cumulativeData[cumulativeData['group'] == 'A'][\n",
    "    ['date', 'revenue', 'orders']\n",
    "]\n",
    "cumulativeRevenueB = cumulativeData[cumulativeData['group'] == 'B'][\n",
    "    ['date', 'revenue', 'orders']\n",
    "]\n",
    "\n",
    "plt.figure(figsize = (20, 6)) \n",
    "# собираем данные в одном датафрейме\n",
    "mergedCumulativeRevenue = cumulativeRevenueA.merge(cumulativeRevenueB, left_on='date', right_on='date', how='left', suffixes=['A', 'B'])\n",
    "\n",
    "# cтроим отношение средних чеков\n",
    "plt.plot(mergedCumulativeRevenue['date'], (mergedCumulativeRevenue['revenueB']/mergedCumulativeRevenue['ordersB'])/(mergedCumulativeRevenue['revenueA']/mergedCumulativeRevenue['ordersA'])-1)\n",
    "\n",
    "# добавляем ось X\n",
    "plt.axhline(y=0, color='black', linestyle='--')\n",
    "\n",
    "plt.title('График относительного изменения кумулятивного среднего чека группы B к группе A')\n",
    "\n",
    "plt.xlabel('Даты')\n",
    "\n",
    "plt.ylabel('Разница в чеке')\n",
    "\n",
    "plt.xticks(rotation=30)\n",
    "\n",
    "plt.show()"
   ]
  },
  {
   "cell_type": "markdown",
   "metadata": {},
   "source": [
    "### Выводы по графику"
   ]
  },
  {
   "cell_type": "markdown",
   "metadata": {},
   "source": [
    "Разница чека В к А почти все время положительная, кроме начала и середины графика. К концу графика разница немного снижается, но стабилизируется."
   ]
  },
  {
   "cell_type": "markdown",
   "metadata": {},
   "source": [
    "<div class=\"alert alert-warning\">\n",
    "<h2> Комментарий ревьюера <a class=\"tocSkip\"> </h2>\n",
    "<b>Некоторые замечания и рекомендации💡:</b> \n",
    "    \n",
    "Алгоритм построения графика верный    \n",
    "    \n",
    "Аналогичные замечания    "
   ]
  },
  {
   "cell_type": "markdown",
   "metadata": {},
   "source": [
    "<div class=\"alert alert-info\" role=\"alert\">\n",
    "<h2>Комментарий студента<a class=\"tocSkip\"></h2>\n",
    "Здесь все логично получается, во время, когда чек В больше А, там и разница положительная, и наоборот.\n",
    "    </div>  "
   ]
  },
  {
   "cell_type": "markdown",
   "metadata": {},
   "source": [
    "<div class=\"alert alert-success\">\n",
    "<h2> Комментарий ревьюера <font color= \"black\"> V2</font> <a class=\"tocSkip\"> </h2>\n",
    "<b>Все отлично!👍 :</b> \n",
    "\n",
    "Верное наблюдение"
   ]
  },
  {
   "cell_type": "markdown",
   "metadata": {},
   "source": [
    " ### График кумулятивного среднего количества заказов по группам"
   ]
  },
  {
   "cell_type": "code",
   "execution_count": 32,
   "metadata": {
    "scrolled": true
   },
   "outputs": [
    {
     "data": {
      "image/png": "[encoded data removed]",
      "text/plain": [
       "<Figure size 1440x432 with 1 Axes>"
      ]
     },
     "metadata": {
      "needs_background": "light"
     },
     "output_type": "display_data"
    }
   ],
   "source": [
    "datesGroups = orders[['date', 'group']].drop_duplicates()\n",
    "\n",
    "ordersAggregated = datesGroups.apply(\n",
    "    lambda x: orders[\n",
    "        np.logical_and(\n",
    "            orders['date'] <= x['date'], orders['group'] == x['group']\n",
    "        )\n",
    "    ].agg(\n",
    "        {\n",
    "            'date': 'max',\n",
    "            'group': 'max',\n",
    "            'transaction_id': 'nunique',\n",
    "            'visitor_id': 'nunique',\n",
    "            'revenue': 'sum',\n",
    "        }\n",
    "    ),\n",
    "    axis=1,\n",
    ").sort_values(by=['date', 'group'])\n",
    "\n",
    "visitorsAggregated = datesGroups.apply(\n",
    "    lambda x: visitors[\n",
    "        np.logical_and(\n",
    "            visitors['date'] <= x['date'], visitors['group'] == x['group']\n",
    "        )\n",
    "    ].agg({'date': 'max', 'group': 'max', 'visitors': 'sum'}),\n",
    "    axis=1,\n",
    ").sort_values(by=['date', 'group'])\n",
    "\n",
    "cumulativeData = ordersAggregated.merge(\n",
    "    visitorsAggregated, left_on=['date', 'group'], right_on=['date', 'group']\n",
    ")\n",
    "cumulativeData.columns = [\n",
    "    'date',\n",
    "    'group',\n",
    "    'orders',\n",
    "    'buyers',\n",
    "    'revenue',\n",
    "    'visitors',\n",
    "]\n",
    "# считаем кумулятивную конверсию\n",
    "cumulativeData['conversion'] = cumulativeData['orders']/cumulativeData['visitors']\n",
    "\n",
    "# отделяем данные по группе A\n",
    "cumulativeDataA = cumulativeData[cumulativeData['group']=='A']\n",
    "\n",
    "# отделяем данные по группе B\n",
    "cumulativeDataB = cumulativeData[cumulativeData['group']=='B']\n",
    "\n",
    "plt.figure(figsize = (20, 6)) \n",
    "# строим графики\n",
    "plt.plot(cumulativeDataA['date'], cumulativeDataA['conversion'], label='A')\n",
    "plt.plot(cumulativeDataB['date'], cumulativeDataB['conversion'], label='B')\n",
    "plt.legend()\n",
    "\n",
    "\n",
    "\n",
    "# задаем масштаб осей\n",
    "plt.axis([dt.datetime(2019, 8, 1), dt.datetime(2019, 9, 1), 0, 0.05])\n",
    "plt.axhline(y=0.03, color='black', linestyle='--')\n",
    "plt.axhline(y=0.033, color='grey', linestyle='--')\n",
    "\n",
    "plt.title('График кумулятивного среднего количества заказов по группам')\n",
    "\n",
    "plt.xlabel('Даты')\n",
    "\n",
    "plt.ylabel('Конверсия')\n",
    "\n",
    "plt.xticks(rotation=30)\n",
    "\n",
    "plt.show()"
   ]
  },
  {
   "cell_type": "markdown",
   "metadata": {},
   "source": [
    "### Вывод по графику"
   ]
  },
  {
   "cell_type": "markdown",
   "metadata": {},
   "source": [
    "Количество заказов по группам вначала графика скачет но потом стабилизируется, у группы В заказов явно большена протяжении всего графика."
   ]
  },
  {
   "cell_type": "markdown",
   "metadata": {},
   "source": [
    "<div class=\"alert alert-warning\">\n",
    "<h2> Комментарий ревьюера <a class=\"tocSkip\"> </h2>\n",
    "<b>Некоторые замечания и рекомендации💡:</b> \n",
    "    \n",
    "Пожалуйста, укажи значения на которых стабилизировались показатели"
   ]
  },
  {
   "cell_type": "markdown",
   "metadata": {},
   "source": [
    "<div class=\"alert alert-info\" role=\"alert\">\n",
    "<h2>Комментарий студента<a class=\"tocSkip\"></h2>\n",
    "Для группы В конверсия равна 0.033, для группы А равна 0.03 примерно.\n",
    "    </div>  "
   ]
  },
  {
   "cell_type": "markdown",
   "metadata": {},
   "source": [
    "<div class=\"alert alert-success\">\n",
    "<h2> Комментарий ревьюера <font color= \"black\"> V2</font> <a class=\"tocSkip\"> </h2>\n",
    "<b>Все отлично!👍 :</b> \n",
    "\n",
    "Верное наблюдение"
   ]
  },
  {
   "cell_type": "markdown",
   "metadata": {},
   "source": [
    "### График относительного изменения кумулятивного среднего количества заказов группы B к группе A."
   ]
  },
  {
   "cell_type": "code",
   "execution_count": 33,
   "metadata": {
    "scrolled": true
   },
   "outputs": [
    {
     "data": {
      "text/plain": [
       "(18109.0, 18140.0, -0.5, 0.5)"
      ]
     },
     "execution_count": 33,
     "metadata": {},
     "output_type": "execute_result"
    },
    {
     "data": {
      "image/png": "[encoded data removed]",
      "text/plain": [
       "<Figure size 1440x432 with 1 Axes>"
      ]
     },
     "metadata": {
      "needs_background": "light"
     },
     "output_type": "display_data"
    }
   ],
   "source": [
    "datesGroups = orders[['date', 'group']].drop_duplicates()\n",
    "\n",
    "ordersAggregated = datesGroups.apply(\n",
    "    lambda x: orders[\n",
    "        np.logical_and(\n",
    "            orders['date'] <= x['date'], orders['group'] == x['group']\n",
    "        )\n",
    "    ].agg(\n",
    "        {\n",
    "            'date': 'max',\n",
    "            'group': 'max',\n",
    "            'transaction_id': 'nunique',\n",
    "            'visitor_id': 'nunique',\n",
    "            'revenue': 'sum',\n",
    "        }\n",
    "    ),\n",
    "    axis=1,\n",
    ").sort_values(by=['date', 'group'])\n",
    "\n",
    "visitorsAggregated = datesGroups.apply(\n",
    "    lambda x: visitors[\n",
    "        np.logical_and(\n",
    "            visitors['date'] <= x['date'], visitors['group'] == x['group']\n",
    "        )\n",
    "    ].agg({'date': 'max', 'group': 'max', 'visitors': 'sum'}),\n",
    "    axis=1,\n",
    ").sort_values(by=['date', 'group'])\n",
    "\n",
    "cumulativeData = ordersAggregated.merge(\n",
    "    visitorsAggregated, left_on=['date', 'group'], right_on=['date', 'group']\n",
    ")\n",
    "cumulativeData.columns = [\n",
    "    'date',\n",
    "    'group',\n",
    "    'orders',\n",
    "    'buyers',\n",
    "    'revenue',\n",
    "    'visitors',\n",
    "]\n",
    "\n",
    "cumulativeData['conversion'] = (\n",
    "    cumulativeData['orders'] / cumulativeData['visitors']\n",
    ")\n",
    "\n",
    "cumulativeDataA = cumulativeData[cumulativeData['group'] == 'A']\n",
    "cumulativeDataB = cumulativeData[cumulativeData['group'] == 'B']\n",
    "\n",
    "mergedCumulativeConversions = cumulativeDataA[['date','conversion']].merge(cumulativeDataB[['date','conversion']], left_on='date', right_on='date', how='left', suffixes=['A', 'B'])\n",
    "\n",
    "plt.figure(figsize = (20, 6)) \n",
    "plt.plot(mergedCumulativeConversions['date'], mergedCumulativeConversions['conversionB']/mergedCumulativeConversions['conversionA']-1, label=\"Относительный прирост конверсии группы B относительно группы A\")\n",
    "plt.legend()\n",
    "\n",
    "plt.axhline(y=0, color='black', linestyle='--')\n",
    "plt.axhline(y=0.15, color='grey', linestyle='--')\n",
    "plt.axis([\"2019-8-1\", '2019-9-1', -0.5, 0.5])"
   ]
  },
  {
   "cell_type": "markdown",
   "metadata": {},
   "source": [
    "<div class=\"alert alert-success\">\n",
    "<h2> Комментарий ревьюера <a class=\"tocSkip\"> </h2>\n",
    "<b>Все отлично!👍:</b>\n",
    "    \n",
    "Удачное решение добавить `plt.axhline(y=0.2, color='grey', linestyle='--')`\n",
    "    "
   ]
  },
  {
   "cell_type": "markdown",
   "metadata": {},
   "source": [
    "### Выводы по графику"
   ]
  },
  {
   "cell_type": "markdown",
   "metadata": {},
   "source": [
    "Разница количества заказов почти все время положительная и стабильная, вначале графика идут колебания резкие, но потом ситуация стабилизируется, в конце графика виден прирост в разнице."
   ]
  },
  {
   "cell_type": "markdown",
   "metadata": {},
   "source": [
    "<div class=\"alert alert-block alert-danger\">\n",
    "<h2> Комментарий ревьюера <a class=\"tocSkip\"></h2>\n",
    "<b>На доработку🤔:</b>\n",
    "    \n",
    "Пожалуйста, укажи значения на которых стабилизировались показатель и кто является лидером"
   ]
  },
  {
   "cell_type": "markdown",
   "metadata": {},
   "source": [
    "<div class=\"alert alert-info\" role=\"alert\">\n",
    "<h2>Комментарий студента<a class=\"tocSkip\"></h2>\n",
    "В является лидером по отношению к А, значение стабилизровалось в районе 0.15\n",
    "    </div>  "
   ]
  },
  {
   "cell_type": "markdown",
   "metadata": {},
   "source": [
    "<div class=\"alert alert-success\">\n",
    "<h2> Комментарий ревьюера <font color= \"black\"> V2</font> <a class=\"tocSkip\"> </h2>\n",
    "<b>Все отлично!👍 :</b> \n",
    "\n",
    "Верное наблюдение"
   ]
  },
  {
   "cell_type": "markdown",
   "metadata": {},
   "source": [
    "### Точечный график количества заказов по пользователям"
   ]
  },
  {
   "cell_type": "markdown",
   "metadata": {},
   "source": [
    "<div class=\"alert alert-warning\">\n",
    "<h2> Комментарий ревьюера <a class=\"tocSkip\"> </h2>\n",
    "\n",
    "<b>Некоторые замечания и рекомендации💡:</b> \n",
    "    \n",
    "После исправления алгоритма по удалению дубликатов этот шаг станет неактуальным    "
   ]
  },
  {
   "cell_type": "code",
   "execution_count": 34,
   "metadata": {},
   "outputs": [],
   "source": [
    "count_orders=orders.groupby('visitor_id').agg({'transaction_id': 'nunique' })"
   ]
  },
  {
   "cell_type": "code",
   "execution_count": 35,
   "metadata": {
    "scrolled": false
   },
   "outputs": [
    {
     "data": {
      "text/plain": [
       "<matplotlib.collections.PathCollection at 0x7f671a9f98b0>"
      ]
     },
     "execution_count": 35,
     "metadata": {},
     "output_type": "execute_result"
    },
    {
     "data": {
      "image/png": "[encoded data removed]",
      "text/plain": [
       "<Figure size 360x360 with 1 Axes>"
      ]
     },
     "metadata": {
      "needs_background": "light"
     },
     "output_type": "display_data"
    }
   ],
   "source": [
    "x_values = pd.Series(range(0,len(count_orders['transaction_id'])))\n",
    "plt.figure(figsize = (5, 5)) \n",
    "plt.scatter(x_values, count_orders['transaction_id']) "
   ]
  },
  {
   "cell_type": "markdown",
   "metadata": {},
   "source": [
    "Большинство заказов находятся в диапазоне от 1 до 4"
   ]
  },
  {
   "cell_type": "markdown",
   "metadata": {},
   "source": [
    "<div class=\"alert alert-warning\">\n",
    "<h2> Комментарий ревьюера <a class=\"tocSkip\"> </h2>\n",
    "<b>Некоторые замечания и рекомендации💡:</b> \n",
    "    \n",
    "Верный график, однако, мы строим график только по пользователям с заказами. То есть не можем делать вывод о 0 заказов    "
   ]
  },
  {
   "cell_type": "markdown",
   "metadata": {},
   "source": [
    "### 95-й и 99-й перцентили количества заказов на пользователя"
   ]
  },
  {
   "cell_type": "code",
   "execution_count": 36,
   "metadata": {},
   "outputs": [
    {
     "name": "stdout",
     "output_type": "stream",
     "text": [
      "[2. 4.]\n"
     ]
    }
   ],
   "source": [
    "print(np.percentile(count_orders['transaction_id'], [95, 99]))"
   ]
  },
  {
   "cell_type": "markdown",
   "metadata": {},
   "source": [
    "<div class=\"alert alert-success\">\n",
    "<h2> Комментарий ревьюера <a class=\"tocSkip\"> </h2>\n",
    "<b>Все отлично!👍:</b> \n",
    "    \n",
    "Верные расчеты    "
   ]
  },
  {
   "cell_type": "markdown",
   "metadata": {},
   "source": [
    "Я считаю, что выбросами можно считать в данном случае больше 4 заказов."
   ]
  },
  {
   "cell_type": "markdown",
   "metadata": {},
   "source": [
    "<div class=\"alert alert-block alert-danger\">\n",
    "<h2> Комментарий ревьюера <a class=\"tocSkip\"></h2>\n",
    "<b>На доработку🤔:</b>\n",
    "    \n",
    "Допустимая граница аномалий. Также допустимо выбрать 95, 96, 97, 98 перцентили\n",
    "    \n",
    "Пожалуйста, добавь выводо о расчетах. Что они означают?     "
   ]
  },
  {
   "cell_type": "markdown",
   "metadata": {},
   "source": [
    "<div class=\"alert alert-info\" role=\"alert\">\n",
    "<h2>Комментарий студента<a class=\"tocSkip\"></h2>\n",
    "Не более 5% посетителей сделали больше двух покупок и не более одного процента посетилелей сделали больше 4 покупок. Возможно, что можно угрубить и взять за границу 95 перцентиль.\n",
    "    </div>  "
   ]
  },
  {
   "cell_type": "markdown",
   "metadata": {},
   "source": [
    "<div class=\"alert alert-success\">\n",
    "<h2> Комментарий ревьюера <font color= \"black\"> V2</font> <a class=\"tocSkip\"> </h2>\n",
    "<b>Все отлично!👍 :</b> \n",
    "\n",
    "Верная интерпретация результатов"
   ]
  },
  {
   "cell_type": "markdown",
   "metadata": {},
   "source": [
    "### Точечный график стоимостей заказов"
   ]
  },
  {
   "cell_type": "code",
   "execution_count": 37,
   "metadata": {
    "scrolled": true
   },
   "outputs": [
    {
     "data": {
      "text/plain": [
       "<matplotlib.collections.PathCollection at 0x7f671a956d30>"
      ]
     },
     "execution_count": 37,
     "metadata": {},
     "output_type": "execute_result"
    },
    {
     "data": {
      "image/png": "[encoded data removed]",
      "text/plain": [
       "<Figure size 720x1080 with 1 Axes>"
      ]
     },
     "metadata": {
      "needs_background": "light"
     },
     "output_type": "display_data"
    }
   ],
   "source": [
    "x_values = pd.Series(range(0,len(orders['revenue'])))\n",
    "plt.figure(figsize = (10, 15)) \n",
    "plt.scatter(x_values, orders['revenue']) \n"
   ]
  },
  {
   "cell_type": "code",
   "execution_count": 38,
   "metadata": {},
   "outputs": [
    {
     "data": {
      "text/plain": [
       "(0.0, 100000.0)"
      ]
     },
     "execution_count": 38,
     "metadata": {},
     "output_type": "execute_result"
    },
    {
     "data": {
      "image/png": "[encoded data removed]",
      "text/plain": [
       "<Figure size 1080x720 with 1 Axes>"
      ]
     },
     "metadata": {
      "needs_background": "light"
     },
     "output_type": "display_data"
    }
   ],
   "source": [
    "x_values = pd.Series(range(0,len(orders['revenue'])))\n",
    "plt.figure(figsize = (15, 10)) \n",
    "plt.scatter(x_values, orders['revenue']) \n",
    "plt.ylim(0, 100000)\n"
   ]
  },
  {
   "cell_type": "code",
   "execution_count": 39,
   "metadata": {},
   "outputs": [
    {
     "data": {
      "text/plain": [
       "(0.0, 40000.0)"
      ]
     },
     "execution_count": 39,
     "metadata": {},
     "output_type": "execute_result"
    },
    {
     "data": {
      "image/png": "[encoded data removed]",
      "text/plain": [
       "<Figure size 1080x720 with 1 Axes>"
      ]
     },
     "metadata": {
      "needs_background": "light"
     },
     "output_type": "display_data"
    }
   ],
   "source": [
    "x_values = pd.Series(range(0,len(orders['revenue'])))\n",
    "plt.figure(figsize = (15, 10)) \n",
    "plt.scatter(x_values, orders['revenue']) \n",
    "plt.ylim(0, 40000)"
   ]
  },
  {
   "cell_type": "markdown",
   "metadata": {},
   "source": [
    "Почти все заказы по стоимости находятся в одном даипазоне, но есть выбросы."
   ]
  },
  {
   "cell_type": "markdown",
   "metadata": {},
   "source": [
    "<div class=\"alert alert-block alert-danger\">\n",
    "<h2> Комментарий ревьюера <a class=\"tocSkip\"></h2>\n",
    "<b>На доработку🤔:</b>\n",
    "        \n",
    "Будет здорово, если ты добавишь детализированный график, чтобы двух явных выбросов не было видно, а мы могли рассмотреть основную часть заказов"
   ]
  },
  {
   "cell_type": "markdown",
   "metadata": {},
   "source": [
    "<div class=\"alert alert-info\" role=\"alert\">\n",
    "<h2>Комментарий студента<a class=\"tocSkip\"></h2>\n",
    "Большая часть заказов находится в диапазоне примерно от условного 0 до 40000\n",
    "    </div>  "
   ]
  },
  {
   "cell_type": "markdown",
   "metadata": {},
   "source": [
    "<div class=\"alert alert-success\">\n",
    "<h2> Комментарий ревьюера <font color= \"black\"> V2</font> <a class=\"tocSkip\"> </h2>\n",
    "<b>Все отлично!👍 :</b> \n",
    "\n",
    "Верный график"
   ]
  },
  {
   "cell_type": "markdown",
   "metadata": {},
   "source": [
    "### 95-й и 99-й перцентили стоимости заказов"
   ]
  },
  {
   "cell_type": "code",
   "execution_count": 40,
   "metadata": {},
   "outputs": [
    {
     "name": "stdout",
     "output_type": "stream",
     "text": [
      "[28000.  58233.2]\n"
     ]
    }
   ],
   "source": [
    "print(np.percentile(orders['revenue'], [95, 99]))"
   ]
  },
  {
   "cell_type": "markdown",
   "metadata": {},
   "source": [
    "<div class=\"alert alert-success\">\n",
    "<h2> Комментарий ревьюера <a class=\"tocSkip\"> </h2>\n",
    "<b>Все отлично!👍:</b> \n",
    "    \n",
    "Верные расчеты    "
   ]
  },
  {
   "cell_type": "markdown",
   "metadata": {},
   "source": [
    "Все что находится выше 99% можно считать выбросами."
   ]
  },
  {
   "cell_type": "markdown",
   "metadata": {},
   "source": [
    "<div class=\"alert alert-warning\">\n",
    "<h2> Комментарий ревьюера <a class=\"tocSkip\"> </h2>\n",
    "\n",
    "<b>Некоторые замечания и рекомендации💡:</b> \n",
    "    \n",
    "Аналогичные замечания    "
   ]
  },
  {
   "cell_type": "markdown",
   "metadata": {},
   "source": [
    "<div class=\"alert alert-info\" role=\"alert\">\n",
    "<h2>Комментарий студента<a class=\"tocSkip\"></h2>\n",
    "Не более 5% заказов превышают по стоимости 28000 и не более одного процента заказов стоят больше 58233.2. Возможно, что можно угрубить и взять за границу 95 перцентиль.\n",
    "    </div>  "
   ]
  },
  {
   "cell_type": "markdown",
   "metadata": {},
   "source": [
    "<div class=\"alert alert-success\">\n",
    "<h2> Комментарий ревьюера <font color= \"black\"> V2</font> <a class=\"tocSkip\"> </h2>\n",
    "<b>Все отлично!👍 :</b> \n",
    "\n",
    "Верная интерпретация результатов"
   ]
  },
  {
   "cell_type": "markdown",
   "metadata": {},
   "source": [
    "### Статистическая значимость различий в среднем количестве заказов между группами по «сырым» данным"
   ]
  },
  {
   "cell_type": "markdown",
   "metadata": {},
   "source": [
    "<div class=\"alert alert-block alert-danger\">\n",
    "<h2> Комментарий ревьюера <a class=\"tocSkip\"></h2>\n",
    "<b>На доработку🤔:</b>\n",
    "    \n",
    "Перед началом проверок стоит добавить\n",
    "    \n",
    "* Какой критерий будет применяться и обоснование своего выбора\n",
    "    \n",
    "* Какой уровень значимости будет использован\n",
    "    \n",
    "* Формулировки гипотез"
   ]
  },
  {
   "cell_type": "markdown",
   "metadata": {},
   "source": [
    "<div class=\"alert alert-info\" role=\"alert\">\n",
    "<h2>Комментарий студента<a class=\"tocSkip\"></h2>\n",
    "    Критерий, который будет использоваться в расчетах, критерий Уилкоксона-Манна-Уитни, так как есть выбросы в данных.\n",
    "    Уровень значимости принимаем p=0.05\n",
    "Гипотезы:\n",
    "Н0: различий в среднем количестве заказов между группами нет. \n",
    "Н1: различия в среднем между группами есть.\n",
    "    </div>  "
   ]
  },
  {
   "cell_type": "markdown",
   "metadata": {},
   "source": [
    "<div class=\"alert alert-success\">\n",
    "<h2> Комментарий ревьюера <font color= \"black\"> V2</font> <a class=\"tocSkip\"> </h2>\n",
    "<b>Все отлично!👍 :</b> \n",
    "\n",
    "Вступление имеет все необходимое, чтобы начать проверку гипотез    "
   ]
  },
  {
   "cell_type": "code",
   "execution_count": 41,
   "metadata": {
    "scrolled": true
   },
   "outputs": [
    {
     "name": "stdout",
     "output_type": "stream",
     "text": [
      "0.01465\n",
      "0.144\n"
     ]
    }
   ],
   "source": [
    "ordersByUsersA = (\n",
    "    orders[orders['group'] == 'A']\n",
    "    .groupby('visitor_id', as_index=False)\n",
    "    .agg({'transaction_id': pd.Series.nunique})\n",
    ")\n",
    "ordersByUsersA.columns = ['visitor_id', 'orders']\n",
    "\n",
    "ordersByUsersB = (\n",
    "    orders[orders['group'] == 'B']\n",
    "    .groupby('visitor_id', as_index=False)\n",
    "    .agg({'transaction_id': pd.Series.nunique})\n",
    ")\n",
    "ordersByUsersB.columns = ['visitor_id', 'orders']\n",
    "\n",
    "sampleA = pd.concat(\n",
    "    [\n",
    "        ordersByUsersA['orders'],\n",
    "        pd.Series(\n",
    "            0,\n",
    "            index=np.arange(\n",
    "                cumulativeDataA['visitors'].sum() - len(ordersByUsersA['orders'])\n",
    "            ),\n",
    "            name='orders',\n",
    "        ),\n",
    "    ],\n",
    "    axis=0,\n",
    ")\n",
    "\n",
    "sampleB = pd.concat(\n",
    "    [\n",
    "        ordersByUsersB['orders'],\n",
    "        pd.Series(\n",
    "            0,\n",
    "            index=np.arange(\n",
    "                cumulativeDataB['visitors'].sum() - len(ordersByUsersB['orders'])\n",
    "            ),\n",
    "            name='orders',\n",
    "        ),\n",
    "    ],\n",
    "    axis=0,\n",
    ")\n",
    "\n",
    "print(\"{0:.5f}\".format(stats.mannwhitneyu(sampleA, sampleB)[1]))\n",
    "\n",
    "print(\"{0:.3f}\".format(sampleB.mean() / sampleA.mean() - 1))"
   ]
  },
  {
   "cell_type": "markdown",
   "metadata": {},
   "source": [
    "<div class=\"alert alert-block alert-danger\">\n",
    "<h2> Комментарий ревьюера <a class=\"tocSkip\"></h2>\n",
    "<b>На доработку🤔:</b>\n",
    "    \n",
    "Пожалуйста, пересмотри необходимость собирать данные в таблицу `data` с нуля. Все необходимое было расчитано ранее \n",
    "    \n",
    "Стоит добавить подсказки для значений `0.017 и 0.138`, чтобы не было путаницы   \n",
    "    "
   ]
  },
  {
   "cell_type": "markdown",
   "metadata": {},
   "source": [
    "<div class=\"alert alert-success\">\n",
    "<h2> Комментарий ревьюера <font color= \"black\"> V2</font> <a class=\"tocSkip\"> </h2>\n",
    "<b>Все отлично!👍 :</b> \n",
    "\n",
    "Код стал оптимальнее"
   ]
  },
  {
   "cell_type": "markdown",
   "metadata": {},
   "source": [
    "По «сырым» данным различия в среднем числе заказов групп A и B есть, так как p=0.01465 меньше 0.05"
   ]
  },
  {
   "cell_type": "markdown",
   "metadata": {},
   "source": [
    "<div class=\"alert alert-success\">\n",
    "<h2> Комментарий ревьюера <a class=\"tocSkip\"> </h2>\n",
    "<b>Все отлично!👍:</b> \n",
    "    \n",
    "Верный вывод о присутствии статистически значимых различий  "
   ]
  },
  {
   "cell_type": "markdown",
   "metadata": {},
   "source": [
    "### Статистическая значимость различий в среднем чеке заказа между группами по «сырым» данным"
   ]
  },
  {
   "cell_type": "markdown",
   "metadata": {},
   "source": [
    "<div class=\"alert alert-info\" role=\"alert\">\n",
    "<h2>Комментарий студента<a class=\"tocSkip\"></h2>\n",
    "    Критерий, который будет использоваться в расчетах, критерий Уилкоксона-Манна-Уитни, так как есть выбросы в данных.\n",
    "    Уровень значимости принимаем p=0.05\n",
    "Гипотезы:\n",
    "Н0: различий в среднем чеке между группами нет. \n",
    "Н1: различия в среднем чеке между группами есть.\n",
    "    </div>  "
   ]
  },
  {
   "cell_type": "code",
   "execution_count": 42,
   "metadata": {},
   "outputs": [
    {
     "name": "stdout",
     "output_type": "stream",
     "text": [
      "0.729\n",
      "0.259\n"
     ]
    }
   ],
   "source": [
    "ordersByUsersA = (\n",
    "    orders[orders['group'] == 'A']\n",
    "    .groupby('visitor_id', as_index=False)\n",
    "    .agg({'transaction_id': pd.Series.nunique})\n",
    ")\n",
    "ordersByUsersA.columns = ['visitor_id', 'orders']\n",
    "\n",
    "ordersByUsersB = (\n",
    "    orders[orders['group'] == 'B']\n",
    "    .groupby('visitor_id', as_index=False)\n",
    "    .agg({'transaction_id': pd.Series.nunique})\n",
    ")\n",
    "ordersByUsersB.columns = ['visitor_id', 'orders']\n",
    "\n",
    "sampleA = pd.concat(\n",
    "    [\n",
    "        ordersByUsersA['orders'],\n",
    "        pd.Series(\n",
    "            0,\n",
    "            index=np.arange(\n",
    "                cumulativeRevenueA['orders'].sum() - len(ordersByUsersA['orders'])\n",
    "            ),\n",
    "            name='orders',\n",
    "        ),\n",
    "    ],\n",
    "    axis=0,\n",
    ")\n",
    "\n",
    "sampleB = pd.concat(\n",
    "    [\n",
    "        ordersByUsersB['orders'],\n",
    "        pd.Series(\n",
    "            0,\n",
    "            index=np.arange(\n",
    "                cumulativeRevenueB['orders'].sum() - len(ordersByUsersB['orders'])\n",
    "            ),\n",
    "            name='orders',\n",
    "        ),\n",
    "    ],\n",
    "    axis=0,\n",
    ")\n",
    "\n",
    "\n",
    "print('{0:.3f}'.format(stats.mannwhitneyu(orders[orders['group']=='A']['revenue'], orders[orders['group']=='B']['revenue'])[1]))\n",
    "print('{0:.3f}'.format(orders[orders['group']=='B']['revenue'].mean()/orders[orders['group']=='A']['revenue'].mean()-1))"
   ]
  },
  {
   "cell_type": "markdown",
   "metadata": {},
   "source": [
    "<div class=\"alert alert-block alert-danger\">\n",
    "<h2> Комментарий ревьюера <a class=\"tocSkip\"></h2>\n",
    "<b>На доработку🤔:</b>\n",
    "    \n",
    "Не стоит полностью дублировать код, пожалуйста, пересмотри алгоритм, чтобы он был оптимальнее. Актуально для расчетов ниже"
   ]
  },
  {
   "cell_type": "markdown",
   "metadata": {},
   "source": [
    "P-value значительно больше 0.05. Значит, причин отвергать нулевую гипотезу и считать, что в среднем чеке есть различия, нет. Впрочем, средний чек группы B значительно выше среднего чека группы A."
   ]
  },
  {
   "cell_type": "markdown",
   "metadata": {},
   "source": [
    "<div class=\"alert alert-success\">\n",
    "<h2> Комментарий ревьюера <a class=\"tocSkip\"> </h2>\n",
    "<b>Все отлично!👍:</b> \n",
    "    \n",
    "Верный вывод об отвержении нулевой гипотезы, однако, она несформулирована"
   ]
  },
  {
   "cell_type": "markdown",
   "metadata": {},
   "source": [
    "### Очистка данных"
   ]
  },
  {
   "cell_type": "code",
   "execution_count": 43,
   "metadata": {},
   "outputs": [
    {
     "name": "stdout",
     "output_type": "stream",
     "text": [
      "1099    148427295\n",
      "18      199603092\n",
      "928     204675465\n",
      "23      237748145\n",
      "37      249864742\n",
      "Name: visitor_id, dtype: int64\n"
     ]
    }
   ],
   "source": [
    "ordersByUsersA = (\n",
    "    orders[orders['group'] == 'A']\n",
    "    .groupby('visitor_id', as_index=False)\n",
    "    .agg({'transaction_id': pd.Series.nunique})\n",
    ")\n",
    "ordersByUsersA.columns = ['visitor_id', 'orders']\n",
    "\n",
    "ordersByUsersB = (\n",
    "    orders[orders['group'] == 'B']\n",
    "    .groupby('visitor_id', as_index=False)\n",
    "    .agg({'transaction_id': pd.Series.nunique})\n",
    ")\n",
    "ordersByUsersB.columns = ['visitor_id', 'orders']\n",
    "usersWithManyOrders = pd.concat(\n",
    "    [\n",
    "        ordersByUsersA[ordersByUsersA['orders'] > 2]['visitor_id'],\n",
    "        ordersByUsersB[ordersByUsersB['orders'] > 2]['visitor_id'],\n",
    "    ],\n",
    "    axis=0,\n",
    ")\n",
    "usersWithExpensiveOrders = orders[orders['revenue'] > 28000]['visitor_id']\n",
    "abnormalUsers = (\n",
    "    pd.concat([usersWithManyOrders, usersWithExpensiveOrders], axis=0)\n",
    "    .drop_duplicates()\n",
    "    .sort_values()\n",
    ")\n",
    "print(abnormalUsers.head(5))"
   ]
  },
  {
   "cell_type": "markdown",
   "metadata": {},
   "source": [
    "### Статистическая значимость различий в среднем количестве заказов между группами по «очищенным» данным."
   ]
  },
  {
   "cell_type": "code",
   "execution_count": 44,
   "metadata": {},
   "outputs": [
    {
     "name": "stdout",
     "output_type": "stream",
     "text": [
      "0.01149\n",
      "0.178\n"
     ]
    }
   ],
   "source": [
    "ordersByUsersA = (\n",
    "    orders[orders['group'] == 'A']\n",
    "    .groupby('visitor_id', as_index=False)\n",
    "    .agg({'transaction_id': pd.Series.nunique})\n",
    ")\n",
    "ordersByUsersA.columns = ['visitor_id', 'orders']\n",
    "\n",
    "ordersByUsersB = (\n",
    "    orders[orders['group'] == 'B']\n",
    "    .groupby('visitor_id', as_index=False)\n",
    "    .agg({'transaction_id': pd.Series.nunique})\n",
    ")\n",
    "ordersByUsersB.columns = ['visitor_id', 'orders']\n",
    "\n",
    "\n",
    "usersWithManyOrders = pd.concat(\n",
    "    [\n",
    "        ordersByUsersA[ordersByUsersA['orders'] > 2]['visitor_id'],\n",
    "        ordersByUsersB[ordersByUsersB['orders'] > 2]['visitor_id'],\n",
    "    ],\n",
    "    axis=0,\n",
    ")\n",
    "usersWithExpensiveOrders = orders[orders['revenue'] > 28000]['visitor_id']\n",
    "abnormalUsers = (\n",
    "    pd.concat([usersWithManyOrders, usersWithExpensiveOrders], axis=0)\n",
    "    .drop_duplicates()\n",
    "    .sort_values()\n",
    ")\n",
    "sampleAFiltered = pd.concat(\n",
    "    [\n",
    "        ordersByUsersA[\n",
    "            np.logical_not(ordersByUsersA['visitor_id'].isin(abnormalUsers))\n",
    "        ]['orders'],\n",
    "        pd.Series(\n",
    "            0,\n",
    "            index=np.arange(\n",
    "                cumulativeDataA['visitors'].sum() - len(ordersByUsersA['orders'])\n",
    "            ),\n",
    "            name='orders',\n",
    "        ),\n",
    "    ],\n",
    "    axis=0,\n",
    ")\n",
    "\n",
    "sampleBFiltered = pd.concat(\n",
    "    [\n",
    "        ordersByUsersB[\n",
    "            np.logical_not(ordersByUsersB['visitor_id'].isin(abnormalUsers))\n",
    "        ]['orders'],\n",
    "        pd.Series(\n",
    "            0,\n",
    "            index=np.arange(\n",
    "                cumulativeDataB['visitors'].sum() - len(ordersByUsersB['orders'])\n",
    "            ),\n",
    "            name='orders',\n",
    "        ),\n",
    "    ],\n",
    "    axis=0,\n",
    ")\n",
    "print('{0:.5f}'.format(stats.mannwhitneyu(sampleAFiltered, sampleBFiltered)[1]))\n",
    "print('{0:.3f}'.format(sampleBFiltered.mean()/sampleAFiltered.mean()-1))"
   ]
  },
  {
   "cell_type": "markdown",
   "metadata": {},
   "source": [
    "P-value особо не изменился, собственно, выводы в таком случае остаются прежними. Но он стал ниже, чем у группы А"
   ]
  },
  {
   "cell_type": "markdown",
   "metadata": {},
   "source": [
    "### Статистическая значимость различий в среднем чеке заказа между группами по «очищенным» данным"
   ]
  },
  {
   "cell_type": "code",
   "execution_count": 45,
   "metadata": {},
   "outputs": [
    {
     "name": "stdout",
     "output_type": "stream",
     "text": [
      "0.738\n",
      "-0.020\n"
     ]
    }
   ],
   "source": [
    "ordersByUsersA = (\n",
    "    orders[orders['group'] == 'A']\n",
    "    .groupby('visitor_id', as_index=False)\n",
    "    .agg({'transaction_id': pd.Series.nunique})\n",
    ")\n",
    "ordersByUsersA.columns = ['visitor_id', 'orders']\n",
    "\n",
    "ordersByUsersB = (\n",
    "    orders[orders['group'] == 'B']\n",
    "    .groupby('visitor_id', as_index=False)\n",
    "    .agg({'transaction_id': pd.Series.nunique})\n",
    ")\n",
    "ordersByUsersB.columns = ['visitor_id', 'orders']\n",
    "\n",
    "usersWithManyOrders = pd.concat(\n",
    "    [\n",
    "        ordersByUsersA[ordersByUsersA['orders'] > 2]['visitor_id'],\n",
    "        ordersByUsersB[ordersByUsersB['orders'] > 2]['visitor_id'],\n",
    "    ],\n",
    "    axis=0,\n",
    ")\n",
    "usersWithExpensiveOrders = orders[orders['revenue'] > 28000]['visitor_id']\n",
    "abnormalUsers = (\n",
    "    pd.concat([usersWithManyOrders, usersWithExpensiveOrders], axis=0)\n",
    "    .drop_duplicates()\n",
    "    .sort_values()\n",
    ")\n",
    "print(\n",
    "    '{0:.3f}'.format(\n",
    "        stats.mannwhitneyu(\n",
    "            orders[\n",
    "                np.logical_and(\n",
    "                    orders['group'] == 'A',\n",
    "                    np.logical_not(orders['visitor_id'].isin(abnormalUsers)),\n",
    "                )\n",
    "            ]['revenue'],\n",
    "            orders[\n",
    "                np.logical_and(\n",
    "                    orders['group'] == 'B',\n",
    "                    np.logical_not(orders['visitor_id'].isin(abnormalUsers)),\n",
    "                )\n",
    "            ]['revenue'],\n",
    "        )[1]\n",
    "    )\n",
    ")\n",
    "\n",
    "print(\n",
    "    \"{0:.3f}\".format(\n",
    "        orders[\n",
    "            np.logical_and(\n",
    "                orders['group'] == 'B',\n",
    "                np.logical_not(orders['visitor_id'].isin(abnormalUsers)),\n",
    "            )\n",
    "        ]['revenue'].mean()\n",
    "        / orders[\n",
    "            np.logical_and(\n",
    "                orders['group'] == 'A',\n",
    "                np.logical_not(orders['visitor_id'].isin(abnormalUsers)),\n",
    "            )\n",
    "        ]['revenue'].mean()\n",
    "        - 1\n",
    "    )\n",
    ")"
   ]
  },
  {
   "cell_type": "markdown",
   "metadata": {},
   "source": [
    "P-value немного увеличился, но результаты и выводы прежние."
   ]
  },
  {
   "cell_type": "markdown",
   "metadata": {},
   "source": [
    "### Итоговый вывод"
   ]
  },
  {
   "cell_type": "markdown",
   "metadata": {},
   "source": [
    "Итак, соберем все выводы вместе."
   ]
  },
  {
   "cell_type": "markdown",
   "metadata": {},
   "source": [
    "1. Все графики говорят о том, что группа В явно успешнее, чем группа А и по средней выручке, и по среднему чеку и по количеству заказов.\n",
    "2. Есть статистически значимое различие по количеству заказов между А и В и по сырым и по очищенным данным\n",
    "3. Нет статистически значимого различия по сырыс и по очищенным данным в среднем чеке.\n",
    "\n",
    "Я делаю вывод, что можно остановить тест, группа В при имеющих данных лучше группы А. Тест можно признать успешным."
   ]
  },
  {
   "cell_type": "markdown",
   "metadata": {},
   "source": [
    "<div class=\"alert alert-block alert-danger\">\n",
    "<h2> Комментарий ревьюера <a class=\"tocSkip\"></h2>\n",
    "\n",
    "<b>На доработку🤔:</b>\n",
    "    \n",
    "Верное решение признать победу группы В и остановить тест.     \n",
    "\n",
    "В итоговом выводе стоит собрать основные результаты исследования, чтобы твоим коллегам не приходилось искать определнный шаг, когда возникает необходимость уточнить результаты анализа по этому шагу   \n",
    "    \n",
    "Примерное содержание:\n",
    "    \n",
    "* Как мы обработали данные\n",
    "* Указать корректность данных    \n",
    "* Указать какие были проведеных исследования и результаты этих исследований, в том числе значения которые мы получали при вычислениях \n",
    "* Обобщение всех результатов (сделано частично)\n",
    "\n",
    "Пожалуйста, доработай вывод    "
   ]
  },
  {
   "cell_type": "markdown",
   "metadata": {},
   "source": [
    "<div class=\"alert alert-info\" role=\"alert\">\n",
    "<h2>Комментарий студента<a class=\"tocSkip\"></h2>\n",
    "1. Мы выяснили, что есть всего 2 группы в тесте А и В.\n",
    "    \n",
    "2. Даты проведения теста 1 августа 2019 по 31 августа 2019\n",
    "    \n",
    "3. Группе А 503 человека, в группе В 586\n",
    "    \n",
    "4. Выяснили, что в группах есть пересечения среди пользователей, но решил их не удалять, так как мы не сможем полностью избавиться от этих данных. Поэтому в выодах ниже будет оговорка , что есть лишние данные.\n",
    "    \n",
    "5. В расчетах кумулятивной выручки, кумулятивного среднего чека, отношения кумулятивного среднего чего группы В к А везде первосходоство одержала группа В.\n",
    "    \n",
    "6. В расчетах кумулятивного среднего количества заказов и их относительного изменения также верх одержала группа В. Конверсия посетителей составила 0.033 для группы В и 0.03 для А. Относительное изменение конверсии составило 0.15.\n",
    "    \n",
    "7. Были произведены расчеты перцентилей по стоимости заказов и количеству заказов для каждого посетителя, найдены выбросы. На основе чего предпочитительней всего далее было использовать критерий Уилкоксона-Манна-Уитни. А также выбрана граница в 95% (чек 28000 тысяч и не более 2 покупок у посетителя), чтобы при оценке статистической значимости отсечь лишнее.\n",
    "    \n",
    "8. Произведена оценка статистической значимости различий в среднем количестве заказов между группами по «сырым» и по \"очищенным\" данным. В обоих случаях p-value был меньше 0.05. Что говорило о том, что есть статистически значимые различия между группами\n",
    "    \n",
    "9.  Произведена оценка статистической значимости различий в среднем чеке заказов между группами по «сырым» и по \"очищенным\" данным. В обоих случаях p-value был выше 0.05. Что говорило о том, что нет статистически значимых различий между группами\n",
    "    \n",
    "На основе полученных данных, с учетом того, что в исходных данных присутствуют погрешности в качестве одинаковых покупателей в обеих группах, при учете, что во всех графиках и расчетах кумулятивных характеристик группа В была предпочтительней, что при расчете статистической значимости кол-ва заказов есть статистически значимые различия, я делаю вывод о том, что этот тест можно признать успешным и завершить его, если закрыть глаза на некоторые нюансы.\n",
    "    </div>  "
   ]
  },
  {
   "cell_type": "markdown",
   "metadata": {},
   "source": [
    "<div class=\"alert alert-success\">\n",
    "<h2> Комментарий ревьюера <font color= \"black\"> V2</font> <a class=\"tocSkip\"> </h2>\n",
    "<b>Все отлично!👍 :</b> \n",
    "\n",
    "Стоит отказаться от высказывания, так как выбор лежит на нас как на специалистах. Смущать заказчика подобными высказываниями не стоит\n",
    "    \n",
    "    если закрыть глаза на некоторые нюансы.\n",
    "    \n",
    "В остальном получился информативный и верный вывод    \n",
    "    \n",
    "    "
   ]
  },
  {
   "cell_type": "markdown",
   "metadata": {},
   "source": [
    "<div style=\"border:solid Chocolate 2px; padding: 40px\">\n",
    "\n",
    "**Общий вывод по проекту**\n",
    "\n",
    "\n",
    "Дмитрий, спасибо за твой проект! Ты показал свои навыки, приложил много сил и довел проект до конца. Заметно, что ты действуешь по плану и соблюдаешь структуру, это здорово.\n",
    "\n",
    "Не стоит пугаться большого числа красных комментариев. Я уверен, у тебя все получится и ты справишься. Если будут сложности, то я помогу    \n",
    "    \n",
    "Если есть вопросы, задавай. Буду рад ответить на них🙋     \n",
    "\n",
    "Есть несколько важных моментов, которые я отметил и которые можно было бы улучшить, подсказки ты найдешь в моих комментариях. \n",
    "\n",
    "**Отмечу отдельные положительные моменты проекта🙂**:\n",
    "    \n",
    "* Ты используешь все необходимые для предварительного анализа инструменты!\n",
    "* Очень четкие выводы. Они присутствуют везде где должны быть и полностью понятны\n",
    "* Отличная структура проекта\n",
    "* Ты активно используешь визуализацию, хорошо, что ты не избегаешь этого инструмента анализа\n",
    "* В коде присутствуют комментарии    \n",
    "    \n",
    "**На что стоит обязательно обратить внимание🤓**:\n",
    "\n",
    "* Оформить вступительную часть\n",
    "* Заменить `print` на `display`\n",
    "* Пересмотреть алгоритм удаления дубликатов    \n",
    "* Провести дополнительные исследования для таблиц из A/B теста    \n",
    "* Оформление графиков\n",
    "* Указать возможные причины поведения данных \n",
    "* Добавить вывод по перцентилям\n",
    "* Добавить детализированный график    \n",
    "* Пересмотреть алгоритм и необходимость таблицы `data`    \n",
    "* Сделать шаг проверки гипотез оптимальнее    \n",
    "* Добавить наблюдение какой критерий будет применяться и обоснование своего выбора\n",
    "* Добавить наблюдение какой уровень значимости будет использован        \n",
    "* Важно добавить формулировку гипотез\n",
    "* Переписать и дополнить выводы где требуется\n",
    "* Остальные рекомендации ты найдешь в моих комментариях!\n",
    "\n",
    "\n",
    "**Желаю удачи и жду твой проект на повторное ревью!**😉\n",
    "\n",
    "![gif](https://media.giphy.com/media/xT9IgEYXCNqPZnqMuY/giphy.gif)"
   ]
  },
  {
   "cell_type": "markdown",
   "metadata": {},
   "source": [
    "<div style=\"border:solid Chocolate 2px; padding: 40px\">\n",
    "\n",
    "**Общий вывод по проекту <font color= \"black\"> V2</font>** \n",
    "    \n",
    "Дмитрий, спасибо за обратную связь, проверять твою работу было очень удобно🙏\n",
    "    \n",
    "* Ты молодец, все ошибки исправлены.\n",
    "    \n",
    "Поздравляю с завершением этого проекта, надеюсь мои комментарии были полезны тебе 🥳\n",
    "    \n",
    "**Желаю продуктивной учебы и получать макисимум полезных знаний из каждого проекта! Ты еще на один шаг ближе к своей цели**😉\n",
    "    \n",
    "![gif](https://media3.giphy.com/media/mJHSkWKziszrkcNJPo/giphy.gif?cid=ecf05e4751sqiwyupsnl7wcq220d4w5u5885lsimcajolzd2&rid=giphy.gif&ct=g)"
   ]
  },
  {
   "cell_type": "code",
   "execution_count": null,
   "metadata": {},
   "outputs": [],
   "source": []
  }
 ],
 "metadata": {
  "ExecuteTimeLog": [
   {
    "duration": 412,
    "start_time": "2022-11-23T19:32:31.346Z"
   },
   {
    "duration": 2,
    "start_time": "2022-11-23T19:32:42.804Z"
   },
   {
    "duration": 76,
    "start_time": "2022-11-23T19:33:43.958Z"
   },
   {
    "duration": 11,
    "start_time": "2022-11-23T19:34:01.999Z"
   },
   {
    "duration": 13,
    "start_time": "2022-11-23T19:34:17.733Z"
   },
   {
    "duration": 1274,
    "start_time": "2022-11-23T19:53:41.869Z"
   },
   {
    "duration": 7,
    "start_time": "2022-11-23T19:53:58.884Z"
   },
   {
    "duration": 8,
    "start_time": "2022-11-23T19:54:30.213Z"
   },
   {
    "duration": 1206,
    "start_time": "2022-11-23T19:58:25.687Z"
   },
   {
    "duration": 5,
    "start_time": "2022-11-23T19:58:39.568Z"
   },
   {
    "duration": 9,
    "start_time": "2022-11-23T20:00:06.905Z"
   },
   {
    "duration": 2,
    "start_time": "2022-11-23T20:15:22.353Z"
   },
   {
    "duration": 3,
    "start_time": "2022-11-23T20:16:51.690Z"
   },
   {
    "duration": 94,
    "start_time": "2022-11-23T20:21:15.309Z"
   },
   {
    "duration": 78,
    "start_time": "2022-11-23T20:22:07.842Z"
   },
   {
    "duration": 8,
    "start_time": "2022-11-23T20:22:17.390Z"
   },
   {
    "duration": 8,
    "start_time": "2022-11-23T20:22:49.217Z"
   },
   {
    "duration": 379,
    "start_time": "2022-11-23T20:23:03.285Z"
   },
   {
    "duration": 2,
    "start_time": "2022-11-23T20:23:03.666Z"
   },
   {
    "duration": 37,
    "start_time": "2022-11-23T20:23:03.670Z"
   },
   {
    "duration": 11,
    "start_time": "2022-11-23T20:23:03.709Z"
   },
   {
    "duration": 23,
    "start_time": "2022-11-23T20:23:03.721Z"
   },
   {
    "duration": 8,
    "start_time": "2022-11-23T20:23:03.746Z"
   },
   {
    "duration": 11,
    "start_time": "2022-11-23T20:23:03.755Z"
   },
   {
    "duration": 6,
    "start_time": "2022-11-23T20:23:03.768Z"
   },
   {
    "duration": 19,
    "start_time": "2022-11-23T20:23:03.775Z"
   },
   {
    "duration": 42,
    "start_time": "2022-11-23T20:23:03.796Z"
   },
   {
    "duration": 15,
    "start_time": "2022-11-23T20:23:03.840Z"
   },
   {
    "duration": 10,
    "start_time": "2022-11-23T20:23:03.856Z"
   },
   {
    "duration": 12,
    "start_time": "2022-11-23T20:23:29.567Z"
   },
   {
    "duration": 69,
    "start_time": "2022-11-23T20:24:46.441Z"
   },
   {
    "duration": 8,
    "start_time": "2022-11-23T20:25:28.892Z"
   },
   {
    "duration": 5,
    "start_time": "2022-11-23T20:25:42.437Z"
   },
   {
    "duration": 6,
    "start_time": "2022-11-23T20:26:01.462Z"
   },
   {
    "duration": 4,
    "start_time": "2022-11-23T20:26:17.270Z"
   },
   {
    "duration": 390,
    "start_time": "2022-11-26T12:22:51.378Z"
   },
   {
    "duration": 2,
    "start_time": "2022-11-26T12:22:51.770Z"
   },
   {
    "duration": 30,
    "start_time": "2022-11-26T12:22:51.777Z"
   },
   {
    "duration": 11,
    "start_time": "2022-11-26T12:22:51.809Z"
   },
   {
    "duration": 24,
    "start_time": "2022-11-26T12:22:51.823Z"
   },
   {
    "duration": 5,
    "start_time": "2022-11-26T12:22:51.849Z"
   },
   {
    "duration": 7,
    "start_time": "2022-11-26T12:22:51.856Z"
   },
   {
    "duration": 7,
    "start_time": "2022-11-26T12:22:51.864Z"
   },
   {
    "duration": 8,
    "start_time": "2022-11-26T12:22:51.872Z"
   },
   {
    "duration": 42,
    "start_time": "2022-11-26T12:22:51.881Z"
   },
   {
    "duration": 15,
    "start_time": "2022-11-26T12:22:51.924Z"
   },
   {
    "duration": 10,
    "start_time": "2022-11-26T12:22:51.941Z"
   },
   {
    "duration": 7,
    "start_time": "2022-11-26T12:22:51.952Z"
   },
   {
    "duration": 12,
    "start_time": "2022-11-26T12:22:51.961Z"
   },
   {
    "duration": 6,
    "start_time": "2022-11-26T12:22:51.975Z"
   },
   {
    "duration": 6,
    "start_time": "2022-11-26T12:22:51.982Z"
   },
   {
    "duration": 5,
    "start_time": "2022-11-26T12:24:33.630Z"
   },
   {
    "duration": 8,
    "start_time": "2022-11-26T12:25:18.176Z"
   },
   {
    "duration": 4,
    "start_time": "2022-11-26T12:25:51.878Z"
   },
   {
    "duration": 6,
    "start_time": "2022-11-26T12:25:52.579Z"
   },
   {
    "duration": 7,
    "start_time": "2022-11-26T12:25:53.329Z"
   },
   {
    "duration": 4,
    "start_time": "2022-11-26T12:28:21.658Z"
   },
   {
    "duration": 6,
    "start_time": "2022-11-26T12:28:22.700Z"
   },
   {
    "duration": 8,
    "start_time": "2022-11-26T12:28:23.084Z"
   },
   {
    "duration": 4,
    "start_time": "2022-11-26T12:28:29.458Z"
   },
   {
    "duration": 7,
    "start_time": "2022-11-26T12:28:30.058Z"
   },
   {
    "duration": 9,
    "start_time": "2022-11-26T12:28:30.557Z"
   },
   {
    "duration": 4,
    "start_time": "2022-11-26T12:29:14.273Z"
   },
   {
    "duration": 7,
    "start_time": "2022-11-26T12:29:39.237Z"
   },
   {
    "duration": 440,
    "start_time": "2022-11-26T12:33:27.428Z"
   },
   {
    "duration": 2,
    "start_time": "2022-11-26T12:33:46.339Z"
   },
   {
    "duration": 8,
    "start_time": "2022-11-26T12:36:28.578Z"
   },
   {
    "duration": 5,
    "start_time": "2022-11-26T12:36:40.328Z"
   },
   {
    "duration": 67,
    "start_time": "2022-11-26T12:42:39.119Z"
   },
   {
    "duration": 70,
    "start_time": "2022-11-26T12:43:28.484Z"
   },
   {
    "duration": 84,
    "start_time": "2022-11-26T12:43:35.512Z"
   },
   {
    "duration": 75,
    "start_time": "2022-11-26T12:44:00.786Z"
   },
   {
    "duration": 9,
    "start_time": "2022-11-26T12:44:11.171Z"
   },
   {
    "duration": 11,
    "start_time": "2022-11-26T12:44:34.427Z"
   },
   {
    "duration": 9,
    "start_time": "2022-11-26T12:44:57.970Z"
   },
   {
    "duration": 391,
    "start_time": "2022-11-26T12:50:48.284Z"
   },
   {
    "duration": 3,
    "start_time": "2022-11-26T12:50:48.678Z"
   },
   {
    "duration": 435,
    "start_time": "2022-11-26T12:50:48.682Z"
   },
   {
    "duration": 3,
    "start_time": "2022-11-26T12:50:49.119Z"
   },
   {
    "duration": 5,
    "start_time": "2022-11-26T12:50:49.124Z"
   },
   {
    "duration": 220,
    "start_time": "2022-11-26T12:50:49.131Z"
   },
   {
    "duration": 3,
    "start_time": "2022-11-26T12:50:49.353Z"
   },
   {
    "duration": 10,
    "start_time": "2022-11-26T12:50:49.357Z"
   },
   {
    "duration": 81,
    "start_time": "2022-11-26T12:50:49.369Z"
   },
   {
    "duration": 10,
    "start_time": "2022-11-26T12:50:49.452Z"
   },
   {
    "duration": 13,
    "start_time": "2022-11-26T12:50:49.464Z"
   },
   {
    "duration": 5,
    "start_time": "2022-11-26T12:50:49.478Z"
   },
   {
    "duration": 8,
    "start_time": "2022-11-26T12:50:49.484Z"
   },
   {
    "duration": 3,
    "start_time": "2022-11-26T12:50:49.495Z"
   },
   {
    "duration": 10,
    "start_time": "2022-11-26T12:50:49.500Z"
   },
   {
    "duration": 43,
    "start_time": "2022-11-26T12:50:49.511Z"
   },
   {
    "duration": 15,
    "start_time": "2022-11-26T12:50:49.555Z"
   },
   {
    "duration": 9,
    "start_time": "2022-11-26T12:50:49.572Z"
   },
   {
    "duration": 5,
    "start_time": "2022-11-26T12:50:49.582Z"
   },
   {
    "duration": 9,
    "start_time": "2022-11-26T12:50:49.588Z"
   },
   {
    "duration": 11,
    "start_time": "2022-11-26T12:50:49.598Z"
   },
   {
    "duration": 11,
    "start_time": "2022-11-26T12:50:49.610Z"
   },
   {
    "duration": 5,
    "start_time": "2022-11-26T12:50:49.622Z"
   },
   {
    "duration": 10,
    "start_time": "2022-11-26T12:50:49.628Z"
   },
   {
    "duration": 8,
    "start_time": "2022-11-26T12:50:49.639Z"
   },
   {
    "duration": 7,
    "start_time": "2022-11-26T12:50:49.648Z"
   },
   {
    "duration": 6,
    "start_time": "2022-11-26T12:50:49.677Z"
   },
   {
    "duration": 5,
    "start_time": "2022-11-26T12:50:49.684Z"
   },
   {
    "duration": 10,
    "start_time": "2022-11-26T12:50:49.690Z"
   },
   {
    "duration": 4,
    "start_time": "2022-11-26T12:52:39.639Z"
   },
   {
    "duration": 5,
    "start_time": "2022-11-26T12:56:53.522Z"
   },
   {
    "duration": 14,
    "start_time": "2022-11-26T12:58:59.184Z"
   },
   {
    "duration": 6,
    "start_time": "2022-11-26T13:01:57.411Z"
   },
   {
    "duration": 5,
    "start_time": "2022-11-26T13:02:19.925Z"
   },
   {
    "duration": 5,
    "start_time": "2022-11-26T13:02:49.666Z"
   },
   {
    "duration": 11,
    "start_time": "2022-11-26T13:03:06.046Z"
   },
   {
    "duration": 12,
    "start_time": "2022-11-26T13:05:44.545Z"
   },
   {
    "duration": 88,
    "start_time": "2022-11-26T13:06:32.906Z"
   },
   {
    "duration": 1106,
    "start_time": "2022-11-26T13:06:40.645Z"
   },
   {
    "duration": 4,
    "start_time": "2022-11-26T13:07:21.431Z"
   },
   {
    "duration": 5,
    "start_time": "2022-11-26T13:07:38.662Z"
   },
   {
    "duration": 383,
    "start_time": "2022-11-26T13:26:28.286Z"
   },
   {
    "duration": 7,
    "start_time": "2022-11-26T13:26:28.671Z"
   },
   {
    "duration": 417,
    "start_time": "2022-11-26T13:26:28.679Z"
   },
   {
    "duration": 3,
    "start_time": "2022-11-26T13:26:29.098Z"
   },
   {
    "duration": 7,
    "start_time": "2022-11-26T13:26:29.102Z"
   },
   {
    "duration": 177,
    "start_time": "2022-11-26T13:26:29.110Z"
   },
   {
    "duration": 2,
    "start_time": "2022-11-26T13:26:29.289Z"
   },
   {
    "duration": 5,
    "start_time": "2022-11-26T13:26:29.292Z"
   },
   {
    "duration": 74,
    "start_time": "2022-11-26T13:26:29.299Z"
   },
   {
    "duration": 10,
    "start_time": "2022-11-26T13:26:29.375Z"
   },
   {
    "duration": 12,
    "start_time": "2022-11-26T13:26:29.386Z"
   },
   {
    "duration": 5,
    "start_time": "2022-11-26T13:26:29.400Z"
   },
   {
    "duration": 8,
    "start_time": "2022-11-26T13:26:29.407Z"
   },
   {
    "duration": 11,
    "start_time": "2022-11-26T13:26:29.416Z"
   },
   {
    "duration": 14,
    "start_time": "2022-11-26T13:26:29.428Z"
   },
   {
    "duration": 41,
    "start_time": "2022-11-26T13:26:29.443Z"
   },
   {
    "duration": 14,
    "start_time": "2022-11-26T13:26:29.486Z"
   },
   {
    "duration": 9,
    "start_time": "2022-11-26T13:26:29.502Z"
   },
   {
    "duration": 8,
    "start_time": "2022-11-26T13:26:29.512Z"
   },
   {
    "duration": 10,
    "start_time": "2022-11-26T13:26:29.521Z"
   },
   {
    "duration": 13,
    "start_time": "2022-11-26T13:26:29.532Z"
   },
   {
    "duration": 12,
    "start_time": "2022-11-26T13:26:29.546Z"
   },
   {
    "duration": 6,
    "start_time": "2022-11-26T13:26:29.559Z"
   },
   {
    "duration": 10,
    "start_time": "2022-11-26T13:26:29.566Z"
   },
   {
    "duration": 8,
    "start_time": "2022-11-26T13:26:29.577Z"
   },
   {
    "duration": 7,
    "start_time": "2022-11-26T13:26:29.586Z"
   },
   {
    "duration": 6,
    "start_time": "2022-11-26T13:26:29.595Z"
   },
   {
    "duration": 5,
    "start_time": "2022-11-26T13:26:29.603Z"
   },
   {
    "duration": 11,
    "start_time": "2022-11-26T13:26:29.609Z"
   },
   {
    "duration": 3,
    "start_time": "2022-11-26T13:26:29.622Z"
   },
   {
    "duration": 10,
    "start_time": "2022-11-26T13:26:29.627Z"
   },
   {
    "duration": 11,
    "start_time": "2022-11-26T13:26:29.638Z"
   },
   {
    "duration": 31,
    "start_time": "2022-11-26T13:26:29.650Z"
   },
   {
    "duration": 4,
    "start_time": "2022-11-26T13:26:29.683Z"
   },
   {
    "duration": 96,
    "start_time": "2022-11-26T13:26:29.689Z"
   },
   {
    "duration": 10,
    "start_time": "2022-11-26T13:27:54.687Z"
   },
   {
    "duration": 11,
    "start_time": "2022-11-26T13:28:18.826Z"
   },
   {
    "duration": 7,
    "start_time": "2022-11-26T13:30:16.018Z"
   },
   {
    "duration": 11,
    "start_time": "2022-11-26T13:30:27.048Z"
   },
   {
    "duration": 5,
    "start_time": "2022-11-26T13:32:16.464Z"
   },
   {
    "duration": 10,
    "start_time": "2022-11-26T13:32:29.657Z"
   },
   {
    "duration": 81,
    "start_time": "2022-11-26T13:34:56.258Z"
   },
   {
    "duration": 9,
    "start_time": "2022-11-26T13:35:07.059Z"
   },
   {
    "duration": 2,
    "start_time": "2022-11-26T13:35:10.628Z"
   },
   {
    "duration": 368,
    "start_time": "2022-11-26T13:35:18.721Z"
   },
   {
    "duration": 3,
    "start_time": "2022-11-26T13:35:19.090Z"
   },
   {
    "duration": 413,
    "start_time": "2022-11-26T13:35:19.094Z"
   },
   {
    "duration": 3,
    "start_time": "2022-11-26T13:35:19.508Z"
   },
   {
    "duration": 13,
    "start_time": "2022-11-26T13:35:19.513Z"
   },
   {
    "duration": 195,
    "start_time": "2022-11-26T13:35:19.528Z"
   },
   {
    "duration": 3,
    "start_time": "2022-11-26T13:35:19.724Z"
   },
   {
    "duration": 5,
    "start_time": "2022-11-26T13:35:19.728Z"
   },
   {
    "duration": 68,
    "start_time": "2022-11-26T13:35:19.734Z"
   },
   {
    "duration": 28,
    "start_time": "2022-11-26T13:35:19.803Z"
   },
   {
    "duration": 10,
    "start_time": "2022-11-26T13:35:19.833Z"
   },
   {
    "duration": 11,
    "start_time": "2022-11-26T13:35:19.845Z"
   },
   {
    "duration": 5,
    "start_time": "2022-11-26T13:35:19.858Z"
   },
   {
    "duration": 5,
    "start_time": "2022-11-26T13:35:19.866Z"
   },
   {
    "duration": 3,
    "start_time": "2022-11-26T13:35:19.878Z"
   },
   {
    "duration": 8,
    "start_time": "2022-11-26T13:35:19.883Z"
   },
   {
    "duration": 40,
    "start_time": "2022-11-26T13:35:19.893Z"
   },
   {
    "duration": 15,
    "start_time": "2022-11-26T13:35:19.935Z"
   },
   {
    "duration": 10,
    "start_time": "2022-11-26T13:35:19.952Z"
   },
   {
    "duration": 4,
    "start_time": "2022-11-26T13:35:19.963Z"
   },
   {
    "duration": 7,
    "start_time": "2022-11-26T13:35:19.968Z"
   },
   {
    "duration": 9,
    "start_time": "2022-11-26T13:35:19.976Z"
   },
   {
    "duration": 9,
    "start_time": "2022-11-26T13:35:19.986Z"
   },
   {
    "duration": 6,
    "start_time": "2022-11-26T13:35:19.997Z"
   },
   {
    "duration": 32,
    "start_time": "2022-11-26T13:35:20.004Z"
   },
   {
    "duration": 16,
    "start_time": "2022-11-26T13:35:20.038Z"
   },
   {
    "duration": 10,
    "start_time": "2022-11-26T13:35:20.055Z"
   },
   {
    "duration": 8,
    "start_time": "2022-11-26T13:35:20.066Z"
   },
   {
    "duration": 7,
    "start_time": "2022-11-26T13:35:20.076Z"
   },
   {
    "duration": 9,
    "start_time": "2022-11-26T13:35:20.084Z"
   },
   {
    "duration": 4,
    "start_time": "2022-11-26T13:35:20.095Z"
   },
   {
    "duration": 44,
    "start_time": "2022-11-26T13:35:20.100Z"
   },
   {
    "duration": 106,
    "start_time": "2022-11-26T13:36:37.339Z"
   },
   {
    "duration": 609,
    "start_time": "2022-11-26T13:39:01.421Z"
   },
   {
    "duration": 25,
    "start_time": "2022-11-26T13:42:05.553Z"
   },
   {
    "duration": 25,
    "start_time": "2022-11-26T13:42:31.441Z"
   },
   {
    "duration": 373,
    "start_time": "2022-11-26T13:43:03.106Z"
   },
   {
    "duration": 2,
    "start_time": "2022-11-26T13:43:03.480Z"
   },
   {
    "duration": 429,
    "start_time": "2022-11-26T13:43:03.484Z"
   },
   {
    "duration": 3,
    "start_time": "2022-11-26T13:43:03.915Z"
   },
   {
    "duration": 6,
    "start_time": "2022-11-26T13:43:03.920Z"
   },
   {
    "duration": 235,
    "start_time": "2022-11-26T13:43:03.928Z"
   },
   {
    "duration": 3,
    "start_time": "2022-11-26T13:43:04.165Z"
   },
   {
    "duration": 11,
    "start_time": "2022-11-26T13:43:04.170Z"
   },
   {
    "duration": 64,
    "start_time": "2022-11-26T13:43:04.183Z"
   },
   {
    "duration": 28,
    "start_time": "2022-11-26T13:43:04.248Z"
   },
   {
    "duration": 11,
    "start_time": "2022-11-26T13:43:04.277Z"
   },
   {
    "duration": 11,
    "start_time": "2022-11-26T13:43:04.290Z"
   },
   {
    "duration": 5,
    "start_time": "2022-11-26T13:43:04.303Z"
   },
   {
    "duration": 9,
    "start_time": "2022-11-26T13:43:04.312Z"
   },
   {
    "duration": 6,
    "start_time": "2022-11-26T13:43:04.323Z"
   },
   {
    "duration": 9,
    "start_time": "2022-11-26T13:43:04.330Z"
   },
   {
    "duration": 42,
    "start_time": "2022-11-26T13:43:04.340Z"
   },
   {
    "duration": 15,
    "start_time": "2022-11-26T13:43:04.383Z"
   },
   {
    "duration": 10,
    "start_time": "2022-11-26T13:43:04.400Z"
   },
   {
    "duration": 7,
    "start_time": "2022-11-26T13:43:04.411Z"
   },
   {
    "duration": 7,
    "start_time": "2022-11-26T13:43:04.419Z"
   },
   {
    "duration": 11,
    "start_time": "2022-11-26T13:43:04.427Z"
   },
   {
    "duration": 12,
    "start_time": "2022-11-26T13:43:04.439Z"
   },
   {
    "duration": 5,
    "start_time": "2022-11-26T13:43:04.453Z"
   },
   {
    "duration": 10,
    "start_time": "2022-11-26T13:43:04.459Z"
   },
   {
    "duration": 5,
    "start_time": "2022-11-26T13:43:04.477Z"
   },
   {
    "duration": 8,
    "start_time": "2022-11-26T13:43:04.484Z"
   },
   {
    "duration": 7,
    "start_time": "2022-11-26T13:43:04.493Z"
   },
   {
    "duration": 11,
    "start_time": "2022-11-26T13:43:04.502Z"
   },
   {
    "duration": 10,
    "start_time": "2022-11-26T13:43:04.515Z"
   },
   {
    "duration": 4,
    "start_time": "2022-11-26T13:43:04.527Z"
   },
   {
    "duration": 10,
    "start_time": "2022-11-26T13:43:04.532Z"
   },
   {
    "duration": 138,
    "start_time": "2022-11-26T13:43:04.543Z"
   },
   {
    "duration": 456,
    "start_time": "2022-11-26T13:45:12.675Z"
   },
   {
    "duration": 374,
    "start_time": "2022-11-26T13:45:53.204Z"
   },
   {
    "duration": 3,
    "start_time": "2022-11-26T13:45:53.579Z"
   },
   {
    "duration": 447,
    "start_time": "2022-11-26T13:45:53.583Z"
   },
   {
    "duration": 3,
    "start_time": "2022-11-26T13:45:54.033Z"
   },
   {
    "duration": 11,
    "start_time": "2022-11-26T13:45:54.038Z"
   },
   {
    "duration": 217,
    "start_time": "2022-11-26T13:45:54.053Z"
   },
   {
    "duration": 6,
    "start_time": "2022-11-26T13:45:54.272Z"
   },
   {
    "duration": 5,
    "start_time": "2022-11-26T13:45:54.279Z"
   },
   {
    "duration": 76,
    "start_time": "2022-11-26T13:45:54.285Z"
   },
   {
    "duration": 28,
    "start_time": "2022-11-26T13:45:54.365Z"
   },
   {
    "duration": 10,
    "start_time": "2022-11-26T13:45:54.395Z"
   },
   {
    "duration": 14,
    "start_time": "2022-11-26T13:45:54.406Z"
   },
   {
    "duration": 9,
    "start_time": "2022-11-26T13:45:54.421Z"
   },
   {
    "duration": 7,
    "start_time": "2022-11-26T13:45:54.431Z"
   },
   {
    "duration": 6,
    "start_time": "2022-11-26T13:45:54.439Z"
   },
   {
    "duration": 9,
    "start_time": "2022-11-26T13:45:54.446Z"
   },
   {
    "duration": 43,
    "start_time": "2022-11-26T13:45:54.456Z"
   },
   {
    "duration": 16,
    "start_time": "2022-11-26T13:45:54.501Z"
   },
   {
    "duration": 10,
    "start_time": "2022-11-26T13:45:54.518Z"
   },
   {
    "duration": 6,
    "start_time": "2022-11-26T13:45:54.529Z"
   },
   {
    "duration": 5,
    "start_time": "2022-11-26T13:45:54.536Z"
   },
   {
    "duration": 13,
    "start_time": "2022-11-26T13:45:54.542Z"
   },
   {
    "duration": 9,
    "start_time": "2022-11-26T13:45:54.557Z"
   },
   {
    "duration": 4,
    "start_time": "2022-11-26T13:45:54.567Z"
   },
   {
    "duration": 8,
    "start_time": "2022-11-26T13:45:54.573Z"
   },
   {
    "duration": 7,
    "start_time": "2022-11-26T13:45:54.583Z"
   },
   {
    "duration": 12,
    "start_time": "2022-11-26T13:45:54.592Z"
   },
   {
    "duration": 6,
    "start_time": "2022-11-26T13:45:54.606Z"
   },
   {
    "duration": 5,
    "start_time": "2022-11-26T13:45:54.613Z"
   },
   {
    "duration": 14,
    "start_time": "2022-11-26T13:45:54.619Z"
   },
   {
    "duration": 4,
    "start_time": "2022-11-26T13:45:54.634Z"
   },
   {
    "duration": 11,
    "start_time": "2022-11-26T13:45:54.639Z"
   },
   {
    "duration": 396,
    "start_time": "2022-11-26T13:45:54.652Z"
   },
   {
    "duration": 35,
    "start_time": "2022-11-26T13:46:30.669Z"
   },
   {
    "duration": 295,
    "start_time": "2022-11-26T13:46:48.024Z"
   },
   {
    "duration": 392,
    "start_time": "2022-11-26T13:47:27.272Z"
   },
   {
    "duration": 2,
    "start_time": "2022-11-26T13:47:27.666Z"
   },
   {
    "duration": 433,
    "start_time": "2022-11-26T13:47:27.670Z"
   },
   {
    "duration": 2,
    "start_time": "2022-11-26T13:47:28.105Z"
   },
   {
    "duration": 13,
    "start_time": "2022-11-26T13:47:28.108Z"
   },
   {
    "duration": 194,
    "start_time": "2022-11-26T13:47:28.122Z"
   },
   {
    "duration": 2,
    "start_time": "2022-11-26T13:47:28.318Z"
   },
   {
    "duration": 8,
    "start_time": "2022-11-26T13:47:28.321Z"
   },
   {
    "duration": 67,
    "start_time": "2022-11-26T13:47:28.330Z"
   },
   {
    "duration": 28,
    "start_time": "2022-11-26T13:47:28.399Z"
   },
   {
    "duration": 10,
    "start_time": "2022-11-26T13:47:28.429Z"
   },
   {
    "duration": 23,
    "start_time": "2022-11-26T13:47:28.440Z"
   },
   {
    "duration": 7,
    "start_time": "2022-11-26T13:47:28.465Z"
   },
   {
    "duration": 18,
    "start_time": "2022-11-26T13:47:28.474Z"
   },
   {
    "duration": 8,
    "start_time": "2022-11-26T13:47:28.494Z"
   },
   {
    "duration": 22,
    "start_time": "2022-11-26T13:47:28.503Z"
   },
   {
    "duration": 43,
    "start_time": "2022-11-26T13:47:28.527Z"
   },
   {
    "duration": 15,
    "start_time": "2022-11-26T13:47:28.572Z"
   },
   {
    "duration": 9,
    "start_time": "2022-11-26T13:47:28.588Z"
   },
   {
    "duration": 18,
    "start_time": "2022-11-26T13:47:28.599Z"
   },
   {
    "duration": 15,
    "start_time": "2022-11-26T13:47:28.618Z"
   },
   {
    "duration": 20,
    "start_time": "2022-11-26T13:47:28.634Z"
   },
   {
    "duration": 12,
    "start_time": "2022-11-26T13:47:28.656Z"
   },
   {
    "duration": 6,
    "start_time": "2022-11-26T13:47:28.670Z"
   },
   {
    "duration": 9,
    "start_time": "2022-11-26T13:47:28.678Z"
   },
   {
    "duration": 7,
    "start_time": "2022-11-26T13:47:28.688Z"
   },
   {
    "duration": 8,
    "start_time": "2022-11-26T13:47:28.696Z"
   },
   {
    "duration": 6,
    "start_time": "2022-11-26T13:47:28.706Z"
   },
   {
    "duration": 5,
    "start_time": "2022-11-26T13:47:28.713Z"
   },
   {
    "duration": 11,
    "start_time": "2022-11-26T13:47:28.719Z"
   },
   {
    "duration": 4,
    "start_time": "2022-11-26T13:47:28.731Z"
   },
   {
    "duration": 13,
    "start_time": "2022-11-26T13:47:28.736Z"
   },
   {
    "duration": 514,
    "start_time": "2022-11-26T13:47:28.750Z"
   },
   {
    "duration": 384,
    "start_time": "2022-11-26T13:48:33.102Z"
   },
   {
    "duration": 365,
    "start_time": "2022-11-26T13:48:43.225Z"
   },
   {
    "duration": 2,
    "start_time": "2022-11-26T13:48:43.592Z"
   },
   {
    "duration": 444,
    "start_time": "2022-11-26T13:48:43.596Z"
   },
   {
    "duration": 3,
    "start_time": "2022-11-26T13:48:44.042Z"
   },
   {
    "duration": 7,
    "start_time": "2022-11-26T13:48:44.048Z"
   },
   {
    "duration": 246,
    "start_time": "2022-11-26T13:48:44.057Z"
   },
   {
    "duration": 2,
    "start_time": "2022-11-26T13:48:44.305Z"
   },
   {
    "duration": 6,
    "start_time": "2022-11-26T13:48:44.309Z"
   },
   {
    "duration": 68,
    "start_time": "2022-11-26T13:48:44.316Z"
   },
   {
    "duration": 29,
    "start_time": "2022-11-26T13:48:44.385Z"
   },
   {
    "duration": 10,
    "start_time": "2022-11-26T13:48:44.416Z"
   },
   {
    "duration": 16,
    "start_time": "2022-11-26T13:48:44.428Z"
   },
   {
    "duration": 5,
    "start_time": "2022-11-26T13:48:44.445Z"
   },
   {
    "duration": 6,
    "start_time": "2022-11-26T13:48:44.452Z"
   },
   {
    "duration": 6,
    "start_time": "2022-11-26T13:48:44.460Z"
   },
   {
    "duration": 13,
    "start_time": "2022-11-26T13:48:44.468Z"
   },
   {
    "duration": 39,
    "start_time": "2022-11-26T13:48:44.482Z"
   },
   {
    "duration": 17,
    "start_time": "2022-11-26T13:48:44.522Z"
   },
   {
    "duration": 11,
    "start_time": "2022-11-26T13:48:44.540Z"
   },
   {
    "duration": 4,
    "start_time": "2022-11-26T13:48:44.553Z"
   },
   {
    "duration": 5,
    "start_time": "2022-11-26T13:48:44.559Z"
   },
   {
    "duration": 10,
    "start_time": "2022-11-26T13:48:44.565Z"
   },
   {
    "duration": 10,
    "start_time": "2022-11-26T13:48:44.577Z"
   },
   {
    "duration": 4,
    "start_time": "2022-11-26T13:48:44.589Z"
   },
   {
    "duration": 11,
    "start_time": "2022-11-26T13:48:44.594Z"
   },
   {
    "duration": 7,
    "start_time": "2022-11-26T13:48:44.606Z"
   },
   {
    "duration": 6,
    "start_time": "2022-11-26T13:48:44.614Z"
   },
   {
    "duration": 6,
    "start_time": "2022-11-26T13:48:44.622Z"
   },
   {
    "duration": 5,
    "start_time": "2022-11-26T13:48:44.630Z"
   },
   {
    "duration": 42,
    "start_time": "2022-11-26T13:48:44.637Z"
   },
   {
    "duration": 6,
    "start_time": "2022-11-26T13:48:44.680Z"
   },
   {
    "duration": 13,
    "start_time": "2022-11-26T13:48:44.687Z"
   },
   {
    "duration": 585,
    "start_time": "2022-11-26T13:48:44.701Z"
   },
   {
    "duration": 366,
    "start_time": "2022-11-26T13:51:09.305Z"
   },
   {
    "duration": 2,
    "start_time": "2022-11-26T13:51:09.673Z"
   },
   {
    "duration": 441,
    "start_time": "2022-11-26T13:51:09.677Z"
   },
   {
    "duration": 2,
    "start_time": "2022-11-26T13:51:10.120Z"
   },
   {
    "duration": 5,
    "start_time": "2022-11-26T13:51:10.124Z"
   },
   {
    "duration": 182,
    "start_time": "2022-11-26T13:51:10.130Z"
   },
   {
    "duration": 3,
    "start_time": "2022-11-26T13:51:10.313Z"
   },
   {
    "duration": 7,
    "start_time": "2022-11-26T13:51:10.317Z"
   },
   {
    "duration": 60,
    "start_time": "2022-11-26T13:51:10.325Z"
   },
   {
    "duration": 28,
    "start_time": "2022-11-26T13:51:10.386Z"
   },
   {
    "duration": 10,
    "start_time": "2022-11-26T13:51:10.415Z"
   },
   {
    "duration": 26,
    "start_time": "2022-11-26T13:51:10.426Z"
   },
   {
    "duration": 15,
    "start_time": "2022-11-26T13:51:10.453Z"
   },
   {
    "duration": 13,
    "start_time": "2022-11-26T13:51:10.471Z"
   },
   {
    "duration": 15,
    "start_time": "2022-11-26T13:51:10.485Z"
   },
   {
    "duration": 17,
    "start_time": "2022-11-26T13:51:10.501Z"
   },
   {
    "duration": 53,
    "start_time": "2022-11-26T13:51:10.519Z"
   },
   {
    "duration": 16,
    "start_time": "2022-11-26T13:51:10.573Z"
   },
   {
    "duration": 10,
    "start_time": "2022-11-26T13:51:10.590Z"
   },
   {
    "duration": 6,
    "start_time": "2022-11-26T13:51:10.601Z"
   },
   {
    "duration": 14,
    "start_time": "2022-11-26T13:51:10.608Z"
   },
   {
    "duration": 10,
    "start_time": "2022-11-26T13:51:10.623Z"
   },
   {
    "duration": 10,
    "start_time": "2022-11-26T13:51:10.635Z"
   },
   {
    "duration": 5,
    "start_time": "2022-11-26T13:51:10.647Z"
   },
   {
    "duration": 10,
    "start_time": "2022-11-26T13:51:10.653Z"
   },
   {
    "duration": 14,
    "start_time": "2022-11-26T13:51:10.664Z"
   },
   {
    "duration": 7,
    "start_time": "2022-11-26T13:51:10.680Z"
   },
   {
    "duration": 6,
    "start_time": "2022-11-26T13:51:10.688Z"
   },
   {
    "duration": 10,
    "start_time": "2022-11-26T13:51:10.695Z"
   },
   {
    "duration": 12,
    "start_time": "2022-11-26T13:51:10.706Z"
   },
   {
    "duration": 4,
    "start_time": "2022-11-26T13:51:10.720Z"
   },
   {
    "duration": 11,
    "start_time": "2022-11-26T13:51:10.725Z"
   },
   {
    "duration": 536,
    "start_time": "2022-11-26T13:51:10.737Z"
   },
   {
    "duration": 107,
    "start_time": "2022-11-26T13:52:09.274Z"
   },
   {
    "duration": 396,
    "start_time": "2022-11-26T13:52:36.758Z"
   },
   {
    "duration": 428,
    "start_time": "2022-11-26T13:52:50.765Z"
   },
   {
    "duration": 44,
    "start_time": "2022-11-26T13:54:44.162Z"
   },
   {
    "duration": 538,
    "start_time": "2022-11-26T13:55:25.743Z"
   },
   {
    "duration": 417,
    "start_time": "2022-11-26T15:05:36.357Z"
   },
   {
    "duration": 3,
    "start_time": "2022-11-26T15:05:36.778Z"
   },
   {
    "duration": 447,
    "start_time": "2022-11-26T15:05:36.782Z"
   },
   {
    "duration": 2,
    "start_time": "2022-11-26T15:05:37.231Z"
   },
   {
    "duration": 27,
    "start_time": "2022-11-26T15:05:37.235Z"
   },
   {
    "duration": 216,
    "start_time": "2022-11-26T15:05:37.264Z"
   },
   {
    "duration": 3,
    "start_time": "2022-11-26T15:05:37.482Z"
   },
   {
    "duration": 5,
    "start_time": "2022-11-26T15:05:37.486Z"
   },
   {
    "duration": 64,
    "start_time": "2022-11-26T15:05:37.492Z"
   },
   {
    "duration": 28,
    "start_time": "2022-11-26T15:05:37.560Z"
   },
   {
    "duration": 12,
    "start_time": "2022-11-26T15:05:37.589Z"
   },
   {
    "duration": 13,
    "start_time": "2022-11-26T15:05:37.602Z"
   },
   {
    "duration": 7,
    "start_time": "2022-11-26T15:05:37.617Z"
   },
   {
    "duration": 8,
    "start_time": "2022-11-26T15:05:37.625Z"
   },
   {
    "duration": 6,
    "start_time": "2022-11-26T15:05:37.635Z"
   },
   {
    "duration": 9,
    "start_time": "2022-11-26T15:05:37.642Z"
   },
   {
    "duration": 42,
    "start_time": "2022-11-26T15:05:37.653Z"
   },
   {
    "duration": 15,
    "start_time": "2022-11-26T15:05:37.697Z"
   },
   {
    "duration": 10,
    "start_time": "2022-11-26T15:05:37.714Z"
   },
   {
    "duration": 5,
    "start_time": "2022-11-26T15:05:37.725Z"
   },
   {
    "duration": 14,
    "start_time": "2022-11-26T15:05:37.732Z"
   },
   {
    "duration": 12,
    "start_time": "2022-11-26T15:05:37.747Z"
   },
   {
    "duration": 13,
    "start_time": "2022-11-26T15:05:37.760Z"
   },
   {
    "duration": 7,
    "start_time": "2022-11-26T15:05:37.775Z"
   },
   {
    "duration": 17,
    "start_time": "2022-11-26T15:05:37.784Z"
   },
   {
    "duration": 8,
    "start_time": "2022-11-26T15:05:37.802Z"
   },
   {
    "duration": 8,
    "start_time": "2022-11-26T15:05:37.812Z"
   },
   {
    "duration": 7,
    "start_time": "2022-11-26T15:05:37.823Z"
   },
   {
    "duration": 4,
    "start_time": "2022-11-26T15:05:37.832Z"
   },
   {
    "duration": 9,
    "start_time": "2022-11-26T15:05:37.838Z"
   },
   {
    "duration": 5,
    "start_time": "2022-11-26T15:05:37.849Z"
   },
   {
    "duration": 11,
    "start_time": "2022-11-26T15:05:37.878Z"
   },
   {
    "duration": 535,
    "start_time": "2022-11-26T15:05:37.891Z"
   },
   {
    "duration": 453,
    "start_time": "2022-11-26T15:05:38.427Z"
   },
   {
    "duration": 600,
    "start_time": "2022-11-26T15:05:38.882Z"
   },
   {
    "duration": 113,
    "start_time": "2022-11-26T15:05:39.484Z"
   },
   {
    "duration": 403,
    "start_time": "2022-11-26T15:06:09.013Z"
   },
   {
    "duration": 412,
    "start_time": "2022-11-26T15:06:46.018Z"
   },
   {
    "duration": 394,
    "start_time": "2022-11-26T15:06:57.791Z"
   },
   {
    "duration": 3,
    "start_time": "2022-11-26T15:06:58.187Z"
   },
   {
    "duration": 430,
    "start_time": "2022-11-26T15:06:58.191Z"
   },
   {
    "duration": 2,
    "start_time": "2022-11-26T15:06:58.623Z"
   },
   {
    "duration": 6,
    "start_time": "2022-11-26T15:06:58.627Z"
   },
   {
    "duration": 190,
    "start_time": "2022-11-26T15:06:58.635Z"
   },
   {
    "duration": 3,
    "start_time": "2022-11-26T15:06:58.827Z"
   },
   {
    "duration": 7,
    "start_time": "2022-11-26T15:06:58.831Z"
   },
   {
    "duration": 70,
    "start_time": "2022-11-26T15:06:58.839Z"
   },
   {
    "duration": 28,
    "start_time": "2022-11-26T15:06:58.912Z"
   },
   {
    "duration": 13,
    "start_time": "2022-11-26T15:06:58.942Z"
   },
   {
    "duration": 19,
    "start_time": "2022-11-26T15:06:58.956Z"
   },
   {
    "duration": 17,
    "start_time": "2022-11-26T15:06:58.976Z"
   },
   {
    "duration": 6,
    "start_time": "2022-11-26T15:06:58.995Z"
   },
   {
    "duration": 6,
    "start_time": "2022-11-26T15:06:59.003Z"
   },
   {
    "duration": 9,
    "start_time": "2022-11-26T15:06:59.011Z"
   },
   {
    "duration": 46,
    "start_time": "2022-11-26T15:06:59.023Z"
   },
   {
    "duration": 15,
    "start_time": "2022-11-26T15:06:59.071Z"
   },
   {
    "duration": 10,
    "start_time": "2022-11-26T15:06:59.087Z"
   },
   {
    "duration": 10,
    "start_time": "2022-11-26T15:06:59.099Z"
   },
   {
    "duration": 14,
    "start_time": "2022-11-26T15:06:59.110Z"
   },
   {
    "duration": 10,
    "start_time": "2022-11-26T15:06:59.125Z"
   },
   {
    "duration": 12,
    "start_time": "2022-11-26T15:06:59.137Z"
   },
   {
    "duration": 7,
    "start_time": "2022-11-26T15:06:59.151Z"
   },
   {
    "duration": 22,
    "start_time": "2022-11-26T15:06:59.159Z"
   },
   {
    "duration": 6,
    "start_time": "2022-11-26T15:06:59.183Z"
   },
   {
    "duration": 8,
    "start_time": "2022-11-26T15:06:59.190Z"
   },
   {
    "duration": 6,
    "start_time": "2022-11-26T15:06:59.201Z"
   },
   {
    "duration": 4,
    "start_time": "2022-11-26T15:06:59.209Z"
   },
   {
    "duration": 16,
    "start_time": "2022-11-26T15:06:59.214Z"
   },
   {
    "duration": 5,
    "start_time": "2022-11-26T15:06:59.232Z"
   },
   {
    "duration": 12,
    "start_time": "2022-11-26T15:06:59.238Z"
   },
   {
    "duration": 549,
    "start_time": "2022-11-26T15:06:59.277Z"
   },
   {
    "duration": 510,
    "start_time": "2022-11-26T15:06:59.828Z"
   },
   {
    "duration": 539,
    "start_time": "2022-11-26T15:07:00.341Z"
   },
   {
    "duration": 452,
    "start_time": "2022-11-26T15:07:00.881Z"
   },
   {
    "duration": 440,
    "start_time": "2022-11-26T15:07:55.666Z"
   },
   {
    "duration": 146,
    "start_time": "2022-11-26T15:08:34.026Z"
   },
   {
    "duration": 573,
    "start_time": "2022-11-26T15:09:44.622Z"
   },
   {
    "duration": 9,
    "start_time": "2022-11-26T15:15:00.482Z"
   },
   {
    "duration": 125,
    "start_time": "2022-11-26T15:15:16.005Z"
   },
   {
    "duration": 157,
    "start_time": "2022-11-26T15:15:34.373Z"
   },
   {
    "duration": 165,
    "start_time": "2022-11-26T15:15:55.687Z"
   },
   {
    "duration": 220,
    "start_time": "2022-11-26T15:16:07.925Z"
   },
   {
    "duration": 6,
    "start_time": "2022-11-26T15:17:27.856Z"
   },
   {
    "duration": 5,
    "start_time": "2022-11-26T15:18:00.680Z"
   },
   {
    "duration": 5,
    "start_time": "2022-11-26T15:26:42.314Z"
   },
   {
    "duration": 9,
    "start_time": "2022-11-26T15:26:49.900Z"
   },
   {
    "duration": 7,
    "start_time": "2022-11-26T15:26:56.572Z"
   },
   {
    "duration": 7,
    "start_time": "2022-11-26T15:26:59.418Z"
   },
   {
    "duration": 6,
    "start_time": "2022-11-26T15:27:27.723Z"
   },
   {
    "duration": 7,
    "start_time": "2022-11-26T15:27:30.758Z"
   },
   {
    "duration": 6,
    "start_time": "2022-11-26T15:27:59.121Z"
   },
   {
    "duration": 151,
    "start_time": "2022-11-26T15:28:20.859Z"
   },
   {
    "duration": 137,
    "start_time": "2022-11-26T15:32:09.029Z"
   },
   {
    "duration": 102,
    "start_time": "2022-11-26T15:35:01.813Z"
   },
   {
    "duration": 157,
    "start_time": "2022-11-26T15:35:42.962Z"
   },
   {
    "duration": 5,
    "start_time": "2022-11-26T15:42:17.694Z"
   },
   {
    "duration": 5,
    "start_time": "2022-11-26T15:42:18.551Z"
   },
   {
    "duration": 117,
    "start_time": "2022-11-26T15:42:19.270Z"
   },
   {
    "duration": 52,
    "start_time": "2022-11-26T15:44:28.902Z"
   },
   {
    "duration": 50,
    "start_time": "2022-11-26T15:44:55.349Z"
   },
   {
    "duration": 11,
    "start_time": "2022-11-26T15:45:08.494Z"
   },
   {
    "duration": 3,
    "start_time": "2022-11-26T15:45:52.730Z"
   },
   {
    "duration": 10,
    "start_time": "2022-11-26T15:46:31.207Z"
   },
   {
    "duration": 6,
    "start_time": "2022-11-26T15:46:32.458Z"
   },
   {
    "duration": 5,
    "start_time": "2022-11-26T15:47:00.717Z"
   },
   {
    "duration": 102,
    "start_time": "2022-11-26T15:47:16.431Z"
   },
   {
    "duration": 4,
    "start_time": "2022-11-26T15:48:08.511Z"
   },
   {
    "duration": 152,
    "start_time": "2022-11-26T15:52:22.495Z"
   },
   {
    "duration": 126,
    "start_time": "2022-11-26T15:53:31.599Z"
   },
   {
    "duration": 112,
    "start_time": "2022-11-26T15:54:09.436Z"
   },
   {
    "duration": 109,
    "start_time": "2022-11-26T15:54:23.493Z"
   },
   {
    "duration": 114,
    "start_time": "2022-11-26T15:55:41.151Z"
   },
   {
    "duration": 312,
    "start_time": "2022-11-26T15:56:33.156Z"
   },
   {
    "duration": 3,
    "start_time": "2022-11-26T15:57:02.396Z"
   },
   {
    "duration": 366,
    "start_time": "2022-11-26T15:57:10.723Z"
   },
   {
    "duration": 3,
    "start_time": "2022-11-26T15:57:11.090Z"
   },
   {
    "duration": 413,
    "start_time": "2022-11-26T15:57:11.094Z"
   },
   {
    "duration": 2,
    "start_time": "2022-11-26T15:57:11.509Z"
   },
   {
    "duration": 5,
    "start_time": "2022-11-26T15:57:11.512Z"
   },
   {
    "duration": 193,
    "start_time": "2022-11-26T15:57:11.519Z"
   },
   {
    "duration": 2,
    "start_time": "2022-11-26T15:57:11.713Z"
   },
   {
    "duration": 6,
    "start_time": "2022-11-26T15:57:11.717Z"
   },
   {
    "duration": 66,
    "start_time": "2022-11-26T15:57:11.724Z"
   },
   {
    "duration": 2,
    "start_time": "2022-11-26T15:57:11.793Z"
   },
   {
    "duration": 33,
    "start_time": "2022-11-26T15:57:11.796Z"
   },
   {
    "duration": 11,
    "start_time": "2022-11-26T15:57:11.831Z"
   },
   {
    "duration": 15,
    "start_time": "2022-11-26T15:57:11.843Z"
   },
   {
    "duration": 8,
    "start_time": "2022-11-26T15:57:11.860Z"
   },
   {
    "duration": 9,
    "start_time": "2022-11-26T15:57:11.870Z"
   },
   {
    "duration": 6,
    "start_time": "2022-11-26T15:57:11.880Z"
   },
   {
    "duration": 8,
    "start_time": "2022-11-26T15:57:11.887Z"
   },
   {
    "duration": 41,
    "start_time": "2022-11-26T15:57:11.896Z"
   },
   {
    "duration": 16,
    "start_time": "2022-11-26T15:57:11.938Z"
   },
   {
    "duration": 11,
    "start_time": "2022-11-26T15:57:11.955Z"
   },
   {
    "duration": 5,
    "start_time": "2022-11-26T15:57:11.968Z"
   },
   {
    "duration": 14,
    "start_time": "2022-11-26T15:57:11.975Z"
   },
   {
    "duration": 10,
    "start_time": "2022-11-26T15:57:11.991Z"
   },
   {
    "duration": 11,
    "start_time": "2022-11-26T15:57:12.003Z"
   },
   {
    "duration": 7,
    "start_time": "2022-11-26T15:57:12.015Z"
   },
   {
    "duration": 10,
    "start_time": "2022-11-26T15:57:12.023Z"
   },
   {
    "duration": 7,
    "start_time": "2022-11-26T15:57:12.034Z"
   },
   {
    "duration": 5,
    "start_time": "2022-11-26T15:57:12.044Z"
   },
   {
    "duration": 27,
    "start_time": "2022-11-26T15:57:12.051Z"
   },
   {
    "duration": 5,
    "start_time": "2022-11-26T15:57:12.080Z"
   },
   {
    "duration": 10,
    "start_time": "2022-11-26T15:57:12.087Z"
   },
   {
    "duration": 8,
    "start_time": "2022-11-26T15:57:12.099Z"
   },
   {
    "duration": 20,
    "start_time": "2022-11-26T15:57:12.109Z"
   },
   {
    "duration": 554,
    "start_time": "2022-11-26T15:57:12.130Z"
   },
   {
    "duration": 489,
    "start_time": "2022-11-26T15:57:12.686Z"
   },
   {
    "duration": 503,
    "start_time": "2022-11-26T15:57:13.176Z"
   },
   {
    "duration": 488,
    "start_time": "2022-11-26T15:57:13.681Z"
   },
   {
    "duration": 521,
    "start_time": "2022-11-26T15:57:14.171Z"
   },
   {
    "duration": 5,
    "start_time": "2022-11-26T15:57:14.694Z"
   },
   {
    "duration": 6,
    "start_time": "2022-11-26T15:57:14.700Z"
   },
   {
    "duration": 110,
    "start_time": "2022-11-26T15:57:14.707Z"
   },
   {
    "duration": 51,
    "start_time": "2022-11-26T15:57:14.819Z"
   },
   {
    "duration": 5,
    "start_time": "2022-11-26T15:57:14.872Z"
   },
   {
    "duration": 15,
    "start_time": "2022-11-26T15:57:14.878Z"
   },
   {
    "duration": 7,
    "start_time": "2022-11-26T15:57:14.895Z"
   },
   {
    "duration": 5,
    "start_time": "2022-11-26T15:57:14.903Z"
   },
   {
    "duration": 111,
    "start_time": "2022-11-26T15:57:14.909Z"
   },
   {
    "duration": 5,
    "start_time": "2022-11-26T15:57:15.021Z"
   },
   {
    "duration": 181,
    "start_time": "2022-11-26T15:57:15.027Z"
   },
   {
    "duration": 4,
    "start_time": "2022-11-26T15:57:15.210Z"
   },
   {
    "duration": 374,
    "start_time": "2022-11-26T15:57:15.216Z"
   },
   {
    "duration": 341,
    "start_time": "2022-11-26T16:01:00.226Z"
   },
   {
    "duration": 383,
    "start_time": "2022-11-26T16:11:09.089Z"
   },
   {
    "duration": 4,
    "start_time": "2022-11-26T16:11:09.474Z"
   },
   {
    "duration": 437,
    "start_time": "2022-11-26T16:11:09.479Z"
   },
   {
    "duration": 3,
    "start_time": "2022-11-26T16:11:09.918Z"
   },
   {
    "duration": 6,
    "start_time": "2022-11-26T16:11:09.923Z"
   },
   {
    "duration": 196,
    "start_time": "2022-11-26T16:11:09.931Z"
   },
   {
    "duration": 3,
    "start_time": "2022-11-26T16:11:10.129Z"
   },
   {
    "duration": 7,
    "start_time": "2022-11-26T16:11:10.134Z"
   },
   {
    "duration": 67,
    "start_time": "2022-11-26T16:11:10.142Z"
   },
   {
    "duration": 3,
    "start_time": "2022-11-26T16:11:10.210Z"
   },
   {
    "duration": 31,
    "start_time": "2022-11-26T16:11:10.215Z"
   },
   {
    "duration": 11,
    "start_time": "2022-11-26T16:11:10.248Z"
   },
   {
    "duration": 27,
    "start_time": "2022-11-26T16:11:10.261Z"
   },
   {
    "duration": 20,
    "start_time": "2022-11-26T16:11:10.291Z"
   },
   {
    "duration": 21,
    "start_time": "2022-11-26T16:11:10.313Z"
   },
   {
    "duration": 17,
    "start_time": "2022-11-26T16:11:10.336Z"
   },
   {
    "duration": 26,
    "start_time": "2022-11-26T16:11:10.355Z"
   },
   {
    "duration": 45,
    "start_time": "2022-11-26T16:11:10.383Z"
   },
   {
    "duration": 15,
    "start_time": "2022-11-26T16:11:10.430Z"
   },
   {
    "duration": 14,
    "start_time": "2022-11-26T16:11:10.447Z"
   },
   {
    "duration": 11,
    "start_time": "2022-11-26T16:11:10.463Z"
   },
   {
    "duration": 32,
    "start_time": "2022-11-26T16:11:10.476Z"
   },
   {
    "duration": 32,
    "start_time": "2022-11-26T16:11:10.510Z"
   },
   {
    "duration": 21,
    "start_time": "2022-11-26T16:11:10.544Z"
   },
   {
    "duration": 51,
    "start_time": "2022-11-26T16:11:10.566Z"
   },
   {
    "duration": 15,
    "start_time": "2022-11-26T16:11:10.619Z"
   },
   {
    "duration": 29,
    "start_time": "2022-11-26T16:11:10.635Z"
   },
   {
    "duration": 10,
    "start_time": "2022-11-26T16:11:10.666Z"
   },
   {
    "duration": 24,
    "start_time": "2022-11-26T16:11:10.677Z"
   },
   {
    "duration": 15,
    "start_time": "2022-11-26T16:11:10.703Z"
   },
   {
    "duration": 16,
    "start_time": "2022-11-26T16:11:10.720Z"
   },
   {
    "duration": 6,
    "start_time": "2022-11-26T16:11:10.738Z"
   },
   {
    "duration": 27,
    "start_time": "2022-11-26T16:11:10.745Z"
   },
   {
    "duration": 547,
    "start_time": "2022-11-26T16:11:10.774Z"
   },
   {
    "duration": 464,
    "start_time": "2022-11-26T16:11:11.323Z"
   },
   {
    "duration": 541,
    "start_time": "2022-11-26T16:11:11.789Z"
   },
   {
    "duration": 441,
    "start_time": "2022-11-26T16:11:12.331Z"
   },
   {
    "duration": 606,
    "start_time": "2022-11-26T16:11:12.777Z"
   },
   {
    "duration": 5,
    "start_time": "2022-11-26T16:11:13.385Z"
   },
   {
    "duration": 6,
    "start_time": "2022-11-26T16:11:13.392Z"
   },
   {
    "duration": 114,
    "start_time": "2022-11-26T16:11:13.401Z"
   },
   {
    "duration": 49,
    "start_time": "2022-11-26T16:11:13.517Z"
   },
   {
    "duration": 3,
    "start_time": "2022-11-26T16:11:13.568Z"
   },
   {
    "duration": 13,
    "start_time": "2022-11-26T16:11:13.573Z"
   },
   {
    "duration": 8,
    "start_time": "2022-11-26T16:11:13.588Z"
   },
   {
    "duration": 5,
    "start_time": "2022-11-26T16:11:13.597Z"
   },
   {
    "duration": 125,
    "start_time": "2022-11-26T16:11:13.604Z"
   },
   {
    "duration": 5,
    "start_time": "2022-11-26T16:11:13.730Z"
   },
   {
    "duration": 170,
    "start_time": "2022-11-26T16:11:13.736Z"
   },
   {
    "duration": 4,
    "start_time": "2022-11-26T16:11:13.907Z"
   },
   {
    "duration": 412,
    "start_time": "2022-11-26T16:11:13.912Z"
   },
   {
    "duration": 317,
    "start_time": "2022-11-26T16:11:14.325Z"
   },
   {
    "duration": 124,
    "start_time": "2022-11-26T16:11:14.643Z"
   },
   {
    "duration": 145,
    "start_time": "2022-11-26T16:11:57.462Z"
   },
   {
    "duration": 272,
    "start_time": "2022-11-26T16:15:33.171Z"
   },
   {
    "duration": 361,
    "start_time": "2022-11-26T16:16:00.731Z"
   },
   {
    "duration": 333,
    "start_time": "2022-11-26T16:20:16.999Z"
   },
   {
    "duration": 331,
    "start_time": "2022-11-26T16:20:26.031Z"
   },
   {
    "duration": 3,
    "start_time": "2022-11-27T15:03:53.738Z"
   },
   {
    "duration": 1208,
    "start_time": "2022-11-27T15:05:14.367Z"
   },
   {
    "duration": 65,
    "start_time": "2022-11-27T15:05:15.577Z"
   },
   {
    "duration": 13,
    "start_time": "2022-11-27T15:05:15.643Z"
   },
   {
    "duration": 20,
    "start_time": "2022-11-27T15:05:15.659Z"
   },
   {
    "duration": 7,
    "start_time": "2022-11-27T15:05:15.682Z"
   },
   {
    "duration": 9,
    "start_time": "2022-11-27T15:05:15.691Z"
   },
   {
    "duration": 8,
    "start_time": "2022-11-27T15:05:15.701Z"
   },
   {
    "duration": 10,
    "start_time": "2022-11-27T15:05:15.711Z"
   },
   {
    "duration": 70,
    "start_time": "2022-11-27T15:05:15.723Z"
   },
   {
    "duration": 47,
    "start_time": "2022-11-27T15:05:15.796Z"
   },
   {
    "duration": 10,
    "start_time": "2022-11-27T15:05:15.845Z"
   },
   {
    "duration": 10,
    "start_time": "2022-11-27T15:05:15.857Z"
   },
   {
    "duration": 13,
    "start_time": "2022-11-27T15:05:15.869Z"
   },
   {
    "duration": 12,
    "start_time": "2022-11-27T15:05:15.885Z"
   },
   {
    "duration": 16,
    "start_time": "2022-11-27T15:05:15.899Z"
   },
   {
    "duration": 12,
    "start_time": "2022-11-27T15:05:15.917Z"
   },
   {
    "duration": 13,
    "start_time": "2022-11-27T15:05:15.931Z"
   },
   {
    "duration": 7,
    "start_time": "2022-11-27T15:05:15.946Z"
   },
   {
    "duration": 25,
    "start_time": "2022-11-27T15:05:15.955Z"
   },
   {
    "duration": 33,
    "start_time": "2022-11-27T15:05:15.983Z"
   },
   {
    "duration": 7,
    "start_time": "2022-11-27T15:05:16.019Z"
   },
   {
    "duration": 16,
    "start_time": "2022-11-27T15:05:16.027Z"
   },
   {
    "duration": 5,
    "start_time": "2022-11-27T15:05:16.045Z"
   },
   {
    "duration": 19,
    "start_time": "2022-11-27T15:05:16.052Z"
   },
   {
    "duration": 588,
    "start_time": "2022-11-27T15:05:16.077Z"
   },
   {
    "duration": 493,
    "start_time": "2022-11-27T15:05:16.668Z"
   },
   {
    "duration": 569,
    "start_time": "2022-11-27T15:05:17.163Z"
   },
   {
    "duration": 465,
    "start_time": "2022-11-27T15:05:17.734Z"
   },
   {
    "duration": 608,
    "start_time": "2022-11-27T15:05:18.201Z"
   },
   {
    "duration": 5,
    "start_time": "2022-11-27T15:05:18.810Z"
   },
   {
    "duration": 9,
    "start_time": "2022-11-27T15:05:18.817Z"
   },
   {
    "duration": 134,
    "start_time": "2022-11-27T15:05:18.827Z"
   },
   {
    "duration": 55,
    "start_time": "2022-11-27T15:05:18.963Z"
   },
   {
    "duration": 5,
    "start_time": "2022-11-27T15:05:19.020Z"
   },
   {
    "duration": 16,
    "start_time": "2022-11-27T15:05:19.026Z"
   },
   {
    "duration": 13,
    "start_time": "2022-11-27T15:05:19.045Z"
   },
   {
    "duration": 11,
    "start_time": "2022-11-27T15:05:19.060Z"
   },
   {
    "duration": 122,
    "start_time": "2022-11-27T15:05:19.073Z"
   },
   {
    "duration": 4,
    "start_time": "2022-11-27T15:05:19.197Z"
   },
   {
    "duration": 180,
    "start_time": "2022-11-27T15:05:19.204Z"
   },
   {
    "duration": 4,
    "start_time": "2022-11-27T15:05:19.388Z"
   },
   {
    "duration": 378,
    "start_time": "2022-11-27T15:05:19.393Z"
   },
   {
    "duration": 359,
    "start_time": "2022-11-27T15:05:19.773Z"
   },
   {
    "duration": 172,
    "start_time": "2022-11-27T15:05:20.134Z"
   },
   {
    "duration": 425,
    "start_time": "2022-11-27T15:05:20.308Z"
   },
   {
    "duration": 353,
    "start_time": "2022-11-27T15:05:20.735Z"
   },
   {
    "duration": 1240,
    "start_time": "2022-11-27T19:08:47.571Z"
   },
   {
    "duration": 74,
    "start_time": "2022-11-27T19:08:48.814Z"
   },
   {
    "duration": 11,
    "start_time": "2022-11-27T19:08:48.890Z"
   },
   {
    "duration": 14,
    "start_time": "2022-11-27T19:08:48.903Z"
   },
   {
    "duration": 4,
    "start_time": "2022-11-27T19:08:48.919Z"
   },
   {
    "duration": 7,
    "start_time": "2022-11-27T19:08:48.925Z"
   },
   {
    "duration": 7,
    "start_time": "2022-11-27T19:08:48.934Z"
   },
   {
    "duration": 13,
    "start_time": "2022-11-27T19:08:48.943Z"
   },
   {
    "duration": 90,
    "start_time": "2022-11-27T19:08:48.958Z"
   },
   {
    "duration": 58,
    "start_time": "2022-11-27T19:08:49.054Z"
   },
   {
    "duration": 11,
    "start_time": "2022-11-27T19:08:49.114Z"
   },
   {
    "duration": 7,
    "start_time": "2022-11-27T19:08:49.126Z"
   },
   {
    "duration": 15,
    "start_time": "2022-11-27T19:08:49.134Z"
   },
   {
    "duration": 10,
    "start_time": "2022-11-27T19:08:49.151Z"
   },
   {
    "duration": 14,
    "start_time": "2022-11-27T19:08:49.163Z"
   },
   {
    "duration": 9,
    "start_time": "2022-11-27T19:08:49.178Z"
   },
   {
    "duration": 11,
    "start_time": "2022-11-27T19:08:49.189Z"
   },
   {
    "duration": 11,
    "start_time": "2022-11-27T19:08:49.201Z"
   },
   {
    "duration": 8,
    "start_time": "2022-11-27T19:08:49.213Z"
   },
   {
    "duration": 8,
    "start_time": "2022-11-27T19:08:49.223Z"
   },
   {
    "duration": 5,
    "start_time": "2022-11-27T19:08:49.233Z"
   },
   {
    "duration": 17,
    "start_time": "2022-11-27T19:08:49.240Z"
   },
   {
    "duration": 22,
    "start_time": "2022-11-27T19:08:49.259Z"
   },
   {
    "duration": 14,
    "start_time": "2022-11-27T19:08:49.283Z"
   },
   {
    "duration": 536,
    "start_time": "2022-11-27T19:08:49.298Z"
   },
   {
    "duration": 449,
    "start_time": "2022-11-27T19:08:49.836Z"
   },
   {
    "duration": 613,
    "start_time": "2022-11-27T19:08:50.287Z"
   },
   {
    "duration": 452,
    "start_time": "2022-11-27T19:08:50.903Z"
   },
   {
    "duration": 555,
    "start_time": "2022-11-27T19:08:51.357Z"
   },
   {
    "duration": 5,
    "start_time": "2022-11-27T19:08:51.914Z"
   },
   {
    "duration": 92,
    "start_time": "2022-11-27T19:08:51.921Z"
   },
   {
    "duration": 0,
    "start_time": "2022-11-27T19:08:52.015Z"
   },
   {
    "duration": 0,
    "start_time": "2022-11-27T19:08:52.016Z"
   },
   {
    "duration": 0,
    "start_time": "2022-11-27T19:08:52.017Z"
   },
   {
    "duration": 0,
    "start_time": "2022-11-27T19:08:52.018Z"
   },
   {
    "duration": 0,
    "start_time": "2022-11-27T19:08:52.019Z"
   },
   {
    "duration": 0,
    "start_time": "2022-11-27T19:08:52.020Z"
   },
   {
    "duration": 0,
    "start_time": "2022-11-27T19:08:52.021Z"
   },
   {
    "duration": 0,
    "start_time": "2022-11-27T19:08:52.023Z"
   },
   {
    "duration": 0,
    "start_time": "2022-11-27T19:08:52.024Z"
   },
   {
    "duration": 0,
    "start_time": "2022-11-27T19:08:52.025Z"
   },
   {
    "duration": 0,
    "start_time": "2022-11-27T19:08:52.026Z"
   },
   {
    "duration": 0,
    "start_time": "2022-11-27T19:08:52.027Z"
   },
   {
    "duration": 0,
    "start_time": "2022-11-27T19:08:52.029Z"
   },
   {
    "duration": 0,
    "start_time": "2022-11-27T19:08:52.030Z"
   },
   {
    "duration": 0,
    "start_time": "2022-11-27T19:08:52.032Z"
   },
   {
    "duration": 0,
    "start_time": "2022-11-27T19:08:52.033Z"
   },
   {
    "duration": 5,
    "start_time": "2022-11-27T19:08:58.436Z"
   },
   {
    "duration": 5,
    "start_time": "2022-11-27T19:08:59.230Z"
   },
   {
    "duration": 14,
    "start_time": "2022-11-27T19:09:05.639Z"
   },
   {
    "duration": 8,
    "start_time": "2022-11-27T19:09:20.072Z"
   },
   {
    "duration": 5,
    "start_time": "2022-11-27T19:09:56.350Z"
   },
   {
    "duration": 6,
    "start_time": "2022-11-27T19:09:56.667Z"
   },
   {
    "duration": 104,
    "start_time": "2022-11-27T19:09:56.838Z"
   },
   {
    "duration": 53,
    "start_time": "2022-11-27T19:10:04.183Z"
   },
   {
    "duration": 4,
    "start_time": "2022-11-27T19:10:04.454Z"
   },
   {
    "duration": 14,
    "start_time": "2022-11-27T19:10:04.774Z"
   },
   {
    "duration": 7,
    "start_time": "2022-11-27T19:10:05.014Z"
   },
   {
    "duration": 5,
    "start_time": "2022-11-27T19:10:05.320Z"
   },
   {
    "duration": 116,
    "start_time": "2022-11-27T19:10:05.596Z"
   },
   {
    "duration": 3,
    "start_time": "2022-11-27T19:11:49.031Z"
   },
   {
    "duration": 36,
    "start_time": "2022-11-27T19:11:49.036Z"
   },
   {
    "duration": 13,
    "start_time": "2022-11-27T19:11:49.074Z"
   },
   {
    "duration": 11,
    "start_time": "2022-11-27T19:11:49.089Z"
   },
   {
    "duration": 10,
    "start_time": "2022-11-27T19:11:49.102Z"
   },
   {
    "duration": 13,
    "start_time": "2022-11-27T19:11:49.114Z"
   },
   {
    "duration": 8,
    "start_time": "2022-11-27T19:11:49.129Z"
   },
   {
    "duration": 12,
    "start_time": "2022-11-27T19:11:49.138Z"
   },
   {
    "duration": 72,
    "start_time": "2022-11-27T19:11:49.152Z"
   },
   {
    "duration": 16,
    "start_time": "2022-11-27T19:11:49.226Z"
   },
   {
    "duration": 10,
    "start_time": "2022-11-27T19:11:49.244Z"
   },
   {
    "duration": 7,
    "start_time": "2022-11-27T19:11:49.256Z"
   },
   {
    "duration": 19,
    "start_time": "2022-11-27T19:11:49.264Z"
   },
   {
    "duration": 15,
    "start_time": "2022-11-27T19:11:49.286Z"
   },
   {
    "duration": 13,
    "start_time": "2022-11-27T19:11:49.303Z"
   },
   {
    "duration": 8,
    "start_time": "2022-11-27T19:11:49.318Z"
   },
   {
    "duration": 10,
    "start_time": "2022-11-27T19:11:49.328Z"
   },
   {
    "duration": 12,
    "start_time": "2022-11-27T19:11:49.340Z"
   },
   {
    "duration": 14,
    "start_time": "2022-11-27T19:11:49.354Z"
   },
   {
    "duration": 13,
    "start_time": "2022-11-27T19:11:49.369Z"
   },
   {
    "duration": 6,
    "start_time": "2022-11-27T19:11:49.384Z"
   },
   {
    "duration": 15,
    "start_time": "2022-11-27T19:11:49.391Z"
   },
   {
    "duration": 6,
    "start_time": "2022-11-27T19:11:49.407Z"
   },
   {
    "duration": 11,
    "start_time": "2022-11-27T19:11:49.417Z"
   },
   {
    "duration": 15,
    "start_time": "2022-11-27T19:11:49.429Z"
   },
   {
    "duration": 0,
    "start_time": "2022-11-27T19:11:49.446Z"
   },
   {
    "duration": 0,
    "start_time": "2022-11-27T19:11:49.447Z"
   },
   {
    "duration": 0,
    "start_time": "2022-11-27T19:11:49.448Z"
   },
   {
    "duration": 0,
    "start_time": "2022-11-27T19:11:49.449Z"
   },
   {
    "duration": 0,
    "start_time": "2022-11-27T19:11:49.450Z"
   },
   {
    "duration": 0,
    "start_time": "2022-11-27T19:11:49.451Z"
   },
   {
    "duration": 0,
    "start_time": "2022-11-27T19:11:49.478Z"
   },
   {
    "duration": 0,
    "start_time": "2022-11-27T19:11:49.480Z"
   },
   {
    "duration": 0,
    "start_time": "2022-11-27T19:11:49.481Z"
   },
   {
    "duration": 0,
    "start_time": "2022-11-27T19:11:49.482Z"
   },
   {
    "duration": 0,
    "start_time": "2022-11-27T19:11:49.483Z"
   },
   {
    "duration": 0,
    "start_time": "2022-11-27T19:11:49.484Z"
   },
   {
    "duration": 0,
    "start_time": "2022-11-27T19:11:49.485Z"
   },
   {
    "duration": 0,
    "start_time": "2022-11-27T19:11:49.485Z"
   },
   {
    "duration": 0,
    "start_time": "2022-11-27T19:11:49.487Z"
   },
   {
    "duration": 0,
    "start_time": "2022-11-27T19:11:49.488Z"
   },
   {
    "duration": 0,
    "start_time": "2022-11-27T19:11:49.489Z"
   },
   {
    "duration": 0,
    "start_time": "2022-11-27T19:11:49.489Z"
   },
   {
    "duration": 0,
    "start_time": "2022-11-27T19:11:49.491Z"
   },
   {
    "duration": 0,
    "start_time": "2022-11-27T19:11:49.492Z"
   },
   {
    "duration": 0,
    "start_time": "2022-11-27T19:11:49.493Z"
   },
   {
    "duration": 0,
    "start_time": "2022-11-27T19:11:49.494Z"
   },
   {
    "duration": 4,
    "start_time": "2022-11-27T19:13:27.718Z"
   },
   {
    "duration": 43,
    "start_time": "2022-11-27T19:13:27.724Z"
   },
   {
    "duration": 11,
    "start_time": "2022-11-27T19:13:27.768Z"
   },
   {
    "duration": 15,
    "start_time": "2022-11-27T19:13:27.781Z"
   },
   {
    "duration": 6,
    "start_time": "2022-11-27T19:13:27.798Z"
   },
   {
    "duration": 9,
    "start_time": "2022-11-27T19:13:27.806Z"
   },
   {
    "duration": 4,
    "start_time": "2022-11-27T19:13:27.817Z"
   },
   {
    "duration": 9,
    "start_time": "2022-11-27T19:13:27.823Z"
   },
   {
    "duration": 42,
    "start_time": "2022-11-27T19:13:27.835Z"
   },
   {
    "duration": 15,
    "start_time": "2022-11-27T19:13:27.879Z"
   },
   {
    "duration": 10,
    "start_time": "2022-11-27T19:13:27.896Z"
   },
   {
    "duration": 7,
    "start_time": "2022-11-27T19:13:27.907Z"
   },
   {
    "duration": 16,
    "start_time": "2022-11-27T19:13:27.916Z"
   },
   {
    "duration": 12,
    "start_time": "2022-11-27T19:13:27.934Z"
   },
   {
    "duration": 13,
    "start_time": "2022-11-27T19:13:27.947Z"
   },
   {
    "duration": 11,
    "start_time": "2022-11-27T19:13:27.962Z"
   },
   {
    "duration": 10,
    "start_time": "2022-11-27T19:13:27.977Z"
   },
   {
    "duration": 10,
    "start_time": "2022-11-27T19:13:27.988Z"
   },
   {
    "duration": 8,
    "start_time": "2022-11-27T19:13:27.999Z"
   },
   {
    "duration": 8,
    "start_time": "2022-11-27T19:13:28.009Z"
   },
   {
    "duration": 8,
    "start_time": "2022-11-27T19:13:28.018Z"
   },
   {
    "duration": 13,
    "start_time": "2022-11-27T19:13:28.027Z"
   },
   {
    "duration": 5,
    "start_time": "2022-11-27T19:13:28.042Z"
   },
   {
    "duration": 30,
    "start_time": "2022-11-27T19:13:28.050Z"
   },
   {
    "duration": 468,
    "start_time": "2022-11-27T19:13:28.082Z"
   },
   {
    "duration": 542,
    "start_time": "2022-11-27T19:13:28.552Z"
   },
   {
    "duration": 579,
    "start_time": "2022-11-27T19:13:29.096Z"
   },
   {
    "duration": 456,
    "start_time": "2022-11-27T19:13:29.676Z"
   },
   {
    "duration": 556,
    "start_time": "2022-11-27T19:13:30.133Z"
   },
   {
    "duration": 6,
    "start_time": "2022-11-27T19:13:30.691Z"
   },
   {
    "duration": 50,
    "start_time": "2022-11-27T19:13:30.699Z"
   },
   {
    "duration": 142,
    "start_time": "2022-11-27T19:13:30.751Z"
   },
   {
    "duration": 51,
    "start_time": "2022-11-27T19:13:30.895Z"
   },
   {
    "duration": 5,
    "start_time": "2022-11-27T19:13:30.948Z"
   },
   {
    "duration": 38,
    "start_time": "2022-11-27T19:13:30.955Z"
   },
   {
    "duration": 34,
    "start_time": "2022-11-27T19:13:30.996Z"
   },
   {
    "duration": 29,
    "start_time": "2022-11-27T19:13:31.032Z"
   },
   {
    "duration": 148,
    "start_time": "2022-11-27T19:13:31.062Z"
   },
   {
    "duration": 4,
    "start_time": "2022-11-27T19:13:31.212Z"
   },
   {
    "duration": 165,
    "start_time": "2022-11-27T19:13:31.217Z"
   },
   {
    "duration": 3,
    "start_time": "2022-11-27T19:13:31.384Z"
   },
   {
    "duration": 347,
    "start_time": "2022-11-27T19:13:31.388Z"
   },
   {
    "duration": 354,
    "start_time": "2022-11-27T19:13:31.736Z"
   },
   {
    "duration": 143,
    "start_time": "2022-11-27T19:13:32.091Z"
   },
   {
    "duration": 347,
    "start_time": "2022-11-27T19:13:32.236Z"
   },
   {
    "duration": 337,
    "start_time": "2022-11-27T19:13:32.585Z"
   },
   {
    "duration": 3,
    "start_time": "2022-11-27T19:13:45.065Z"
   },
   {
    "duration": 43,
    "start_time": "2022-11-27T19:13:45.070Z"
   },
   {
    "duration": 10,
    "start_time": "2022-11-27T19:13:45.115Z"
   },
   {
    "duration": 17,
    "start_time": "2022-11-27T19:13:45.127Z"
   },
   {
    "duration": 29,
    "start_time": "2022-11-27T19:13:45.146Z"
   },
   {
    "duration": 12,
    "start_time": "2022-11-27T19:13:45.177Z"
   },
   {
    "duration": 8,
    "start_time": "2022-11-27T19:13:45.191Z"
   },
   {
    "duration": 18,
    "start_time": "2022-11-27T19:13:45.200Z"
   },
   {
    "duration": 47,
    "start_time": "2022-11-27T19:13:45.220Z"
   },
   {
    "duration": 16,
    "start_time": "2022-11-27T19:13:45.269Z"
   },
   {
    "duration": 11,
    "start_time": "2022-11-27T19:13:45.286Z"
   },
   {
    "duration": 7,
    "start_time": "2022-11-27T19:13:45.298Z"
   },
   {
    "duration": 12,
    "start_time": "2022-11-27T19:13:45.307Z"
   },
   {
    "duration": 12,
    "start_time": "2022-11-27T19:13:45.321Z"
   },
   {
    "duration": 13,
    "start_time": "2022-11-27T19:13:45.336Z"
   },
   {
    "duration": 8,
    "start_time": "2022-11-27T19:13:45.351Z"
   },
   {
    "duration": 23,
    "start_time": "2022-11-27T19:13:45.360Z"
   },
   {
    "duration": 8,
    "start_time": "2022-11-27T19:13:45.384Z"
   },
   {
    "duration": 6,
    "start_time": "2022-11-27T19:13:45.394Z"
   },
   {
    "duration": 13,
    "start_time": "2022-11-27T19:13:45.402Z"
   },
   {
    "duration": 5,
    "start_time": "2022-11-27T19:13:45.417Z"
   },
   {
    "duration": 10,
    "start_time": "2022-11-27T19:13:45.423Z"
   },
   {
    "duration": 5,
    "start_time": "2022-11-27T19:13:45.435Z"
   },
   {
    "duration": 39,
    "start_time": "2022-11-27T19:13:45.443Z"
   },
   {
    "duration": 504,
    "start_time": "2022-11-27T19:13:45.484Z"
   },
   {
    "duration": 464,
    "start_time": "2022-11-27T19:13:45.989Z"
   },
   {
    "duration": 542,
    "start_time": "2022-11-27T19:13:46.455Z"
   },
   {
    "duration": 502,
    "start_time": "2022-11-27T19:13:46.999Z"
   },
   {
    "duration": 699,
    "start_time": "2022-11-27T19:13:47.503Z"
   },
   {
    "duration": 6,
    "start_time": "2022-11-27T19:13:48.204Z"
   },
   {
    "duration": 11,
    "start_time": "2022-11-27T19:13:48.212Z"
   },
   {
    "duration": 127,
    "start_time": "2022-11-27T19:13:48.225Z"
   },
   {
    "duration": 49,
    "start_time": "2022-11-27T19:13:48.353Z"
   },
   {
    "duration": 3,
    "start_time": "2022-11-27T19:13:48.404Z"
   },
   {
    "duration": 16,
    "start_time": "2022-11-27T19:13:48.409Z"
   },
   {
    "duration": 10,
    "start_time": "2022-11-27T19:13:48.427Z"
   },
   {
    "duration": 9,
    "start_time": "2022-11-27T19:13:48.438Z"
   },
   {
    "duration": 107,
    "start_time": "2022-11-27T19:13:48.448Z"
   },
   {
    "duration": 4,
    "start_time": "2022-11-27T19:13:48.556Z"
   },
   {
    "duration": 175,
    "start_time": "2022-11-27T19:13:48.562Z"
   },
   {
    "duration": 4,
    "start_time": "2022-11-27T19:13:48.739Z"
   },
   {
    "duration": 353,
    "start_time": "2022-11-27T19:13:48.745Z"
   },
   {
    "duration": 349,
    "start_time": "2022-11-27T19:13:49.099Z"
   },
   {
    "duration": 157,
    "start_time": "2022-11-27T19:13:49.450Z"
   },
   {
    "duration": 358,
    "start_time": "2022-11-27T19:13:49.609Z"
   },
   {
    "duration": 350,
    "start_time": "2022-11-27T19:13:49.969Z"
   },
   {
    "duration": 84,
    "start_time": "2022-11-28T17:05:40.539Z"
   },
   {
    "duration": 9,
    "start_time": "2022-11-28T17:09:57.562Z"
   },
   {
    "duration": 9,
    "start_time": "2022-11-28T17:10:08.581Z"
   },
   {
    "duration": 3,
    "start_time": "2022-11-28T17:10:43.489Z"
   },
   {
    "duration": 9,
    "start_time": "2022-11-28T17:10:44.345Z"
   },
   {
    "duration": 3,
    "start_time": "2022-11-28T17:17:55.587Z"
   },
   {
    "duration": 11,
    "start_time": "2022-11-28T17:23:46.244Z"
   },
   {
    "duration": 9,
    "start_time": "2022-11-28T17:24:00.955Z"
   },
   {
    "duration": 9,
    "start_time": "2022-11-28T17:24:19.514Z"
   },
   {
    "duration": 3,
    "start_time": "2022-11-28T17:35:01.479Z"
   },
   {
    "duration": 4,
    "start_time": "2022-11-28T17:35:09.426Z"
   },
   {
    "duration": 83,
    "start_time": "2022-11-28T17:36:32.767Z"
   },
   {
    "duration": 102,
    "start_time": "2022-11-28T17:36:42.846Z"
   },
   {
    "duration": 13,
    "start_time": "2022-11-28T17:37:54.152Z"
   },
   {
    "duration": 1025,
    "start_time": "2022-11-28T17:38:22.428Z"
   },
   {
    "duration": 30,
    "start_time": "2022-11-28T17:38:23.454Z"
   },
   {
    "duration": 11,
    "start_time": "2022-11-28T17:38:23.485Z"
   },
   {
    "duration": 15,
    "start_time": "2022-11-28T17:38:23.497Z"
   },
   {
    "duration": 4,
    "start_time": "2022-11-28T17:38:23.513Z"
   },
   {
    "duration": 4,
    "start_time": "2022-11-28T17:38:23.519Z"
   },
   {
    "duration": 10,
    "start_time": "2022-11-28T17:38:23.524Z"
   },
   {
    "duration": 6,
    "start_time": "2022-11-28T17:38:23.536Z"
   },
   {
    "duration": 10,
    "start_time": "2022-11-28T17:38:23.544Z"
   },
   {
    "duration": 38,
    "start_time": "2022-11-28T17:38:23.577Z"
   },
   {
    "duration": 16,
    "start_time": "2022-11-28T17:38:23.617Z"
   },
   {
    "duration": 11,
    "start_time": "2022-11-28T17:38:23.634Z"
   },
   {
    "duration": 6,
    "start_time": "2022-11-28T17:38:23.646Z"
   },
   {
    "duration": 14,
    "start_time": "2022-11-28T17:38:23.653Z"
   },
   {
    "duration": 11,
    "start_time": "2022-11-28T17:38:23.668Z"
   },
   {
    "duration": 16,
    "start_time": "2022-11-28T17:38:23.681Z"
   },
   {
    "duration": 5,
    "start_time": "2022-11-28T17:38:23.699Z"
   },
   {
    "duration": 12,
    "start_time": "2022-11-28T17:38:23.705Z"
   },
   {
    "duration": 7,
    "start_time": "2022-11-28T17:38:23.719Z"
   },
   {
    "duration": 10,
    "start_time": "2022-11-28T17:38:23.727Z"
   },
   {
    "duration": 9,
    "start_time": "2022-11-28T17:38:23.738Z"
   },
   {
    "duration": 6,
    "start_time": "2022-11-28T17:38:23.749Z"
   },
   {
    "duration": 35,
    "start_time": "2022-11-28T17:38:23.757Z"
   },
   {
    "duration": 5,
    "start_time": "2022-11-28T17:38:23.793Z"
   },
   {
    "duration": 14,
    "start_time": "2022-11-28T17:38:23.799Z"
   },
   {
    "duration": 10,
    "start_time": "2022-11-28T17:38:23.815Z"
   },
   {
    "duration": 11,
    "start_time": "2022-11-28T17:38:23.826Z"
   },
   {
    "duration": 9,
    "start_time": "2022-11-28T17:38:23.840Z"
   },
   {
    "duration": 600,
    "start_time": "2022-11-28T17:38:23.851Z"
   },
   {
    "duration": 443,
    "start_time": "2022-11-28T17:38:24.453Z"
   },
   {
    "duration": 594,
    "start_time": "2022-11-28T17:38:24.898Z"
   },
   {
    "duration": 440,
    "start_time": "2022-11-28T17:38:25.493Z"
   },
   {
    "duration": 549,
    "start_time": "2022-11-28T17:38:25.934Z"
   },
   {
    "duration": 5,
    "start_time": "2022-11-28T17:38:26.485Z"
   },
   {
    "duration": 6,
    "start_time": "2022-11-28T17:38:26.492Z"
   },
   {
    "duration": 122,
    "start_time": "2022-11-28T17:38:26.500Z"
   },
   {
    "duration": 49,
    "start_time": "2022-11-28T17:38:26.623Z"
   },
   {
    "duration": 3,
    "start_time": "2022-11-28T17:38:26.674Z"
   },
   {
    "duration": 18,
    "start_time": "2022-11-28T17:38:26.679Z"
   },
   {
    "duration": 8,
    "start_time": "2022-11-28T17:38:26.698Z"
   },
   {
    "duration": 6,
    "start_time": "2022-11-28T17:38:26.707Z"
   },
   {
    "duration": 113,
    "start_time": "2022-11-28T17:38:26.715Z"
   },
   {
    "duration": 4,
    "start_time": "2022-11-28T17:38:26.829Z"
   },
   {
    "duration": 173,
    "start_time": "2022-11-28T17:38:26.834Z"
   },
   {
    "duration": 5,
    "start_time": "2022-11-28T17:38:27.008Z"
   },
   {
    "duration": 346,
    "start_time": "2022-11-28T17:38:27.015Z"
   },
   {
    "duration": 326,
    "start_time": "2022-11-28T17:38:27.363Z"
   },
   {
    "duration": 152,
    "start_time": "2022-11-28T17:38:27.690Z"
   },
   {
    "duration": 410,
    "start_time": "2022-11-28T17:38:27.844Z"
   },
   {
    "duration": 328,
    "start_time": "2022-11-28T17:38:28.256Z"
   },
   {
    "duration": 17,
    "start_time": "2022-11-28T17:42:46.798Z"
   },
   {
    "duration": 6,
    "start_time": "2022-11-28T18:34:09.334Z"
   },
   {
    "duration": 8,
    "start_time": "2022-11-28T18:34:21.458Z"
   },
   {
    "duration": 12,
    "start_time": "2022-11-28T18:34:56.157Z"
   },
   {
    "duration": 560,
    "start_time": "2022-11-28T18:39:12.825Z"
   },
   {
    "duration": 517,
    "start_time": "2022-11-28T18:39:41.493Z"
   },
   {
    "duration": 460,
    "start_time": "2022-11-28T18:41:26.032Z"
   },
   {
    "duration": 1084,
    "start_time": "2022-11-28T18:52:47.342Z"
   },
   {
    "duration": 27,
    "start_time": "2022-11-28T18:52:48.428Z"
   },
   {
    "duration": 10,
    "start_time": "2022-11-28T18:52:48.457Z"
   },
   {
    "duration": 14,
    "start_time": "2022-11-28T18:52:48.468Z"
   },
   {
    "duration": 9,
    "start_time": "2022-11-28T18:52:48.484Z"
   },
   {
    "duration": 11,
    "start_time": "2022-11-28T18:52:48.494Z"
   },
   {
    "duration": 22,
    "start_time": "2022-11-28T18:52:48.507Z"
   },
   {
    "duration": 9,
    "start_time": "2022-11-28T18:52:48.530Z"
   },
   {
    "duration": 15,
    "start_time": "2022-11-28T18:52:48.541Z"
   },
   {
    "duration": 55,
    "start_time": "2022-11-28T18:52:48.558Z"
   },
   {
    "duration": 16,
    "start_time": "2022-11-28T18:52:48.614Z"
   },
   {
    "duration": 9,
    "start_time": "2022-11-28T18:52:48.632Z"
   },
   {
    "duration": 8,
    "start_time": "2022-11-28T18:52:48.643Z"
   },
   {
    "duration": 16,
    "start_time": "2022-11-28T18:52:48.655Z"
   },
   {
    "duration": 32,
    "start_time": "2022-11-28T18:52:48.673Z"
   },
   {
    "duration": 17,
    "start_time": "2022-11-28T18:52:48.706Z"
   },
   {
    "duration": 13,
    "start_time": "2022-11-28T18:52:48.724Z"
   },
   {
    "duration": 11,
    "start_time": "2022-11-28T18:52:48.739Z"
   },
   {
    "duration": 16,
    "start_time": "2022-11-28T18:52:48.751Z"
   },
   {
    "duration": 11,
    "start_time": "2022-11-28T18:52:48.769Z"
   },
   {
    "duration": 26,
    "start_time": "2022-11-28T18:52:48.781Z"
   },
   {
    "duration": 10,
    "start_time": "2022-11-28T18:52:48.808Z"
   },
   {
    "duration": 15,
    "start_time": "2022-11-28T18:52:48.819Z"
   },
   {
    "duration": 2,
    "start_time": "2022-11-28T18:52:48.836Z"
   },
   {
    "duration": 15,
    "start_time": "2022-11-28T18:52:48.840Z"
   },
   {
    "duration": 9,
    "start_time": "2022-11-28T18:52:48.856Z"
   },
   {
    "duration": 13,
    "start_time": "2022-11-28T18:52:48.866Z"
   },
   {
    "duration": 19,
    "start_time": "2022-11-28T18:52:48.881Z"
   },
   {
    "duration": 618,
    "start_time": "2022-11-28T18:52:48.902Z"
   },
   {
    "duration": 509,
    "start_time": "2022-11-28T18:52:49.521Z"
   },
   {
    "duration": 604,
    "start_time": "2022-11-28T18:52:50.032Z"
   },
   {
    "duration": 491,
    "start_time": "2022-11-28T18:52:50.638Z"
   },
   {
    "duration": 613,
    "start_time": "2022-11-28T18:52:51.131Z"
   },
   {
    "duration": 5,
    "start_time": "2022-11-28T18:52:51.746Z"
   },
   {
    "duration": 6,
    "start_time": "2022-11-28T18:52:51.753Z"
   },
   {
    "duration": 138,
    "start_time": "2022-11-28T18:52:51.761Z"
   },
   {
    "duration": 50,
    "start_time": "2022-11-28T18:52:51.900Z"
   },
   {
    "duration": 3,
    "start_time": "2022-11-28T18:52:51.951Z"
   },
   {
    "duration": 14,
    "start_time": "2022-11-28T18:52:51.956Z"
   },
   {
    "duration": 10,
    "start_time": "2022-11-28T18:52:51.972Z"
   },
   {
    "duration": 11,
    "start_time": "2022-11-28T18:52:51.987Z"
   },
   {
    "duration": 121,
    "start_time": "2022-11-28T18:52:52.000Z"
   },
   {
    "duration": 4,
    "start_time": "2022-11-28T18:52:52.123Z"
   },
   {
    "duration": 200,
    "start_time": "2022-11-28T18:52:52.128Z"
   },
   {
    "duration": 4,
    "start_time": "2022-11-28T18:52:52.330Z"
   },
   {
    "duration": 385,
    "start_time": "2022-11-28T18:52:52.336Z"
   },
   {
    "duration": 388,
    "start_time": "2022-11-28T18:52:52.723Z"
   },
   {
    "duration": 150,
    "start_time": "2022-11-28T18:52:53.113Z"
   },
   {
    "duration": 454,
    "start_time": "2022-11-28T18:52:53.277Z"
   },
   {
    "duration": 431,
    "start_time": "2022-11-28T18:52:53.733Z"
   },
   {
    "duration": 508,
    "start_time": "2022-11-28T18:54:05.932Z"
   },
   {
    "duration": 558,
    "start_time": "2022-11-28T18:58:24.591Z"
   },
   {
    "duration": 570,
    "start_time": "2022-11-28T18:58:37.276Z"
   },
   {
    "duration": 576,
    "start_time": "2022-11-28T18:58:40.658Z"
   },
   {
    "duration": 649,
    "start_time": "2022-11-28T19:03:11.537Z"
   },
   {
    "duration": 457,
    "start_time": "2022-11-28T19:04:05.117Z"
   },
   {
    "duration": 462,
    "start_time": "2022-11-28T19:04:31.415Z"
   },
   {
    "duration": 545,
    "start_time": "2022-11-28T19:05:40.178Z"
   },
   {
    "duration": 567,
    "start_time": "2022-11-28T19:05:57.729Z"
   },
   {
    "duration": 716,
    "start_time": "2022-11-28T19:10:53.991Z"
   },
   {
    "duration": 1110,
    "start_time": "2022-11-28T19:14:33.098Z"
   },
   {
    "duration": 28,
    "start_time": "2022-11-28T19:14:34.210Z"
   },
   {
    "duration": 11,
    "start_time": "2022-11-28T19:14:34.240Z"
   },
   {
    "duration": 17,
    "start_time": "2022-11-28T19:14:34.253Z"
   },
   {
    "duration": 6,
    "start_time": "2022-11-28T19:14:34.271Z"
   },
   {
    "duration": 6,
    "start_time": "2022-11-28T19:14:34.278Z"
   },
   {
    "duration": 13,
    "start_time": "2022-11-28T19:14:34.286Z"
   },
   {
    "duration": 6,
    "start_time": "2022-11-28T19:14:34.300Z"
   },
   {
    "duration": 9,
    "start_time": "2022-11-28T19:14:34.308Z"
   },
   {
    "duration": 41,
    "start_time": "2022-11-28T19:14:34.319Z"
   },
   {
    "duration": 15,
    "start_time": "2022-11-28T19:14:34.362Z"
   },
   {
    "duration": 9,
    "start_time": "2022-11-28T19:14:34.379Z"
   },
   {
    "duration": 6,
    "start_time": "2022-11-28T19:14:34.389Z"
   },
   {
    "duration": 14,
    "start_time": "2022-11-28T19:14:34.396Z"
   },
   {
    "duration": 10,
    "start_time": "2022-11-28T19:14:34.411Z"
   },
   {
    "duration": 12,
    "start_time": "2022-11-28T19:14:34.422Z"
   },
   {
    "duration": 6,
    "start_time": "2022-11-28T19:14:34.435Z"
   },
   {
    "duration": 10,
    "start_time": "2022-11-28T19:14:34.442Z"
   },
   {
    "duration": 7,
    "start_time": "2022-11-28T19:14:34.453Z"
   },
   {
    "duration": 6,
    "start_time": "2022-11-28T19:14:34.478Z"
   },
   {
    "duration": 6,
    "start_time": "2022-11-28T19:14:34.485Z"
   },
   {
    "duration": 4,
    "start_time": "2022-11-28T19:14:34.493Z"
   },
   {
    "duration": 11,
    "start_time": "2022-11-28T19:14:34.498Z"
   },
   {
    "duration": 2,
    "start_time": "2022-11-28T19:14:34.510Z"
   },
   {
    "duration": 11,
    "start_time": "2022-11-28T19:14:34.514Z"
   },
   {
    "duration": 10,
    "start_time": "2022-11-28T19:14:34.527Z"
   },
   {
    "duration": 10,
    "start_time": "2022-11-28T19:14:34.538Z"
   },
   {
    "duration": 18,
    "start_time": "2022-11-28T19:14:34.580Z"
   },
   {
    "duration": 547,
    "start_time": "2022-11-28T19:14:34.600Z"
   },
   {
    "duration": 469,
    "start_time": "2022-11-28T19:14:35.148Z"
   },
   {
    "duration": 581,
    "start_time": "2022-11-28T19:14:35.619Z"
   },
   {
    "duration": 595,
    "start_time": "2022-11-28T19:14:36.201Z"
   },
   {
    "duration": 592,
    "start_time": "2022-11-28T19:14:36.797Z"
   },
   {
    "duration": 6,
    "start_time": "2022-11-28T19:14:37.390Z"
   },
   {
    "duration": 112,
    "start_time": "2022-11-28T19:14:37.397Z"
   },
   {
    "duration": 4,
    "start_time": "2022-11-28T19:14:37.510Z"
   },
   {
    "duration": 176,
    "start_time": "2022-11-28T19:14:37.516Z"
   },
   {
    "duration": 4,
    "start_time": "2022-11-28T19:14:37.695Z"
   },
   {
    "duration": 345,
    "start_time": "2022-11-28T19:14:37.701Z"
   },
   {
    "duration": 315,
    "start_time": "2022-11-28T19:14:38.048Z"
   },
   {
    "duration": 131,
    "start_time": "2022-11-28T19:14:38.365Z"
   },
   {
    "duration": 340,
    "start_time": "2022-11-28T19:14:38.498Z"
   },
   {
    "duration": 357,
    "start_time": "2022-11-28T19:14:38.839Z"
   },
   {
    "duration": 158,
    "start_time": "2022-11-28T19:28:52.261Z"
   },
   {
    "duration": 297,
    "start_time": "2022-11-28T19:30:18.919Z"
   },
   {
    "duration": 163,
    "start_time": "2022-11-28T19:30:30.240Z"
   },
   {
    "duration": 149,
    "start_time": "2022-11-28T19:30:43.142Z"
   },
   {
    "duration": 168,
    "start_time": "2022-11-28T19:30:51.789Z"
   },
   {
    "duration": 161,
    "start_time": "2022-11-28T19:31:00.237Z"
   },
   {
    "duration": 137,
    "start_time": "2022-11-28T19:31:07.669Z"
   },
   {
    "duration": 163,
    "start_time": "2022-11-28T19:31:18.561Z"
   },
   {
    "duration": 191,
    "start_time": "2022-11-28T19:33:37.021Z"
   },
   {
    "duration": 1042,
    "start_time": "2022-11-28T19:59:38.202Z"
   },
   {
    "duration": 27,
    "start_time": "2022-11-28T19:59:39.246Z"
   },
   {
    "duration": 10,
    "start_time": "2022-11-28T19:59:39.275Z"
   },
   {
    "duration": 13,
    "start_time": "2022-11-28T19:59:39.287Z"
   },
   {
    "duration": 5,
    "start_time": "2022-11-28T19:59:39.302Z"
   },
   {
    "duration": 8,
    "start_time": "2022-11-28T19:59:39.309Z"
   },
   {
    "duration": 12,
    "start_time": "2022-11-28T19:59:39.319Z"
   },
   {
    "duration": 14,
    "start_time": "2022-11-28T19:59:39.332Z"
   },
   {
    "duration": 19,
    "start_time": "2022-11-28T19:59:39.347Z"
   },
   {
    "duration": 52,
    "start_time": "2022-11-28T19:59:39.369Z"
   },
   {
    "duration": 16,
    "start_time": "2022-11-28T19:59:39.422Z"
   },
   {
    "duration": 11,
    "start_time": "2022-11-28T19:59:39.439Z"
   },
   {
    "duration": 25,
    "start_time": "2022-11-28T19:59:39.451Z"
   },
   {
    "duration": 23,
    "start_time": "2022-11-28T19:59:39.477Z"
   },
   {
    "duration": 15,
    "start_time": "2022-11-28T19:59:39.501Z"
   },
   {
    "duration": 15,
    "start_time": "2022-11-28T19:59:39.517Z"
   },
   {
    "duration": 24,
    "start_time": "2022-11-28T19:59:39.533Z"
   },
   {
    "duration": 28,
    "start_time": "2022-11-28T19:59:39.559Z"
   },
   {
    "duration": 14,
    "start_time": "2022-11-28T19:59:39.589Z"
   },
   {
    "duration": 22,
    "start_time": "2022-11-28T19:59:39.604Z"
   },
   {
    "duration": 19,
    "start_time": "2022-11-28T19:59:39.628Z"
   },
   {
    "duration": 31,
    "start_time": "2022-11-28T19:59:39.649Z"
   },
   {
    "duration": 20,
    "start_time": "2022-11-28T19:59:39.681Z"
   },
   {
    "duration": 12,
    "start_time": "2022-11-28T19:59:39.702Z"
   },
   {
    "duration": 17,
    "start_time": "2022-11-28T19:59:39.716Z"
   },
   {
    "duration": 14,
    "start_time": "2022-11-28T19:59:39.734Z"
   },
   {
    "duration": 31,
    "start_time": "2022-11-28T19:59:39.750Z"
   },
   {
    "duration": 14,
    "start_time": "2022-11-28T19:59:39.783Z"
   },
   {
    "duration": 543,
    "start_time": "2022-11-28T19:59:39.799Z"
   },
   {
    "duration": 478,
    "start_time": "2022-11-28T19:59:40.344Z"
   },
   {
    "duration": 589,
    "start_time": "2022-11-28T19:59:40.824Z"
   },
   {
    "duration": 591,
    "start_time": "2022-11-28T19:59:41.414Z"
   },
   {
    "duration": 580,
    "start_time": "2022-11-28T19:59:42.007Z"
   },
   {
    "duration": 5,
    "start_time": "2022-11-28T19:59:42.589Z"
   },
   {
    "duration": 122,
    "start_time": "2022-11-28T19:59:42.596Z"
   },
   {
    "duration": 4,
    "start_time": "2022-11-28T19:59:42.720Z"
   },
   {
    "duration": 188,
    "start_time": "2022-11-28T19:59:42.726Z"
   },
   {
    "duration": 170,
    "start_time": "2022-11-28T19:59:42.916Z"
   },
   {
    "duration": 181,
    "start_time": "2022-11-28T19:59:43.088Z"
   },
   {
    "duration": 10,
    "start_time": "2022-11-28T19:59:43.271Z"
   },
   {
    "duration": 176,
    "start_time": "2022-11-28T19:59:43.282Z"
   },
   {
    "duration": 0,
    "start_time": "2022-11-28T19:59:43.460Z"
   },
   {
    "duration": 0,
    "start_time": "2022-11-28T19:59:43.461Z"
   },
   {
    "duration": 0,
    "start_time": "2022-11-28T19:59:43.462Z"
   },
   {
    "duration": 0,
    "start_time": "2022-11-28T19:59:43.463Z"
   },
   {
    "duration": 132,
    "start_time": "2022-11-28T20:04:29.283Z"
   },
   {
    "duration": 325,
    "start_time": "2022-11-28T20:14:26.809Z"
   },
   {
    "duration": 352,
    "start_time": "2022-11-28T20:30:27.461Z"
   },
   {
    "duration": 1074,
    "start_time": "2022-11-28T20:31:24.191Z"
   },
   {
    "duration": 29,
    "start_time": "2022-11-28T20:31:25.267Z"
   },
   {
    "duration": 12,
    "start_time": "2022-11-28T20:31:25.297Z"
   },
   {
    "duration": 11,
    "start_time": "2022-11-28T20:31:25.312Z"
   },
   {
    "duration": 5,
    "start_time": "2022-11-28T20:31:25.324Z"
   },
   {
    "duration": 8,
    "start_time": "2022-11-28T20:31:25.330Z"
   },
   {
    "duration": 12,
    "start_time": "2022-11-28T20:31:25.339Z"
   },
   {
    "duration": 5,
    "start_time": "2022-11-28T20:31:25.352Z"
   },
   {
    "duration": 21,
    "start_time": "2022-11-28T20:31:25.358Z"
   },
   {
    "duration": 39,
    "start_time": "2022-11-28T20:31:25.381Z"
   },
   {
    "duration": 16,
    "start_time": "2022-11-28T20:31:25.422Z"
   },
   {
    "duration": 9,
    "start_time": "2022-11-28T20:31:25.440Z"
   },
   {
    "duration": 5,
    "start_time": "2022-11-28T20:31:25.451Z"
   },
   {
    "duration": 15,
    "start_time": "2022-11-28T20:31:25.457Z"
   },
   {
    "duration": 10,
    "start_time": "2022-11-28T20:31:25.473Z"
   },
   {
    "duration": 15,
    "start_time": "2022-11-28T20:31:25.484Z"
   },
   {
    "duration": 4,
    "start_time": "2022-11-28T20:31:25.501Z"
   },
   {
    "duration": 8,
    "start_time": "2022-11-28T20:31:25.507Z"
   },
   {
    "duration": 6,
    "start_time": "2022-11-28T20:31:25.517Z"
   },
   {
    "duration": 8,
    "start_time": "2022-11-28T20:31:25.525Z"
   },
   {
    "duration": 6,
    "start_time": "2022-11-28T20:31:25.534Z"
   },
   {
    "duration": 4,
    "start_time": "2022-11-28T20:31:25.542Z"
   },
   {
    "duration": 35,
    "start_time": "2022-11-28T20:31:25.548Z"
   },
   {
    "duration": 2,
    "start_time": "2022-11-28T20:31:25.585Z"
   },
   {
    "duration": 14,
    "start_time": "2022-11-28T20:31:25.589Z"
   },
   {
    "duration": 11,
    "start_time": "2022-11-28T20:31:25.605Z"
   },
   {
    "duration": 10,
    "start_time": "2022-11-28T20:31:25.617Z"
   },
   {
    "duration": 12,
    "start_time": "2022-11-28T20:31:25.631Z"
   },
   {
    "duration": 557,
    "start_time": "2022-11-28T20:31:25.678Z"
   },
   {
    "duration": 462,
    "start_time": "2022-11-28T20:31:26.236Z"
   },
   {
    "duration": 610,
    "start_time": "2022-11-28T20:31:26.700Z"
   },
   {
    "duration": 585,
    "start_time": "2022-11-28T20:31:27.312Z"
   },
   {
    "duration": 574,
    "start_time": "2022-11-28T20:31:27.899Z"
   },
   {
    "duration": 5,
    "start_time": "2022-11-28T20:31:28.478Z"
   },
   {
    "duration": 117,
    "start_time": "2022-11-28T20:31:28.484Z"
   },
   {
    "duration": 4,
    "start_time": "2022-11-28T20:31:28.602Z"
   },
   {
    "duration": 171,
    "start_time": "2022-11-28T20:31:28.608Z"
   },
   {
    "duration": 167,
    "start_time": "2022-11-28T20:31:28.781Z"
   },
   {
    "duration": 185,
    "start_time": "2022-11-28T20:31:28.949Z"
   },
   {
    "duration": 4,
    "start_time": "2022-11-28T20:31:29.136Z"
   },
   {
    "duration": 411,
    "start_time": "2022-11-28T20:31:29.141Z"
   },
   {
    "duration": 318,
    "start_time": "2022-11-28T20:31:29.554Z"
   },
   {
    "duration": 128,
    "start_time": "2022-11-28T20:31:29.873Z"
   },
   {
    "duration": 349,
    "start_time": "2022-11-28T20:31:30.002Z"
   },
   {
    "duration": 320,
    "start_time": "2022-11-28T20:31:30.353Z"
   },
   {
    "duration": 383,
    "start_time": "2022-11-28T20:39:19.889Z"
   },
   {
    "duration": 326,
    "start_time": "2022-11-28T20:40:33.176Z"
   },
   {
    "duration": 514,
    "start_time": "2022-11-28T20:51:03.865Z"
   },
   {
    "duration": 462,
    "start_time": "2022-11-28T20:51:23.402Z"
   },
   {
    "duration": 1425,
    "start_time": "2022-11-28T20:53:29.401Z"
   },
   {
    "duration": 137,
    "start_time": "2022-11-28T20:56:56.204Z"
   },
   {
    "duration": 461,
    "start_time": "2022-11-28T21:00:08.598Z"
   },
   {
    "duration": 142,
    "start_time": "2022-11-28T21:01:52.353Z"
   },
   {
    "duration": 130,
    "start_time": "2022-11-28T21:03:02.688Z"
   },
   {
    "duration": 126,
    "start_time": "2022-11-28T21:07:35.805Z"
   },
   {
    "duration": 76,
    "start_time": "2022-11-28T21:13:09.974Z"
   },
   {
    "duration": 1053,
    "start_time": "2022-11-28T21:40:17.586Z"
   },
   {
    "duration": 28,
    "start_time": "2022-11-28T21:40:18.641Z"
   },
   {
    "duration": 11,
    "start_time": "2022-11-28T21:40:18.670Z"
   },
   {
    "duration": 16,
    "start_time": "2022-11-28T21:40:18.682Z"
   },
   {
    "duration": 8,
    "start_time": "2022-11-28T21:40:18.699Z"
   },
   {
    "duration": 16,
    "start_time": "2022-11-28T21:40:18.708Z"
   },
   {
    "duration": 21,
    "start_time": "2022-11-28T21:40:18.726Z"
   },
   {
    "duration": 24,
    "start_time": "2022-11-28T21:40:18.748Z"
   },
   {
    "duration": 29,
    "start_time": "2022-11-28T21:40:18.774Z"
   },
   {
    "duration": 42,
    "start_time": "2022-11-28T21:40:18.806Z"
   },
   {
    "duration": 16,
    "start_time": "2022-11-28T21:40:18.849Z"
   },
   {
    "duration": 11,
    "start_time": "2022-11-28T21:40:18.867Z"
   },
   {
    "duration": 25,
    "start_time": "2022-11-28T21:40:18.880Z"
   },
   {
    "duration": 33,
    "start_time": "2022-11-28T21:40:18.907Z"
   },
   {
    "duration": 21,
    "start_time": "2022-11-28T21:40:18.941Z"
   },
   {
    "duration": 20,
    "start_time": "2022-11-28T21:40:18.963Z"
   },
   {
    "duration": 13,
    "start_time": "2022-11-28T21:40:18.984Z"
   },
   {
    "duration": 37,
    "start_time": "2022-11-28T21:40:18.998Z"
   },
   {
    "duration": 29,
    "start_time": "2022-11-28T21:40:19.037Z"
   },
   {
    "duration": 15,
    "start_time": "2022-11-28T21:40:19.067Z"
   },
   {
    "duration": 13,
    "start_time": "2022-11-28T21:40:19.083Z"
   },
   {
    "duration": 14,
    "start_time": "2022-11-28T21:40:19.097Z"
   },
   {
    "duration": 22,
    "start_time": "2022-11-28T21:40:19.113Z"
   },
   {
    "duration": 11,
    "start_time": "2022-11-28T21:40:19.137Z"
   },
   {
    "duration": 19,
    "start_time": "2022-11-28T21:40:19.150Z"
   },
   {
    "duration": 17,
    "start_time": "2022-11-28T21:40:19.171Z"
   },
   {
    "duration": 15,
    "start_time": "2022-11-28T21:40:19.190Z"
   },
   {
    "duration": 16,
    "start_time": "2022-11-28T21:40:19.209Z"
   },
   {
    "duration": 548,
    "start_time": "2022-11-28T21:40:19.226Z"
   },
   {
    "duration": 499,
    "start_time": "2022-11-28T21:40:19.777Z"
   },
   {
    "duration": 639,
    "start_time": "2022-11-28T21:40:20.278Z"
   },
   {
    "duration": 580,
    "start_time": "2022-11-28T21:40:20.919Z"
   },
   {
    "duration": 571,
    "start_time": "2022-11-28T21:40:21.500Z"
   },
   {
    "duration": 5,
    "start_time": "2022-11-28T21:40:22.078Z"
   },
   {
    "duration": 114,
    "start_time": "2022-11-28T21:40:22.085Z"
   },
   {
    "duration": 4,
    "start_time": "2022-11-28T21:40:22.201Z"
   },
   {
    "duration": 158,
    "start_time": "2022-11-28T21:40:22.206Z"
   },
   {
    "duration": 158,
    "start_time": "2022-11-28T21:40:22.366Z"
   },
   {
    "duration": 179,
    "start_time": "2022-11-28T21:40:22.525Z"
   },
   {
    "duration": 4,
    "start_time": "2022-11-28T21:40:22.706Z"
   },
   {
    "duration": 519,
    "start_time": "2022-11-28T21:40:22.711Z"
   },
   {
    "duration": 202,
    "start_time": "2022-11-28T21:40:23.231Z"
   },
   {
    "duration": 151,
    "start_time": "2022-11-28T21:40:23.434Z"
   },
   {
    "duration": 496,
    "start_time": "2022-11-28T21:40:23.587Z"
   },
   {
    "duration": 161,
    "start_time": "2022-11-28T21:40:24.085Z"
   },
   {
    "duration": 1233,
    "start_time": "2022-11-29T07:24:40.594Z"
   },
   {
    "duration": 83,
    "start_time": "2022-11-29T07:24:41.830Z"
   },
   {
    "duration": 13,
    "start_time": "2022-11-29T07:24:41.914Z"
   },
   {
    "duration": 14,
    "start_time": "2022-11-29T07:24:41.929Z"
   },
   {
    "duration": 6,
    "start_time": "2022-11-29T07:24:41.945Z"
   },
   {
    "duration": 5,
    "start_time": "2022-11-29T07:24:41.952Z"
   },
   {
    "duration": 13,
    "start_time": "2022-11-29T07:24:41.958Z"
   },
   {
    "duration": 9,
    "start_time": "2022-11-29T07:24:41.972Z"
   },
   {
    "duration": 29,
    "start_time": "2022-11-29T07:24:41.983Z"
   },
   {
    "duration": 94,
    "start_time": "2022-11-29T07:24:42.015Z"
   },
   {
    "duration": 65,
    "start_time": "2022-11-29T07:24:42.111Z"
   },
   {
    "duration": 12,
    "start_time": "2022-11-29T07:24:42.177Z"
   },
   {
    "duration": 16,
    "start_time": "2022-11-29T07:24:42.190Z"
   },
   {
    "duration": 18,
    "start_time": "2022-11-29T07:24:42.207Z"
   },
   {
    "duration": 19,
    "start_time": "2022-11-29T07:24:42.226Z"
   },
   {
    "duration": 11,
    "start_time": "2022-11-29T07:24:42.247Z"
   },
   {
    "duration": 8,
    "start_time": "2022-11-29T07:24:42.260Z"
   },
   {
    "duration": 14,
    "start_time": "2022-11-29T07:24:42.269Z"
   },
   {
    "duration": 10,
    "start_time": "2022-11-29T07:24:42.284Z"
   },
   {
    "duration": 9,
    "start_time": "2022-11-29T07:24:42.296Z"
   },
   {
    "duration": 13,
    "start_time": "2022-11-29T07:24:42.307Z"
   },
   {
    "duration": 6,
    "start_time": "2022-11-29T07:24:42.322Z"
   },
   {
    "duration": 14,
    "start_time": "2022-11-29T07:24:42.329Z"
   },
   {
    "duration": 2,
    "start_time": "2022-11-29T07:24:42.345Z"
   },
   {
    "duration": 31,
    "start_time": "2022-11-29T07:24:42.349Z"
   },
   {
    "duration": 19,
    "start_time": "2022-11-29T07:24:42.382Z"
   },
   {
    "duration": 11,
    "start_time": "2022-11-29T07:24:42.403Z"
   },
   {
    "duration": 14,
    "start_time": "2022-11-29T07:24:42.418Z"
   },
   {
    "duration": 1371,
    "start_time": "2022-11-29T07:24:42.434Z"
   },
   {
    "duration": 990,
    "start_time": "2022-11-29T07:24:43.806Z"
   },
   {
    "duration": 1111,
    "start_time": "2022-11-29T07:24:44.798Z"
   },
   {
    "duration": 698,
    "start_time": "2022-11-29T07:24:45.911Z"
   },
   {
    "duration": 586,
    "start_time": "2022-11-29T07:24:46.611Z"
   },
   {
    "duration": 6,
    "start_time": "2022-11-29T07:24:47.198Z"
   },
   {
    "duration": 113,
    "start_time": "2022-11-29T07:24:47.206Z"
   },
   {
    "duration": 5,
    "start_time": "2022-11-29T07:24:47.320Z"
   },
   {
    "duration": 165,
    "start_time": "2022-11-29T07:24:47.327Z"
   },
   {
    "duration": 157,
    "start_time": "2022-11-29T07:24:47.494Z"
   },
   {
    "duration": 179,
    "start_time": "2022-11-29T07:24:47.653Z"
   },
   {
    "duration": 4,
    "start_time": "2022-11-29T07:24:47.834Z"
   },
   {
    "duration": 467,
    "start_time": "2022-11-29T07:24:47.840Z"
   },
   {
    "duration": 198,
    "start_time": "2022-11-29T07:24:48.309Z"
   },
   {
    "duration": 130,
    "start_time": "2022-11-29T07:24:48.509Z"
   },
   {
    "duration": 481,
    "start_time": "2022-11-29T07:24:48.641Z"
   },
   {
    "duration": 162,
    "start_time": "2022-11-29T07:24:49.124Z"
   }
  ],
  "kernelspec": {
   "display_name": "Python 3 (ipykernel)",
   "language": "python",
   "name": "python3"
  },
  "language_info": {
   "codemirror_mode": {
    "name": "ipython",
    "version": 3
   },
   "file_extension": ".py",
   "mimetype": "text/x-python",
   "name": "python",
   "nbconvert_exporter": "python",
   "pygments_lexer": "ipython3",
   "version": "3.9.5"
  },
  "toc": {
   "base_numbering": 1,
   "nav_menu": {
    "height": "557px",
    "width": "820px"
   },
   "number_sections": true,
   "sideBar": true,
   "skip_h1_title": true,
   "title_cell": "Table of Contents",
   "title_sidebar": "Contents",
   "toc_cell": false,
   "toc_position": {
    "height": "595px",
    "left": "136px",
    "top": "138px",
    "width": "228.188px"
   },
   "toc_section_display": true,
   "toc_window_display": true
  }
 },
 "nbformat": 4,
 "nbformat_minor": 2
}
